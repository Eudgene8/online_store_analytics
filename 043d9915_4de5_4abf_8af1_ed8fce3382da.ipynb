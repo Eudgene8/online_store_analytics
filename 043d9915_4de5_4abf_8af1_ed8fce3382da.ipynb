{
  "cells": [
    {
      "cell_type": "markdown",
      "metadata": {
        "id": "CvbeleisLMo-"
      },
      "source": [
        "# Аналитика интернет магазина"
      ]
    },
    {
      "cell_type": "markdown",
      "metadata": {
        "id": "7XJbU8QZLMo-"
      },
      "source": [
        "**Цель исследования:** Вместе с отделом маркетинга подготовлен список гипотез для увеличения выручки. Необходимо приоритизировать гипотезы, запустите A/B-тест и проанализировать результаты.\n",
        "\n",
        "**Ход исследования:** Данные берем из трех файлов:\n",
        "- hypothesis.csv\n",
        "- orders.csv\n",
        "- visitors.csv\n",
        "\n",
        "В которых содержится информация о гипотезах, заказах и пользователях. На основании полученных файлов проведем исследование.\n",
        "\n",
        "**Этапы исследования:**\n",
        "\n",
        "- Загрузка данных;\n",
        "- Приоритизация гипотез;\n",
        "- Анализ A/B-теста;\n",
        "- Выводы."
      ]
    },
    {
      "cell_type": "markdown",
      "metadata": {
        "id": "DXbHDxFMLMo_"
      },
      "source": [
        "**Описание данных:**\n",
        "\n",
        "**Гипотезы** — hypothesis.csv\n",
        "- Hypothesis — краткое описание гипотезы;\n",
        "- Reach — охват пользователей по 10-балльной шкале;\n",
        "- Impact — влияние на пользователей по 10-балльной шкале;\n",
        "- Confidence — уверенность в гипотезе по 10-балльной шкале;\n",
        "- Efforts — затраты ресурсов на проверку гипотезы по 10-балльной шкале.\n",
        "\n",
        "**Заказы** — orders.csv\n",
        "- transactionId — идентификатор заказа;\n",
        "- visitorId — идентификатор пользователя, совершившего заказ;\n",
        "- date — дата, когда был совершён заказ;\n",
        "- revenue — выручка заказа;\n",
        "- group — группа A/B-теста, в которую попал заказ.\n",
        "\n",
        "**Пользователи** — visitors.csv\n",
        "- date — дата;\n",
        "- group — группа A/B-теста;\n",
        "- visitors — количество пользователей в указанную дату в указанной группе A/B-теста"
      ]
    },
    {
      "cell_type": "markdown",
      "metadata": {
        "id": "h2Yvqxd6LMo_"
      },
      "source": [
        "<div class=\"alert alert-block alert-success\">\n",
        "    \n",
        "<b>Комментарий ревьюера:</b> Хорошо, что во вступительной части ты указываешь всю важную информацию о проекте.\n",
        "</div>"
      ]
    },
    {
      "cell_type": "code",
      "execution_count": 1,
      "metadata": {
        "id": "zWhI95hmLMo_"
      },
      "outputs": [],
      "source": [
        "import pandas as pd\n",
        "import os\n",
        "import datetime as dt\n",
        "import numpy as np\n",
        "import matplotlib.pyplot as plt\n",
        "import scipy.stats as stats"
      ]
    },
    {
      "cell_type": "markdown",
      "metadata": {
        "id": "RXS4dtmXLMpA"
      },
      "source": [
        "<div class=\"alert alert-block alert-success\">\n",
        "    \n",
        "<b>Комментарий ревьюера:</b> Все нужные библиотеки загружены, отлично.\n",
        "</div>"
      ]
    },
    {
      "cell_type": "markdown",
      "metadata": {
        "id": "HISEg2OpLMpB"
      },
      "source": [
        "#### Шаг 1. Загрузка данных"
      ]
    },
    {
      "cell_type": "code",
      "execution_count": 9,
      "metadata": {
        "id": "2UR8w7_zLMpB"
      },
      "outputs": [],
      "source": [
        "# Загружаем файлы\n",
        "try:\n",
        "    hypothesis = pd.read_csv('/content/hypothesis.csv', sep=',', skipinitialspace = True)\n",
        "    orders = pd.read_csv('/content/orders.csv', sep=',', skipinitialspace = True)\n",
        "    visitors = pd.read_csv('/content/visitors.csv', sep=',', skipinitialspace = True)\n",
        "except:\n",
        "    print('Что-то не так с файлом. Проверь файл с данными.')"
      ]
    },
    {
      "cell_type": "code",
      "execution_count": 10,
      "metadata": {
        "colab": {
          "base_uri": "https://localhost:8080/",
          "height": 383
        },
        "id": "LACkqtQqLMpC",
        "outputId": "22349d25-697e-4da2-c176-071f018bc555"
      },
      "outputs": [
        {
          "output_type": "execute_result",
          "data": {
            "text/plain": [
              "                                                                                                     Hypothesis  \\\n",
              "0            Добавить два новых канала привлечения трафика, что позволит привлекать на 30% больше пользователей   \n",
              "1                                     Запустить собственную службу доставки, что сократит срок доставки заказов   \n",
              "2  Добавить блоки рекомендаций товаров на сайт интернет магазина, чтобы повысить конверсию и средний чек заказа   \n",
              "3           Изменить структура категорий, что увеличит конверсию, т.к. пользователи быстрее найдут нужный товар   \n",
              "4                              Изменить цвет фона главной страницы, чтобы увеличить вовлеченность пользователей   \n",
              "5                      Добавить страницу отзывов клиентов о магазине, что позволит увеличить количество заказов   \n",
              "6          Показать на главной странице баннеры с актуальными акциями и распродажами, чтобы увеличить конверсию   \n",
              "7              Добавить форму подписки на все основные страницы, чтобы собрать базу клиентов для email-рассылок   \n",
              "8                                                       Запустить акцию, дающую скидку на товар в день рождения   \n",
              "\n",
              "   Reach  Impact  Confidence  Efforts  \n",
              "0      3      10           8        6  \n",
              "1      2       5           4       10  \n",
              "2      8       3           7        3  \n",
              "3      8       3           3        8  \n",
              "4      3       1           1        1  \n",
              "5      3       2           2        3  \n",
              "6      5       3           8        3  \n",
              "7     10       7           8        5  \n",
              "8      1       9           9        5  "
            ],
            "text/html": [
              "\n",
              "  <div id=\"df-2083885d-8090-4d3a-997c-a2df9f720d16\" class=\"colab-df-container\">\n",
              "    <div>\n",
              "<style scoped>\n",
              "    .dataframe tbody tr th:only-of-type {\n",
              "        vertical-align: middle;\n",
              "    }\n",
              "\n",
              "    .dataframe tbody tr th {\n",
              "        vertical-align: top;\n",
              "    }\n",
              "\n",
              "    .dataframe thead th {\n",
              "        text-align: right;\n",
              "    }\n",
              "</style>\n",
              "<table border=\"1\" class=\"dataframe\">\n",
              "  <thead>\n",
              "    <tr style=\"text-align: right;\">\n",
              "      <th></th>\n",
              "      <th>Hypothesis</th>\n",
              "      <th>Reach</th>\n",
              "      <th>Impact</th>\n",
              "      <th>Confidence</th>\n",
              "      <th>Efforts</th>\n",
              "    </tr>\n",
              "  </thead>\n",
              "  <tbody>\n",
              "    <tr>\n",
              "      <th>0</th>\n",
              "      <td>Добавить два новых канала привлечения трафика, что позволит привлекать на 30% больше пользователей</td>\n",
              "      <td>3</td>\n",
              "      <td>10</td>\n",
              "      <td>8</td>\n",
              "      <td>6</td>\n",
              "    </tr>\n",
              "    <tr>\n",
              "      <th>1</th>\n",
              "      <td>Запустить собственную службу доставки, что сократит срок доставки заказов</td>\n",
              "      <td>2</td>\n",
              "      <td>5</td>\n",
              "      <td>4</td>\n",
              "      <td>10</td>\n",
              "    </tr>\n",
              "    <tr>\n",
              "      <th>2</th>\n",
              "      <td>Добавить блоки рекомендаций товаров на сайт интернет магазина, чтобы повысить конверсию и средний чек заказа</td>\n",
              "      <td>8</td>\n",
              "      <td>3</td>\n",
              "      <td>7</td>\n",
              "      <td>3</td>\n",
              "    </tr>\n",
              "    <tr>\n",
              "      <th>3</th>\n",
              "      <td>Изменить структура категорий, что увеличит конверсию, т.к. пользователи быстрее найдут нужный товар</td>\n",
              "      <td>8</td>\n",
              "      <td>3</td>\n",
              "      <td>3</td>\n",
              "      <td>8</td>\n",
              "    </tr>\n",
              "    <tr>\n",
              "      <th>4</th>\n",
              "      <td>Изменить цвет фона главной страницы, чтобы увеличить вовлеченность пользователей</td>\n",
              "      <td>3</td>\n",
              "      <td>1</td>\n",
              "      <td>1</td>\n",
              "      <td>1</td>\n",
              "    </tr>\n",
              "    <tr>\n",
              "      <th>5</th>\n",
              "      <td>Добавить страницу отзывов клиентов о магазине, что позволит увеличить количество заказов</td>\n",
              "      <td>3</td>\n",
              "      <td>2</td>\n",
              "      <td>2</td>\n",
              "      <td>3</td>\n",
              "    </tr>\n",
              "    <tr>\n",
              "      <th>6</th>\n",
              "      <td>Показать на главной странице баннеры с актуальными акциями и распродажами, чтобы увеличить конверсию</td>\n",
              "      <td>5</td>\n",
              "      <td>3</td>\n",
              "      <td>8</td>\n",
              "      <td>3</td>\n",
              "    </tr>\n",
              "    <tr>\n",
              "      <th>7</th>\n",
              "      <td>Добавить форму подписки на все основные страницы, чтобы собрать базу клиентов для email-рассылок</td>\n",
              "      <td>10</td>\n",
              "      <td>7</td>\n",
              "      <td>8</td>\n",
              "      <td>5</td>\n",
              "    </tr>\n",
              "    <tr>\n",
              "      <th>8</th>\n",
              "      <td>Запустить акцию, дающую скидку на товар в день рождения</td>\n",
              "      <td>1</td>\n",
              "      <td>9</td>\n",
              "      <td>9</td>\n",
              "      <td>5</td>\n",
              "    </tr>\n",
              "  </tbody>\n",
              "</table>\n",
              "</div>\n",
              "    <div class=\"colab-df-buttons\">\n",
              "\n",
              "  <div class=\"colab-df-container\">\n",
              "    <button class=\"colab-df-convert\" onclick=\"convertToInteractive('df-2083885d-8090-4d3a-997c-a2df9f720d16')\"\n",
              "            title=\"Convert this dataframe to an interactive table.\"\n",
              "            style=\"display:none;\">\n",
              "\n",
              "  <svg xmlns=\"http://www.w3.org/2000/svg\" height=\"24px\" viewBox=\"0 -960 960 960\">\n",
              "    <path d=\"M120-120v-720h720v720H120Zm60-500h600v-160H180v160Zm220 220h160v-160H400v160Zm0 220h160v-160H400v160ZM180-400h160v-160H180v160Zm440 0h160v-160H620v160ZM180-180h160v-160H180v160Zm440 0h160v-160H620v160Z\"/>\n",
              "  </svg>\n",
              "    </button>\n",
              "\n",
              "  <style>\n",
              "    .colab-df-container {\n",
              "      display:flex;\n",
              "      gap: 12px;\n",
              "    }\n",
              "\n",
              "    .colab-df-convert {\n",
              "      background-color: #E8F0FE;\n",
              "      border: none;\n",
              "      border-radius: 50%;\n",
              "      cursor: pointer;\n",
              "      display: none;\n",
              "      fill: #1967D2;\n",
              "      height: 32px;\n",
              "      padding: 0 0 0 0;\n",
              "      width: 32px;\n",
              "    }\n",
              "\n",
              "    .colab-df-convert:hover {\n",
              "      background-color: #E2EBFA;\n",
              "      box-shadow: 0px 1px 2px rgba(60, 64, 67, 0.3), 0px 1px 3px 1px rgba(60, 64, 67, 0.15);\n",
              "      fill: #174EA6;\n",
              "    }\n",
              "\n",
              "    .colab-df-buttons div {\n",
              "      margin-bottom: 4px;\n",
              "    }\n",
              "\n",
              "    [theme=dark] .colab-df-convert {\n",
              "      background-color: #3B4455;\n",
              "      fill: #D2E3FC;\n",
              "    }\n",
              "\n",
              "    [theme=dark] .colab-df-convert:hover {\n",
              "      background-color: #434B5C;\n",
              "      box-shadow: 0px 1px 3px 1px rgba(0, 0, 0, 0.15);\n",
              "      filter: drop-shadow(0px 1px 2px rgba(0, 0, 0, 0.3));\n",
              "      fill: #FFFFFF;\n",
              "    }\n",
              "  </style>\n",
              "\n",
              "    <script>\n",
              "      const buttonEl =\n",
              "        document.querySelector('#df-2083885d-8090-4d3a-997c-a2df9f720d16 button.colab-df-convert');\n",
              "      buttonEl.style.display =\n",
              "        google.colab.kernel.accessAllowed ? 'block' : 'none';\n",
              "\n",
              "      async function convertToInteractive(key) {\n",
              "        const element = document.querySelector('#df-2083885d-8090-4d3a-997c-a2df9f720d16');\n",
              "        const dataTable =\n",
              "          await google.colab.kernel.invokeFunction('convertToInteractive',\n",
              "                                                    [key], {});\n",
              "        if (!dataTable) return;\n",
              "\n",
              "        const docLinkHtml = 'Like what you see? Visit the ' +\n",
              "          '<a target=\"_blank\" href=https://colab.research.google.com/notebooks/data_table.ipynb>data table notebook</a>'\n",
              "          + ' to learn more about interactive tables.';\n",
              "        element.innerHTML = '';\n",
              "        dataTable['output_type'] = 'display_data';\n",
              "        await google.colab.output.renderOutput(dataTable, element);\n",
              "        const docLink = document.createElement('div');\n",
              "        docLink.innerHTML = docLinkHtml;\n",
              "        element.appendChild(docLink);\n",
              "      }\n",
              "    </script>\n",
              "  </div>\n",
              "\n",
              "\n",
              "<div id=\"df-f773e160-3e08-4555-b132-e136aee214e3\">\n",
              "  <button class=\"colab-df-quickchart\" onclick=\"quickchart('df-f773e160-3e08-4555-b132-e136aee214e3')\"\n",
              "            title=\"Suggest charts\"\n",
              "            style=\"display:none;\">\n",
              "\n",
              "<svg xmlns=\"http://www.w3.org/2000/svg\" height=\"24px\"viewBox=\"0 0 24 24\"\n",
              "     width=\"24px\">\n",
              "    <g>\n",
              "        <path d=\"M19 3H5c-1.1 0-2 .9-2 2v14c0 1.1.9 2 2 2h14c1.1 0 2-.9 2-2V5c0-1.1-.9-2-2-2zM9 17H7v-7h2v7zm4 0h-2V7h2v10zm4 0h-2v-4h2v4z\"/>\n",
              "    </g>\n",
              "</svg>\n",
              "  </button>\n",
              "\n",
              "<style>\n",
              "  .colab-df-quickchart {\n",
              "      --bg-color: #E8F0FE;\n",
              "      --fill-color: #1967D2;\n",
              "      --hover-bg-color: #E2EBFA;\n",
              "      --hover-fill-color: #174EA6;\n",
              "      --disabled-fill-color: #AAA;\n",
              "      --disabled-bg-color: #DDD;\n",
              "  }\n",
              "\n",
              "  [theme=dark] .colab-df-quickchart {\n",
              "      --bg-color: #3B4455;\n",
              "      --fill-color: #D2E3FC;\n",
              "      --hover-bg-color: #434B5C;\n",
              "      --hover-fill-color: #FFFFFF;\n",
              "      --disabled-bg-color: #3B4455;\n",
              "      --disabled-fill-color: #666;\n",
              "  }\n",
              "\n",
              "  .colab-df-quickchart {\n",
              "    background-color: var(--bg-color);\n",
              "    border: none;\n",
              "    border-radius: 50%;\n",
              "    cursor: pointer;\n",
              "    display: none;\n",
              "    fill: var(--fill-color);\n",
              "    height: 32px;\n",
              "    padding: 0;\n",
              "    width: 32px;\n",
              "  }\n",
              "\n",
              "  .colab-df-quickchart:hover {\n",
              "    background-color: var(--hover-bg-color);\n",
              "    box-shadow: 0 1px 2px rgba(60, 64, 67, 0.3), 0 1px 3px 1px rgba(60, 64, 67, 0.15);\n",
              "    fill: var(--button-hover-fill-color);\n",
              "  }\n",
              "\n",
              "  .colab-df-quickchart-complete:disabled,\n",
              "  .colab-df-quickchart-complete:disabled:hover {\n",
              "    background-color: var(--disabled-bg-color);\n",
              "    fill: var(--disabled-fill-color);\n",
              "    box-shadow: none;\n",
              "  }\n",
              "\n",
              "  .colab-df-spinner {\n",
              "    border: 2px solid var(--fill-color);\n",
              "    border-color: transparent;\n",
              "    border-bottom-color: var(--fill-color);\n",
              "    animation:\n",
              "      spin 1s steps(1) infinite;\n",
              "  }\n",
              "\n",
              "  @keyframes spin {\n",
              "    0% {\n",
              "      border-color: transparent;\n",
              "      border-bottom-color: var(--fill-color);\n",
              "      border-left-color: var(--fill-color);\n",
              "    }\n",
              "    20% {\n",
              "      border-color: transparent;\n",
              "      border-left-color: var(--fill-color);\n",
              "      border-top-color: var(--fill-color);\n",
              "    }\n",
              "    30% {\n",
              "      border-color: transparent;\n",
              "      border-left-color: var(--fill-color);\n",
              "      border-top-color: var(--fill-color);\n",
              "      border-right-color: var(--fill-color);\n",
              "    }\n",
              "    40% {\n",
              "      border-color: transparent;\n",
              "      border-right-color: var(--fill-color);\n",
              "      border-top-color: var(--fill-color);\n",
              "    }\n",
              "    60% {\n",
              "      border-color: transparent;\n",
              "      border-right-color: var(--fill-color);\n",
              "    }\n",
              "    80% {\n",
              "      border-color: transparent;\n",
              "      border-right-color: var(--fill-color);\n",
              "      border-bottom-color: var(--fill-color);\n",
              "    }\n",
              "    90% {\n",
              "      border-color: transparent;\n",
              "      border-bottom-color: var(--fill-color);\n",
              "    }\n",
              "  }\n",
              "</style>\n",
              "\n",
              "  <script>\n",
              "    async function quickchart(key) {\n",
              "      const quickchartButtonEl =\n",
              "        document.querySelector('#' + key + ' button');\n",
              "      quickchartButtonEl.disabled = true;  // To prevent multiple clicks.\n",
              "      quickchartButtonEl.classList.add('colab-df-spinner');\n",
              "      try {\n",
              "        const charts = await google.colab.kernel.invokeFunction(\n",
              "            'suggestCharts', [key], {});\n",
              "      } catch (error) {\n",
              "        console.error('Error during call to suggestCharts:', error);\n",
              "      }\n",
              "      quickchartButtonEl.classList.remove('colab-df-spinner');\n",
              "      quickchartButtonEl.classList.add('colab-df-quickchart-complete');\n",
              "    }\n",
              "    (() => {\n",
              "      let quickchartButtonEl =\n",
              "        document.querySelector('#df-f773e160-3e08-4555-b132-e136aee214e3 button');\n",
              "      quickchartButtonEl.style.display =\n",
              "        google.colab.kernel.accessAllowed ? 'block' : 'none';\n",
              "    })();\n",
              "  </script>\n",
              "</div>\n",
              "    </div>\n",
              "  </div>\n"
            ],
            "application/vnd.google.colaboratory.intrinsic+json": {
              "type": "dataframe",
              "variable_name": "hypothesis",
              "summary": "{\n  \"name\": \"hypothesis\",\n  \"rows\": 9,\n  \"fields\": [\n    {\n      \"column\": \"Hypothesis\",\n      \"properties\": {\n        \"dtype\": \"string\",\n        \"num_unique_values\": 9,\n        \"samples\": [\n          \"\\u0414\\u043e\\u0431\\u0430\\u0432\\u0438\\u0442\\u044c \\u0444\\u043e\\u0440\\u043c\\u0443 \\u043f\\u043e\\u0434\\u043f\\u0438\\u0441\\u043a\\u0438 \\u043d\\u0430 \\u0432\\u0441\\u0435 \\u043e\\u0441\\u043d\\u043e\\u0432\\u043d\\u044b\\u0435 \\u0441\\u0442\\u0440\\u0430\\u043d\\u0438\\u0446\\u044b, \\u0447\\u0442\\u043e\\u0431\\u044b \\u0441\\u043e\\u0431\\u0440\\u0430\\u0442\\u044c \\u0431\\u0430\\u0437\\u0443 \\u043a\\u043b\\u0438\\u0435\\u043d\\u0442\\u043e\\u0432 \\u0434\\u043b\\u044f email-\\u0440\\u0430\\u0441\\u0441\\u044b\\u043b\\u043e\\u043a\",\n          \"\\u0417\\u0430\\u043f\\u0443\\u0441\\u0442\\u0438\\u0442\\u044c \\u0441\\u043e\\u0431\\u0441\\u0442\\u0432\\u0435\\u043d\\u043d\\u0443\\u044e \\u0441\\u043b\\u0443\\u0436\\u0431\\u0443 \\u0434\\u043e\\u0441\\u0442\\u0430\\u0432\\u043a\\u0438, \\u0447\\u0442\\u043e \\u0441\\u043e\\u043a\\u0440\\u0430\\u0442\\u0438\\u0442 \\u0441\\u0440\\u043e\\u043a \\u0434\\u043e\\u0441\\u0442\\u0430\\u0432\\u043a\\u0438 \\u0437\\u0430\\u043a\\u0430\\u0437\\u043e\\u0432\",\n          \"\\u0414\\u043e\\u0431\\u0430\\u0432\\u0438\\u0442\\u044c \\u0441\\u0442\\u0440\\u0430\\u043d\\u0438\\u0446\\u0443 \\u043e\\u0442\\u0437\\u044b\\u0432\\u043e\\u0432 \\u043a\\u043b\\u0438\\u0435\\u043d\\u0442\\u043e\\u0432 \\u043e \\u043c\\u0430\\u0433\\u0430\\u0437\\u0438\\u043d\\u0435, \\u0447\\u0442\\u043e \\u043f\\u043e\\u0437\\u0432\\u043e\\u043b\\u0438\\u0442 \\u0443\\u0432\\u0435\\u043b\\u0438\\u0447\\u0438\\u0442\\u044c \\u043a\\u043e\\u043b\\u0438\\u0447\\u0435\\u0441\\u0442\\u0432\\u043e \\u0437\\u0430\\u043a\\u0430\\u0437\\u043e\\u0432\"\n        ],\n        \"semantic_type\": \"\",\n        \"description\": \"\"\n      }\n    },\n    {\n      \"column\": \"Reach\",\n      \"properties\": {\n        \"dtype\": \"number\",\n        \"std\": 3,\n        \"min\": 1,\n        \"max\": 10,\n        \"num_unique_values\": 6,\n        \"samples\": [\n          3,\n          2,\n          1\n        ],\n        \"semantic_type\": \"\",\n        \"description\": \"\"\n      }\n    },\n    {\n      \"column\": \"Impact\",\n      \"properties\": {\n        \"dtype\": \"number\",\n        \"std\": 3,\n        \"min\": 1,\n        \"max\": 10,\n        \"num_unique_values\": 7,\n        \"samples\": [\n          10,\n          5,\n          7\n        ],\n        \"semantic_type\": \"\",\n        \"description\": \"\"\n      }\n    },\n    {\n      \"column\": \"Confidence\",\n      \"properties\": {\n        \"dtype\": \"number\",\n        \"std\": 3,\n        \"min\": 1,\n        \"max\": 9,\n        \"num_unique_values\": 7,\n        \"samples\": [\n          8,\n          4,\n          2\n        ],\n        \"semantic_type\": \"\",\n        \"description\": \"\"\n      }\n    },\n    {\n      \"column\": \"Efforts\",\n      \"properties\": {\n        \"dtype\": \"number\",\n        \"std\": 2,\n        \"min\": 1,\n        \"max\": 10,\n        \"num_unique_values\": 6,\n        \"samples\": [\n          6,\n          10,\n          5\n        ],\n        \"semantic_type\": \"\",\n        \"description\": \"\"\n      }\n    }\n  ]\n}"
            }
          },
          "metadata": {},
          "execution_count": 10
        }
      ],
      "source": [
        "# Выведем таблицу и общую информацию\n",
        "pd.set_option('max_colwidth', 200)\n",
        "hypothesis"
      ]
    },
    {
      "cell_type": "code",
      "execution_count": 11,
      "metadata": {
        "colab": {
          "base_uri": "https://localhost:8080/"
        },
        "id": "IyWNn2PHLMpD",
        "outputId": "f292344f-f16c-4cc3-9f14-61986ff38d05"
      },
      "outputs": [
        {
          "output_type": "stream",
          "name": "stdout",
          "text": [
            "<class 'pandas.core.frame.DataFrame'>\n",
            "RangeIndex: 9 entries, 0 to 8\n",
            "Data columns (total 5 columns):\n",
            " #   Column      Non-Null Count  Dtype \n",
            "---  ------      --------------  ----- \n",
            " 0   Hypothesis  9 non-null      object\n",
            " 1   Reach       9 non-null      int64 \n",
            " 2   Impact      9 non-null      int64 \n",
            " 3   Confidence  9 non-null      int64 \n",
            " 4   Efforts     9 non-null      int64 \n",
            "dtypes: int64(4), object(1)\n",
            "memory usage: 488.0+ bytes\n"
          ]
        }
      ],
      "source": [
        "hypothesis.info()"
      ]
    },
    {
      "cell_type": "code",
      "execution_count": 12,
      "metadata": {
        "colab": {
          "base_uri": "https://localhost:8080/",
          "height": 206
        },
        "id": "nvzhRmovLMpE",
        "outputId": "7bef9a9a-47c9-43ce-8b08-f358dbb28356"
      },
      "outputs": [
        {
          "output_type": "execute_result",
          "data": {
            "text/plain": [
              "   transactionId   visitorId        date  revenue group\n",
              "0     3667963787  3312258926  2019-08-15     1650     B\n",
              "1     2804400009  3642806036  2019-08-15      730     B\n",
              "2     2961555356  4069496402  2019-08-15      400     A\n",
              "3     3797467345  1196621759  2019-08-15     9759     B\n",
              "4     2282983706  2322279887  2019-08-15     2308     B"
            ],
            "text/html": [
              "\n",
              "  <div id=\"df-90933967-9dd0-4fd2-9bce-dfb89126bca5\" class=\"colab-df-container\">\n",
              "    <div>\n",
              "<style scoped>\n",
              "    .dataframe tbody tr th:only-of-type {\n",
              "        vertical-align: middle;\n",
              "    }\n",
              "\n",
              "    .dataframe tbody tr th {\n",
              "        vertical-align: top;\n",
              "    }\n",
              "\n",
              "    .dataframe thead th {\n",
              "        text-align: right;\n",
              "    }\n",
              "</style>\n",
              "<table border=\"1\" class=\"dataframe\">\n",
              "  <thead>\n",
              "    <tr style=\"text-align: right;\">\n",
              "      <th></th>\n",
              "      <th>transactionId</th>\n",
              "      <th>visitorId</th>\n",
              "      <th>date</th>\n",
              "      <th>revenue</th>\n",
              "      <th>group</th>\n",
              "    </tr>\n",
              "  </thead>\n",
              "  <tbody>\n",
              "    <tr>\n",
              "      <th>0</th>\n",
              "      <td>3667963787</td>\n",
              "      <td>3312258926</td>\n",
              "      <td>2019-08-15</td>\n",
              "      <td>1650</td>\n",
              "      <td>B</td>\n",
              "    </tr>\n",
              "    <tr>\n",
              "      <th>1</th>\n",
              "      <td>2804400009</td>\n",
              "      <td>3642806036</td>\n",
              "      <td>2019-08-15</td>\n",
              "      <td>730</td>\n",
              "      <td>B</td>\n",
              "    </tr>\n",
              "    <tr>\n",
              "      <th>2</th>\n",
              "      <td>2961555356</td>\n",
              "      <td>4069496402</td>\n",
              "      <td>2019-08-15</td>\n",
              "      <td>400</td>\n",
              "      <td>A</td>\n",
              "    </tr>\n",
              "    <tr>\n",
              "      <th>3</th>\n",
              "      <td>3797467345</td>\n",
              "      <td>1196621759</td>\n",
              "      <td>2019-08-15</td>\n",
              "      <td>9759</td>\n",
              "      <td>B</td>\n",
              "    </tr>\n",
              "    <tr>\n",
              "      <th>4</th>\n",
              "      <td>2282983706</td>\n",
              "      <td>2322279887</td>\n",
              "      <td>2019-08-15</td>\n",
              "      <td>2308</td>\n",
              "      <td>B</td>\n",
              "    </tr>\n",
              "  </tbody>\n",
              "</table>\n",
              "</div>\n",
              "    <div class=\"colab-df-buttons\">\n",
              "\n",
              "  <div class=\"colab-df-container\">\n",
              "    <button class=\"colab-df-convert\" onclick=\"convertToInteractive('df-90933967-9dd0-4fd2-9bce-dfb89126bca5')\"\n",
              "            title=\"Convert this dataframe to an interactive table.\"\n",
              "            style=\"display:none;\">\n",
              "\n",
              "  <svg xmlns=\"http://www.w3.org/2000/svg\" height=\"24px\" viewBox=\"0 -960 960 960\">\n",
              "    <path d=\"M120-120v-720h720v720H120Zm60-500h600v-160H180v160Zm220 220h160v-160H400v160Zm0 220h160v-160H400v160ZM180-400h160v-160H180v160Zm440 0h160v-160H620v160ZM180-180h160v-160H180v160Zm440 0h160v-160H620v160Z\"/>\n",
              "  </svg>\n",
              "    </button>\n",
              "\n",
              "  <style>\n",
              "    .colab-df-container {\n",
              "      display:flex;\n",
              "      gap: 12px;\n",
              "    }\n",
              "\n",
              "    .colab-df-convert {\n",
              "      background-color: #E8F0FE;\n",
              "      border: none;\n",
              "      border-radius: 50%;\n",
              "      cursor: pointer;\n",
              "      display: none;\n",
              "      fill: #1967D2;\n",
              "      height: 32px;\n",
              "      padding: 0 0 0 0;\n",
              "      width: 32px;\n",
              "    }\n",
              "\n",
              "    .colab-df-convert:hover {\n",
              "      background-color: #E2EBFA;\n",
              "      box-shadow: 0px 1px 2px rgba(60, 64, 67, 0.3), 0px 1px 3px 1px rgba(60, 64, 67, 0.15);\n",
              "      fill: #174EA6;\n",
              "    }\n",
              "\n",
              "    .colab-df-buttons div {\n",
              "      margin-bottom: 4px;\n",
              "    }\n",
              "\n",
              "    [theme=dark] .colab-df-convert {\n",
              "      background-color: #3B4455;\n",
              "      fill: #D2E3FC;\n",
              "    }\n",
              "\n",
              "    [theme=dark] .colab-df-convert:hover {\n",
              "      background-color: #434B5C;\n",
              "      box-shadow: 0px 1px 3px 1px rgba(0, 0, 0, 0.15);\n",
              "      filter: drop-shadow(0px 1px 2px rgba(0, 0, 0, 0.3));\n",
              "      fill: #FFFFFF;\n",
              "    }\n",
              "  </style>\n",
              "\n",
              "    <script>\n",
              "      const buttonEl =\n",
              "        document.querySelector('#df-90933967-9dd0-4fd2-9bce-dfb89126bca5 button.colab-df-convert');\n",
              "      buttonEl.style.display =\n",
              "        google.colab.kernel.accessAllowed ? 'block' : 'none';\n",
              "\n",
              "      async function convertToInteractive(key) {\n",
              "        const element = document.querySelector('#df-90933967-9dd0-4fd2-9bce-dfb89126bca5');\n",
              "        const dataTable =\n",
              "          await google.colab.kernel.invokeFunction('convertToInteractive',\n",
              "                                                    [key], {});\n",
              "        if (!dataTable) return;\n",
              "\n",
              "        const docLinkHtml = 'Like what you see? Visit the ' +\n",
              "          '<a target=\"_blank\" href=https://colab.research.google.com/notebooks/data_table.ipynb>data table notebook</a>'\n",
              "          + ' to learn more about interactive tables.';\n",
              "        element.innerHTML = '';\n",
              "        dataTable['output_type'] = 'display_data';\n",
              "        await google.colab.output.renderOutput(dataTable, element);\n",
              "        const docLink = document.createElement('div');\n",
              "        docLink.innerHTML = docLinkHtml;\n",
              "        element.appendChild(docLink);\n",
              "      }\n",
              "    </script>\n",
              "  </div>\n",
              "\n",
              "\n",
              "<div id=\"df-c3a7d531-ee06-429d-b832-77c391dc7f98\">\n",
              "  <button class=\"colab-df-quickchart\" onclick=\"quickchart('df-c3a7d531-ee06-429d-b832-77c391dc7f98')\"\n",
              "            title=\"Suggest charts\"\n",
              "            style=\"display:none;\">\n",
              "\n",
              "<svg xmlns=\"http://www.w3.org/2000/svg\" height=\"24px\"viewBox=\"0 0 24 24\"\n",
              "     width=\"24px\">\n",
              "    <g>\n",
              "        <path d=\"M19 3H5c-1.1 0-2 .9-2 2v14c0 1.1.9 2 2 2h14c1.1 0 2-.9 2-2V5c0-1.1-.9-2-2-2zM9 17H7v-7h2v7zm4 0h-2V7h2v10zm4 0h-2v-4h2v4z\"/>\n",
              "    </g>\n",
              "</svg>\n",
              "  </button>\n",
              "\n",
              "<style>\n",
              "  .colab-df-quickchart {\n",
              "      --bg-color: #E8F0FE;\n",
              "      --fill-color: #1967D2;\n",
              "      --hover-bg-color: #E2EBFA;\n",
              "      --hover-fill-color: #174EA6;\n",
              "      --disabled-fill-color: #AAA;\n",
              "      --disabled-bg-color: #DDD;\n",
              "  }\n",
              "\n",
              "  [theme=dark] .colab-df-quickchart {\n",
              "      --bg-color: #3B4455;\n",
              "      --fill-color: #D2E3FC;\n",
              "      --hover-bg-color: #434B5C;\n",
              "      --hover-fill-color: #FFFFFF;\n",
              "      --disabled-bg-color: #3B4455;\n",
              "      --disabled-fill-color: #666;\n",
              "  }\n",
              "\n",
              "  .colab-df-quickchart {\n",
              "    background-color: var(--bg-color);\n",
              "    border: none;\n",
              "    border-radius: 50%;\n",
              "    cursor: pointer;\n",
              "    display: none;\n",
              "    fill: var(--fill-color);\n",
              "    height: 32px;\n",
              "    padding: 0;\n",
              "    width: 32px;\n",
              "  }\n",
              "\n",
              "  .colab-df-quickchart:hover {\n",
              "    background-color: var(--hover-bg-color);\n",
              "    box-shadow: 0 1px 2px rgba(60, 64, 67, 0.3), 0 1px 3px 1px rgba(60, 64, 67, 0.15);\n",
              "    fill: var(--button-hover-fill-color);\n",
              "  }\n",
              "\n",
              "  .colab-df-quickchart-complete:disabled,\n",
              "  .colab-df-quickchart-complete:disabled:hover {\n",
              "    background-color: var(--disabled-bg-color);\n",
              "    fill: var(--disabled-fill-color);\n",
              "    box-shadow: none;\n",
              "  }\n",
              "\n",
              "  .colab-df-spinner {\n",
              "    border: 2px solid var(--fill-color);\n",
              "    border-color: transparent;\n",
              "    border-bottom-color: var(--fill-color);\n",
              "    animation:\n",
              "      spin 1s steps(1) infinite;\n",
              "  }\n",
              "\n",
              "  @keyframes spin {\n",
              "    0% {\n",
              "      border-color: transparent;\n",
              "      border-bottom-color: var(--fill-color);\n",
              "      border-left-color: var(--fill-color);\n",
              "    }\n",
              "    20% {\n",
              "      border-color: transparent;\n",
              "      border-left-color: var(--fill-color);\n",
              "      border-top-color: var(--fill-color);\n",
              "    }\n",
              "    30% {\n",
              "      border-color: transparent;\n",
              "      border-left-color: var(--fill-color);\n",
              "      border-top-color: var(--fill-color);\n",
              "      border-right-color: var(--fill-color);\n",
              "    }\n",
              "    40% {\n",
              "      border-color: transparent;\n",
              "      border-right-color: var(--fill-color);\n",
              "      border-top-color: var(--fill-color);\n",
              "    }\n",
              "    60% {\n",
              "      border-color: transparent;\n",
              "      border-right-color: var(--fill-color);\n",
              "    }\n",
              "    80% {\n",
              "      border-color: transparent;\n",
              "      border-right-color: var(--fill-color);\n",
              "      border-bottom-color: var(--fill-color);\n",
              "    }\n",
              "    90% {\n",
              "      border-color: transparent;\n",
              "      border-bottom-color: var(--fill-color);\n",
              "    }\n",
              "  }\n",
              "</style>\n",
              "\n",
              "  <script>\n",
              "    async function quickchart(key) {\n",
              "      const quickchartButtonEl =\n",
              "        document.querySelector('#' + key + ' button');\n",
              "      quickchartButtonEl.disabled = true;  // To prevent multiple clicks.\n",
              "      quickchartButtonEl.classList.add('colab-df-spinner');\n",
              "      try {\n",
              "        const charts = await google.colab.kernel.invokeFunction(\n",
              "            'suggestCharts', [key], {});\n",
              "      } catch (error) {\n",
              "        console.error('Error during call to suggestCharts:', error);\n",
              "      }\n",
              "      quickchartButtonEl.classList.remove('colab-df-spinner');\n",
              "      quickchartButtonEl.classList.add('colab-df-quickchart-complete');\n",
              "    }\n",
              "    (() => {\n",
              "      let quickchartButtonEl =\n",
              "        document.querySelector('#df-c3a7d531-ee06-429d-b832-77c391dc7f98 button');\n",
              "      quickchartButtonEl.style.display =\n",
              "        google.colab.kernel.accessAllowed ? 'block' : 'none';\n",
              "    })();\n",
              "  </script>\n",
              "</div>\n",
              "    </div>\n",
              "  </div>\n"
            ],
            "application/vnd.google.colaboratory.intrinsic+json": {
              "type": "dataframe",
              "variable_name": "orders",
              "repr_error": "'str' object has no attribute 'empty'"
            }
          },
          "metadata": {},
          "execution_count": 12
        }
      ],
      "source": [
        "# Выведем по 5 строк для понимания что у нас в таблицах и общую информацию\n",
        "orders.head(5)"
      ]
    },
    {
      "cell_type": "code",
      "execution_count": 13,
      "metadata": {
        "colab": {
          "base_uri": "https://localhost:8080/"
        },
        "id": "fxKGOW2LLMpE",
        "outputId": "e70946dc-13b0-48a3-d28e-6b19f688504c"
      },
      "outputs": [
        {
          "output_type": "stream",
          "name": "stdout",
          "text": [
            "<class 'pandas.core.frame.DataFrame'>\n",
            "RangeIndex: 1197 entries, 0 to 1196\n",
            "Data columns (total 5 columns):\n",
            " #   Column         Non-Null Count  Dtype \n",
            "---  ------         --------------  ----- \n",
            " 0   transactionId  1197 non-null   int64 \n",
            " 1   visitorId      1197 non-null   int64 \n",
            " 2   date           1197 non-null   object\n",
            " 3   revenue        1197 non-null   int64 \n",
            " 4   group          1197 non-null   object\n",
            "dtypes: int64(3), object(2)\n",
            "memory usage: 46.9+ KB\n"
          ]
        }
      ],
      "source": [
        "orders.info()"
      ]
    },
    {
      "cell_type": "code",
      "execution_count": 14,
      "metadata": {
        "colab": {
          "base_uri": "https://localhost:8080/"
        },
        "id": "oPcv0DTKLMpE",
        "outputId": "74ed7ca4-c698-49e4-cb65-fb33d58698e8"
      },
      "outputs": [
        {
          "output_type": "stream",
          "name": "stdout",
          "text": [
            "Количество дубликатов в таблице Заказы: 0\n"
          ]
        }
      ],
      "source": [
        "# Теперь проверим на явные дубликаты\n",
        "print(\"Количество дубликатов в таблице Заказы:\", orders.duplicated().sum())"
      ]
    },
    {
      "cell_type": "markdown",
      "metadata": {
        "id": "XPXjlbu1LMpF"
      },
      "source": [
        "<div class=\"alert alert-info\">\n",
        "    \n",
        "Явных дубликатов в таблице нет.\n",
        "</div>"
      ]
    },
    {
      "cell_type": "code",
      "execution_count": 15,
      "metadata": {
        "colab": {
          "base_uri": "https://localhost:8080/",
          "height": 206
        },
        "id": "YZ0YH3bNLMpF",
        "outputId": "754f4411-2aeb-4f81-a909-58bbc99ba32b"
      },
      "outputs": [
        {
          "output_type": "execute_result",
          "data": {
            "text/plain": [
              "         date group  visitors\n",
              "0  2019-08-01     A       719\n",
              "1  2019-08-02     A       619\n",
              "2  2019-08-03     A       507\n",
              "3  2019-08-04     A       717\n",
              "4  2019-08-05     A       756"
            ],
            "text/html": [
              "\n",
              "  <div id=\"df-bf92eabf-a018-4e40-8646-bf2510d18f9e\" class=\"colab-df-container\">\n",
              "    <div>\n",
              "<style scoped>\n",
              "    .dataframe tbody tr th:only-of-type {\n",
              "        vertical-align: middle;\n",
              "    }\n",
              "\n",
              "    .dataframe tbody tr th {\n",
              "        vertical-align: top;\n",
              "    }\n",
              "\n",
              "    .dataframe thead th {\n",
              "        text-align: right;\n",
              "    }\n",
              "</style>\n",
              "<table border=\"1\" class=\"dataframe\">\n",
              "  <thead>\n",
              "    <tr style=\"text-align: right;\">\n",
              "      <th></th>\n",
              "      <th>date</th>\n",
              "      <th>group</th>\n",
              "      <th>visitors</th>\n",
              "    </tr>\n",
              "  </thead>\n",
              "  <tbody>\n",
              "    <tr>\n",
              "      <th>0</th>\n",
              "      <td>2019-08-01</td>\n",
              "      <td>A</td>\n",
              "      <td>719</td>\n",
              "    </tr>\n",
              "    <tr>\n",
              "      <th>1</th>\n",
              "      <td>2019-08-02</td>\n",
              "      <td>A</td>\n",
              "      <td>619</td>\n",
              "    </tr>\n",
              "    <tr>\n",
              "      <th>2</th>\n",
              "      <td>2019-08-03</td>\n",
              "      <td>A</td>\n",
              "      <td>507</td>\n",
              "    </tr>\n",
              "    <tr>\n",
              "      <th>3</th>\n",
              "      <td>2019-08-04</td>\n",
              "      <td>A</td>\n",
              "      <td>717</td>\n",
              "    </tr>\n",
              "    <tr>\n",
              "      <th>4</th>\n",
              "      <td>2019-08-05</td>\n",
              "      <td>A</td>\n",
              "      <td>756</td>\n",
              "    </tr>\n",
              "  </tbody>\n",
              "</table>\n",
              "</div>\n",
              "    <div class=\"colab-df-buttons\">\n",
              "\n",
              "  <div class=\"colab-df-container\">\n",
              "    <button class=\"colab-df-convert\" onclick=\"convertToInteractive('df-bf92eabf-a018-4e40-8646-bf2510d18f9e')\"\n",
              "            title=\"Convert this dataframe to an interactive table.\"\n",
              "            style=\"display:none;\">\n",
              "\n",
              "  <svg xmlns=\"http://www.w3.org/2000/svg\" height=\"24px\" viewBox=\"0 -960 960 960\">\n",
              "    <path d=\"M120-120v-720h720v720H120Zm60-500h600v-160H180v160Zm220 220h160v-160H400v160Zm0 220h160v-160H400v160ZM180-400h160v-160H180v160Zm440 0h160v-160H620v160ZM180-180h160v-160H180v160Zm440 0h160v-160H620v160Z\"/>\n",
              "  </svg>\n",
              "    </button>\n",
              "\n",
              "  <style>\n",
              "    .colab-df-container {\n",
              "      display:flex;\n",
              "      gap: 12px;\n",
              "    }\n",
              "\n",
              "    .colab-df-convert {\n",
              "      background-color: #E8F0FE;\n",
              "      border: none;\n",
              "      border-radius: 50%;\n",
              "      cursor: pointer;\n",
              "      display: none;\n",
              "      fill: #1967D2;\n",
              "      height: 32px;\n",
              "      padding: 0 0 0 0;\n",
              "      width: 32px;\n",
              "    }\n",
              "\n",
              "    .colab-df-convert:hover {\n",
              "      background-color: #E2EBFA;\n",
              "      box-shadow: 0px 1px 2px rgba(60, 64, 67, 0.3), 0px 1px 3px 1px rgba(60, 64, 67, 0.15);\n",
              "      fill: #174EA6;\n",
              "    }\n",
              "\n",
              "    .colab-df-buttons div {\n",
              "      margin-bottom: 4px;\n",
              "    }\n",
              "\n",
              "    [theme=dark] .colab-df-convert {\n",
              "      background-color: #3B4455;\n",
              "      fill: #D2E3FC;\n",
              "    }\n",
              "\n",
              "    [theme=dark] .colab-df-convert:hover {\n",
              "      background-color: #434B5C;\n",
              "      box-shadow: 0px 1px 3px 1px rgba(0, 0, 0, 0.15);\n",
              "      filter: drop-shadow(0px 1px 2px rgba(0, 0, 0, 0.3));\n",
              "      fill: #FFFFFF;\n",
              "    }\n",
              "  </style>\n",
              "\n",
              "    <script>\n",
              "      const buttonEl =\n",
              "        document.querySelector('#df-bf92eabf-a018-4e40-8646-bf2510d18f9e button.colab-df-convert');\n",
              "      buttonEl.style.display =\n",
              "        google.colab.kernel.accessAllowed ? 'block' : 'none';\n",
              "\n",
              "      async function convertToInteractive(key) {\n",
              "        const element = document.querySelector('#df-bf92eabf-a018-4e40-8646-bf2510d18f9e');\n",
              "        const dataTable =\n",
              "          await google.colab.kernel.invokeFunction('convertToInteractive',\n",
              "                                                    [key], {});\n",
              "        if (!dataTable) return;\n",
              "\n",
              "        const docLinkHtml = 'Like what you see? Visit the ' +\n",
              "          '<a target=\"_blank\" href=https://colab.research.google.com/notebooks/data_table.ipynb>data table notebook</a>'\n",
              "          + ' to learn more about interactive tables.';\n",
              "        element.innerHTML = '';\n",
              "        dataTable['output_type'] = 'display_data';\n",
              "        await google.colab.output.renderOutput(dataTable, element);\n",
              "        const docLink = document.createElement('div');\n",
              "        docLink.innerHTML = docLinkHtml;\n",
              "        element.appendChild(docLink);\n",
              "      }\n",
              "    </script>\n",
              "  </div>\n",
              "\n",
              "\n",
              "<div id=\"df-edeeb5b5-bfa7-4a8b-b22c-b9b6a55cf5f6\">\n",
              "  <button class=\"colab-df-quickchart\" onclick=\"quickchart('df-edeeb5b5-bfa7-4a8b-b22c-b9b6a55cf5f6')\"\n",
              "            title=\"Suggest charts\"\n",
              "            style=\"display:none;\">\n",
              "\n",
              "<svg xmlns=\"http://www.w3.org/2000/svg\" height=\"24px\"viewBox=\"0 0 24 24\"\n",
              "     width=\"24px\">\n",
              "    <g>\n",
              "        <path d=\"M19 3H5c-1.1 0-2 .9-2 2v14c0 1.1.9 2 2 2h14c1.1 0 2-.9 2-2V5c0-1.1-.9-2-2-2zM9 17H7v-7h2v7zm4 0h-2V7h2v10zm4 0h-2v-4h2v4z\"/>\n",
              "    </g>\n",
              "</svg>\n",
              "  </button>\n",
              "\n",
              "<style>\n",
              "  .colab-df-quickchart {\n",
              "      --bg-color: #E8F0FE;\n",
              "      --fill-color: #1967D2;\n",
              "      --hover-bg-color: #E2EBFA;\n",
              "      --hover-fill-color: #174EA6;\n",
              "      --disabled-fill-color: #AAA;\n",
              "      --disabled-bg-color: #DDD;\n",
              "  }\n",
              "\n",
              "  [theme=dark] .colab-df-quickchart {\n",
              "      --bg-color: #3B4455;\n",
              "      --fill-color: #D2E3FC;\n",
              "      --hover-bg-color: #434B5C;\n",
              "      --hover-fill-color: #FFFFFF;\n",
              "      --disabled-bg-color: #3B4455;\n",
              "      --disabled-fill-color: #666;\n",
              "  }\n",
              "\n",
              "  .colab-df-quickchart {\n",
              "    background-color: var(--bg-color);\n",
              "    border: none;\n",
              "    border-radius: 50%;\n",
              "    cursor: pointer;\n",
              "    display: none;\n",
              "    fill: var(--fill-color);\n",
              "    height: 32px;\n",
              "    padding: 0;\n",
              "    width: 32px;\n",
              "  }\n",
              "\n",
              "  .colab-df-quickchart:hover {\n",
              "    background-color: var(--hover-bg-color);\n",
              "    box-shadow: 0 1px 2px rgba(60, 64, 67, 0.3), 0 1px 3px 1px rgba(60, 64, 67, 0.15);\n",
              "    fill: var(--button-hover-fill-color);\n",
              "  }\n",
              "\n",
              "  .colab-df-quickchart-complete:disabled,\n",
              "  .colab-df-quickchart-complete:disabled:hover {\n",
              "    background-color: var(--disabled-bg-color);\n",
              "    fill: var(--disabled-fill-color);\n",
              "    box-shadow: none;\n",
              "  }\n",
              "\n",
              "  .colab-df-spinner {\n",
              "    border: 2px solid var(--fill-color);\n",
              "    border-color: transparent;\n",
              "    border-bottom-color: var(--fill-color);\n",
              "    animation:\n",
              "      spin 1s steps(1) infinite;\n",
              "  }\n",
              "\n",
              "  @keyframes spin {\n",
              "    0% {\n",
              "      border-color: transparent;\n",
              "      border-bottom-color: var(--fill-color);\n",
              "      border-left-color: var(--fill-color);\n",
              "    }\n",
              "    20% {\n",
              "      border-color: transparent;\n",
              "      border-left-color: var(--fill-color);\n",
              "      border-top-color: var(--fill-color);\n",
              "    }\n",
              "    30% {\n",
              "      border-color: transparent;\n",
              "      border-left-color: var(--fill-color);\n",
              "      border-top-color: var(--fill-color);\n",
              "      border-right-color: var(--fill-color);\n",
              "    }\n",
              "    40% {\n",
              "      border-color: transparent;\n",
              "      border-right-color: var(--fill-color);\n",
              "      border-top-color: var(--fill-color);\n",
              "    }\n",
              "    60% {\n",
              "      border-color: transparent;\n",
              "      border-right-color: var(--fill-color);\n",
              "    }\n",
              "    80% {\n",
              "      border-color: transparent;\n",
              "      border-right-color: var(--fill-color);\n",
              "      border-bottom-color: var(--fill-color);\n",
              "    }\n",
              "    90% {\n",
              "      border-color: transparent;\n",
              "      border-bottom-color: var(--fill-color);\n",
              "    }\n",
              "  }\n",
              "</style>\n",
              "\n",
              "  <script>\n",
              "    async function quickchart(key) {\n",
              "      const quickchartButtonEl =\n",
              "        document.querySelector('#' + key + ' button');\n",
              "      quickchartButtonEl.disabled = true;  // To prevent multiple clicks.\n",
              "      quickchartButtonEl.classList.add('colab-df-spinner');\n",
              "      try {\n",
              "        const charts = await google.colab.kernel.invokeFunction(\n",
              "            'suggestCharts', [key], {});\n",
              "      } catch (error) {\n",
              "        console.error('Error during call to suggestCharts:', error);\n",
              "      }\n",
              "      quickchartButtonEl.classList.remove('colab-df-spinner');\n",
              "      quickchartButtonEl.classList.add('colab-df-quickchart-complete');\n",
              "    }\n",
              "    (() => {\n",
              "      let quickchartButtonEl =\n",
              "        document.querySelector('#df-edeeb5b5-bfa7-4a8b-b22c-b9b6a55cf5f6 button');\n",
              "      quickchartButtonEl.style.display =\n",
              "        google.colab.kernel.accessAllowed ? 'block' : 'none';\n",
              "    })();\n",
              "  </script>\n",
              "</div>\n",
              "    </div>\n",
              "  </div>\n"
            ],
            "application/vnd.google.colaboratory.intrinsic+json": {
              "type": "dataframe",
              "variable_name": "visitors",
              "repr_error": "'str' object has no attribute 'empty'"
            }
          },
          "metadata": {},
          "execution_count": 15
        }
      ],
      "source": [
        "visitors.head(5)"
      ]
    },
    {
      "cell_type": "code",
      "execution_count": 16,
      "metadata": {
        "colab": {
          "base_uri": "https://localhost:8080/"
        },
        "id": "K14IU-w7LMpF",
        "outputId": "c572e3f8-6ab9-49af-96ac-5a1f151d4577"
      },
      "outputs": [
        {
          "output_type": "stream",
          "name": "stdout",
          "text": [
            "<class 'pandas.core.frame.DataFrame'>\n",
            "RangeIndex: 62 entries, 0 to 61\n",
            "Data columns (total 3 columns):\n",
            " #   Column    Non-Null Count  Dtype \n",
            "---  ------    --------------  ----- \n",
            " 0   date      62 non-null     object\n",
            " 1   group     62 non-null     object\n",
            " 2   visitors  62 non-null     int64 \n",
            "dtypes: int64(1), object(2)\n",
            "memory usage: 1.6+ KB\n"
          ]
        }
      ],
      "source": [
        "visitors.info()"
      ]
    },
    {
      "cell_type": "code",
      "execution_count": 17,
      "metadata": {
        "colab": {
          "base_uri": "https://localhost:8080/"
        },
        "id": "d-9MkdqvLMpG",
        "outputId": "151a5f0e-3a00-4225-adea-c2122d33dff3"
      },
      "outputs": [
        {
          "output_type": "stream",
          "name": "stdout",
          "text": [
            "Количество дубликатов в таблице Пользователи: 0\n"
          ]
        }
      ],
      "source": [
        "# Теперь проверим на явные дубликаты\n",
        "print(\"Количество дубликатов в таблице Пользователи:\", visitors.duplicated().sum())"
      ]
    },
    {
      "cell_type": "markdown",
      "metadata": {
        "id": "RIhQ02_dLMpG"
      },
      "source": [
        "<div class=\"alert alert-info\">\n",
        "    \n",
        "Явных дубликатов так же не нашел.\n",
        "</div>"
      ]
    },
    {
      "cell_type": "code",
      "execution_count": 18,
      "metadata": {
        "colab": {
          "base_uri": "https://localhost:8080/"
        },
        "id": "2dZAbFHWLMpG",
        "outputId": "3b0ab7a5-ee7a-495c-b463-b4b33d158312"
      },
      "outputs": [
        {
          "output_type": "execute_result",
          "data": {
            "text/plain": [
              "[490, 610, 718]"
            ]
          },
          "metadata": {},
          "execution_count": 18
        }
      ],
      "source": [
        "# Проверим, есть ли пользователи, которые принадлежат к двум разным группам\n",
        "grouped_users = visitors.groupby('visitors')['group'].apply(list)\n",
        "grouped_orders = orders.groupby('visitorId')['group'].apply(list)\n",
        "\n",
        "users_in_multiple_groups = [user for user, groups in grouped_users.items() if len(set(groups)) > 1]\n",
        "users_in_multiple_groups"
      ]
    },
    {
      "cell_type": "code",
      "execution_count": 19,
      "metadata": {
        "colab": {
          "base_uri": "https://localhost:8080/",
          "height": 112
        },
        "id": "z6_UozFpLMpH",
        "outputId": "7cc8a804-943e-485e-ac6f-21dec6a1f48f"
      },
      "outputs": [
        {
          "output_type": "execute_result",
          "data": {
            "text/plain": [
              "          date group  visitors\n",
              "29  2019-08-30     A       490\n",
              "60  2019-08-30     B       490"
            ],
            "text/html": [
              "\n",
              "  <div id=\"df-2534627b-144b-4ae3-9581-7be9e22bb000\" class=\"colab-df-container\">\n",
              "    <div>\n",
              "<style scoped>\n",
              "    .dataframe tbody tr th:only-of-type {\n",
              "        vertical-align: middle;\n",
              "    }\n",
              "\n",
              "    .dataframe tbody tr th {\n",
              "        vertical-align: top;\n",
              "    }\n",
              "\n",
              "    .dataframe thead th {\n",
              "        text-align: right;\n",
              "    }\n",
              "</style>\n",
              "<table border=\"1\" class=\"dataframe\">\n",
              "  <thead>\n",
              "    <tr style=\"text-align: right;\">\n",
              "      <th></th>\n",
              "      <th>date</th>\n",
              "      <th>group</th>\n",
              "      <th>visitors</th>\n",
              "    </tr>\n",
              "  </thead>\n",
              "  <tbody>\n",
              "    <tr>\n",
              "      <th>29</th>\n",
              "      <td>2019-08-30</td>\n",
              "      <td>A</td>\n",
              "      <td>490</td>\n",
              "    </tr>\n",
              "    <tr>\n",
              "      <th>60</th>\n",
              "      <td>2019-08-30</td>\n",
              "      <td>B</td>\n",
              "      <td>490</td>\n",
              "    </tr>\n",
              "  </tbody>\n",
              "</table>\n",
              "</div>\n",
              "    <div class=\"colab-df-buttons\">\n",
              "\n",
              "  <div class=\"colab-df-container\">\n",
              "    <button class=\"colab-df-convert\" onclick=\"convertToInteractive('df-2534627b-144b-4ae3-9581-7be9e22bb000')\"\n",
              "            title=\"Convert this dataframe to an interactive table.\"\n",
              "            style=\"display:none;\">\n",
              "\n",
              "  <svg xmlns=\"http://www.w3.org/2000/svg\" height=\"24px\" viewBox=\"0 -960 960 960\">\n",
              "    <path d=\"M120-120v-720h720v720H120Zm60-500h600v-160H180v160Zm220 220h160v-160H400v160Zm0 220h160v-160H400v160ZM180-400h160v-160H180v160Zm440 0h160v-160H620v160ZM180-180h160v-160H180v160Zm440 0h160v-160H620v160Z\"/>\n",
              "  </svg>\n",
              "    </button>\n",
              "\n",
              "  <style>\n",
              "    .colab-df-container {\n",
              "      display:flex;\n",
              "      gap: 12px;\n",
              "    }\n",
              "\n",
              "    .colab-df-convert {\n",
              "      background-color: #E8F0FE;\n",
              "      border: none;\n",
              "      border-radius: 50%;\n",
              "      cursor: pointer;\n",
              "      display: none;\n",
              "      fill: #1967D2;\n",
              "      height: 32px;\n",
              "      padding: 0 0 0 0;\n",
              "      width: 32px;\n",
              "    }\n",
              "\n",
              "    .colab-df-convert:hover {\n",
              "      background-color: #E2EBFA;\n",
              "      box-shadow: 0px 1px 2px rgba(60, 64, 67, 0.3), 0px 1px 3px 1px rgba(60, 64, 67, 0.15);\n",
              "      fill: #174EA6;\n",
              "    }\n",
              "\n",
              "    .colab-df-buttons div {\n",
              "      margin-bottom: 4px;\n",
              "    }\n",
              "\n",
              "    [theme=dark] .colab-df-convert {\n",
              "      background-color: #3B4455;\n",
              "      fill: #D2E3FC;\n",
              "    }\n",
              "\n",
              "    [theme=dark] .colab-df-convert:hover {\n",
              "      background-color: #434B5C;\n",
              "      box-shadow: 0px 1px 3px 1px rgba(0, 0, 0, 0.15);\n",
              "      filter: drop-shadow(0px 1px 2px rgba(0, 0, 0, 0.3));\n",
              "      fill: #FFFFFF;\n",
              "    }\n",
              "  </style>\n",
              "\n",
              "    <script>\n",
              "      const buttonEl =\n",
              "        document.querySelector('#df-2534627b-144b-4ae3-9581-7be9e22bb000 button.colab-df-convert');\n",
              "      buttonEl.style.display =\n",
              "        google.colab.kernel.accessAllowed ? 'block' : 'none';\n",
              "\n",
              "      async function convertToInteractive(key) {\n",
              "        const element = document.querySelector('#df-2534627b-144b-4ae3-9581-7be9e22bb000');\n",
              "        const dataTable =\n",
              "          await google.colab.kernel.invokeFunction('convertToInteractive',\n",
              "                                                    [key], {});\n",
              "        if (!dataTable) return;\n",
              "\n",
              "        const docLinkHtml = 'Like what you see? Visit the ' +\n",
              "          '<a target=\"_blank\" href=https://colab.research.google.com/notebooks/data_table.ipynb>data table notebook</a>'\n",
              "          + ' to learn more about interactive tables.';\n",
              "        element.innerHTML = '';\n",
              "        dataTable['output_type'] = 'display_data';\n",
              "        await google.colab.output.renderOutput(dataTable, element);\n",
              "        const docLink = document.createElement('div');\n",
              "        docLink.innerHTML = docLinkHtml;\n",
              "        element.appendChild(docLink);\n",
              "      }\n",
              "    </script>\n",
              "  </div>\n",
              "\n",
              "\n",
              "<div id=\"df-5c223f36-2ef5-4bf6-8417-97768698e3b4\">\n",
              "  <button class=\"colab-df-quickchart\" onclick=\"quickchart('df-5c223f36-2ef5-4bf6-8417-97768698e3b4')\"\n",
              "            title=\"Suggest charts\"\n",
              "            style=\"display:none;\">\n",
              "\n",
              "<svg xmlns=\"http://www.w3.org/2000/svg\" height=\"24px\"viewBox=\"0 0 24 24\"\n",
              "     width=\"24px\">\n",
              "    <g>\n",
              "        <path d=\"M19 3H5c-1.1 0-2 .9-2 2v14c0 1.1.9 2 2 2h14c1.1 0 2-.9 2-2V5c0-1.1-.9-2-2-2zM9 17H7v-7h2v7zm4 0h-2V7h2v10zm4 0h-2v-4h2v4z\"/>\n",
              "    </g>\n",
              "</svg>\n",
              "  </button>\n",
              "\n",
              "<style>\n",
              "  .colab-df-quickchart {\n",
              "      --bg-color: #E8F0FE;\n",
              "      --fill-color: #1967D2;\n",
              "      --hover-bg-color: #E2EBFA;\n",
              "      --hover-fill-color: #174EA6;\n",
              "      --disabled-fill-color: #AAA;\n",
              "      --disabled-bg-color: #DDD;\n",
              "  }\n",
              "\n",
              "  [theme=dark] .colab-df-quickchart {\n",
              "      --bg-color: #3B4455;\n",
              "      --fill-color: #D2E3FC;\n",
              "      --hover-bg-color: #434B5C;\n",
              "      --hover-fill-color: #FFFFFF;\n",
              "      --disabled-bg-color: #3B4455;\n",
              "      --disabled-fill-color: #666;\n",
              "  }\n",
              "\n",
              "  .colab-df-quickchart {\n",
              "    background-color: var(--bg-color);\n",
              "    border: none;\n",
              "    border-radius: 50%;\n",
              "    cursor: pointer;\n",
              "    display: none;\n",
              "    fill: var(--fill-color);\n",
              "    height: 32px;\n",
              "    padding: 0;\n",
              "    width: 32px;\n",
              "  }\n",
              "\n",
              "  .colab-df-quickchart:hover {\n",
              "    background-color: var(--hover-bg-color);\n",
              "    box-shadow: 0 1px 2px rgba(60, 64, 67, 0.3), 0 1px 3px 1px rgba(60, 64, 67, 0.15);\n",
              "    fill: var(--button-hover-fill-color);\n",
              "  }\n",
              "\n",
              "  .colab-df-quickchart-complete:disabled,\n",
              "  .colab-df-quickchart-complete:disabled:hover {\n",
              "    background-color: var(--disabled-bg-color);\n",
              "    fill: var(--disabled-fill-color);\n",
              "    box-shadow: none;\n",
              "  }\n",
              "\n",
              "  .colab-df-spinner {\n",
              "    border: 2px solid var(--fill-color);\n",
              "    border-color: transparent;\n",
              "    border-bottom-color: var(--fill-color);\n",
              "    animation:\n",
              "      spin 1s steps(1) infinite;\n",
              "  }\n",
              "\n",
              "  @keyframes spin {\n",
              "    0% {\n",
              "      border-color: transparent;\n",
              "      border-bottom-color: var(--fill-color);\n",
              "      border-left-color: var(--fill-color);\n",
              "    }\n",
              "    20% {\n",
              "      border-color: transparent;\n",
              "      border-left-color: var(--fill-color);\n",
              "      border-top-color: var(--fill-color);\n",
              "    }\n",
              "    30% {\n",
              "      border-color: transparent;\n",
              "      border-left-color: var(--fill-color);\n",
              "      border-top-color: var(--fill-color);\n",
              "      border-right-color: var(--fill-color);\n",
              "    }\n",
              "    40% {\n",
              "      border-color: transparent;\n",
              "      border-right-color: var(--fill-color);\n",
              "      border-top-color: var(--fill-color);\n",
              "    }\n",
              "    60% {\n",
              "      border-color: transparent;\n",
              "      border-right-color: var(--fill-color);\n",
              "    }\n",
              "    80% {\n",
              "      border-color: transparent;\n",
              "      border-right-color: var(--fill-color);\n",
              "      border-bottom-color: var(--fill-color);\n",
              "    }\n",
              "    90% {\n",
              "      border-color: transparent;\n",
              "      border-bottom-color: var(--fill-color);\n",
              "    }\n",
              "  }\n",
              "</style>\n",
              "\n",
              "  <script>\n",
              "    async function quickchart(key) {\n",
              "      const quickchartButtonEl =\n",
              "        document.querySelector('#' + key + ' button');\n",
              "      quickchartButtonEl.disabled = true;  // To prevent multiple clicks.\n",
              "      quickchartButtonEl.classList.add('colab-df-spinner');\n",
              "      try {\n",
              "        const charts = await google.colab.kernel.invokeFunction(\n",
              "            'suggestCharts', [key], {});\n",
              "      } catch (error) {\n",
              "        console.error('Error during call to suggestCharts:', error);\n",
              "      }\n",
              "      quickchartButtonEl.classList.remove('colab-df-spinner');\n",
              "      quickchartButtonEl.classList.add('colab-df-quickchart-complete');\n",
              "    }\n",
              "    (() => {\n",
              "      let quickchartButtonEl =\n",
              "        document.querySelector('#df-5c223f36-2ef5-4bf6-8417-97768698e3b4 button');\n",
              "      quickchartButtonEl.style.display =\n",
              "        google.colab.kernel.accessAllowed ? 'block' : 'none';\n",
              "    })();\n",
              "  </script>\n",
              "</div>\n",
              "    </div>\n",
              "  </div>\n"
            ],
            "application/vnd.google.colaboratory.intrinsic+json": {
              "type": "dataframe",
              "repr_error": "'str' object has no attribute 'empty'"
            }
          },
          "metadata": {},
          "execution_count": 19
        }
      ],
      "source": [
        "visitors.loc[visitors['visitors'] == 490]"
      ]
    },
    {
      "cell_type": "code",
      "execution_count": 20,
      "metadata": {
        "colab": {
          "base_uri": "https://localhost:8080/",
          "height": 112
        },
        "id": "GRf0QU_MLMpH",
        "outputId": "e32e782d-15db-44a2-8abb-acd6ee9bbb7d"
      },
      "outputs": [
        {
          "output_type": "execute_result",
          "data": {
            "text/plain": [
              "          date group  visitors\n",
              "7   2019-08-08     A       610\n",
              "39  2019-08-09     B       610"
            ],
            "text/html": [
              "\n",
              "  <div id=\"df-e32451af-f902-4689-b3bb-d7c54d5b8959\" class=\"colab-df-container\">\n",
              "    <div>\n",
              "<style scoped>\n",
              "    .dataframe tbody tr th:only-of-type {\n",
              "        vertical-align: middle;\n",
              "    }\n",
              "\n",
              "    .dataframe tbody tr th {\n",
              "        vertical-align: top;\n",
              "    }\n",
              "\n",
              "    .dataframe thead th {\n",
              "        text-align: right;\n",
              "    }\n",
              "</style>\n",
              "<table border=\"1\" class=\"dataframe\">\n",
              "  <thead>\n",
              "    <tr style=\"text-align: right;\">\n",
              "      <th></th>\n",
              "      <th>date</th>\n",
              "      <th>group</th>\n",
              "      <th>visitors</th>\n",
              "    </tr>\n",
              "  </thead>\n",
              "  <tbody>\n",
              "    <tr>\n",
              "      <th>7</th>\n",
              "      <td>2019-08-08</td>\n",
              "      <td>A</td>\n",
              "      <td>610</td>\n",
              "    </tr>\n",
              "    <tr>\n",
              "      <th>39</th>\n",
              "      <td>2019-08-09</td>\n",
              "      <td>B</td>\n",
              "      <td>610</td>\n",
              "    </tr>\n",
              "  </tbody>\n",
              "</table>\n",
              "</div>\n",
              "    <div class=\"colab-df-buttons\">\n",
              "\n",
              "  <div class=\"colab-df-container\">\n",
              "    <button class=\"colab-df-convert\" onclick=\"convertToInteractive('df-e32451af-f902-4689-b3bb-d7c54d5b8959')\"\n",
              "            title=\"Convert this dataframe to an interactive table.\"\n",
              "            style=\"display:none;\">\n",
              "\n",
              "  <svg xmlns=\"http://www.w3.org/2000/svg\" height=\"24px\" viewBox=\"0 -960 960 960\">\n",
              "    <path d=\"M120-120v-720h720v720H120Zm60-500h600v-160H180v160Zm220 220h160v-160H400v160Zm0 220h160v-160H400v160ZM180-400h160v-160H180v160Zm440 0h160v-160H620v160ZM180-180h160v-160H180v160Zm440 0h160v-160H620v160Z\"/>\n",
              "  </svg>\n",
              "    </button>\n",
              "\n",
              "  <style>\n",
              "    .colab-df-container {\n",
              "      display:flex;\n",
              "      gap: 12px;\n",
              "    }\n",
              "\n",
              "    .colab-df-convert {\n",
              "      background-color: #E8F0FE;\n",
              "      border: none;\n",
              "      border-radius: 50%;\n",
              "      cursor: pointer;\n",
              "      display: none;\n",
              "      fill: #1967D2;\n",
              "      height: 32px;\n",
              "      padding: 0 0 0 0;\n",
              "      width: 32px;\n",
              "    }\n",
              "\n",
              "    .colab-df-convert:hover {\n",
              "      background-color: #E2EBFA;\n",
              "      box-shadow: 0px 1px 2px rgba(60, 64, 67, 0.3), 0px 1px 3px 1px rgba(60, 64, 67, 0.15);\n",
              "      fill: #174EA6;\n",
              "    }\n",
              "\n",
              "    .colab-df-buttons div {\n",
              "      margin-bottom: 4px;\n",
              "    }\n",
              "\n",
              "    [theme=dark] .colab-df-convert {\n",
              "      background-color: #3B4455;\n",
              "      fill: #D2E3FC;\n",
              "    }\n",
              "\n",
              "    [theme=dark] .colab-df-convert:hover {\n",
              "      background-color: #434B5C;\n",
              "      box-shadow: 0px 1px 3px 1px rgba(0, 0, 0, 0.15);\n",
              "      filter: drop-shadow(0px 1px 2px rgba(0, 0, 0, 0.3));\n",
              "      fill: #FFFFFF;\n",
              "    }\n",
              "  </style>\n",
              "\n",
              "    <script>\n",
              "      const buttonEl =\n",
              "        document.querySelector('#df-e32451af-f902-4689-b3bb-d7c54d5b8959 button.colab-df-convert');\n",
              "      buttonEl.style.display =\n",
              "        google.colab.kernel.accessAllowed ? 'block' : 'none';\n",
              "\n",
              "      async function convertToInteractive(key) {\n",
              "        const element = document.querySelector('#df-e32451af-f902-4689-b3bb-d7c54d5b8959');\n",
              "        const dataTable =\n",
              "          await google.colab.kernel.invokeFunction('convertToInteractive',\n",
              "                                                    [key], {});\n",
              "        if (!dataTable) return;\n",
              "\n",
              "        const docLinkHtml = 'Like what you see? Visit the ' +\n",
              "          '<a target=\"_blank\" href=https://colab.research.google.com/notebooks/data_table.ipynb>data table notebook</a>'\n",
              "          + ' to learn more about interactive tables.';\n",
              "        element.innerHTML = '';\n",
              "        dataTable['output_type'] = 'display_data';\n",
              "        await google.colab.output.renderOutput(dataTable, element);\n",
              "        const docLink = document.createElement('div');\n",
              "        docLink.innerHTML = docLinkHtml;\n",
              "        element.appendChild(docLink);\n",
              "      }\n",
              "    </script>\n",
              "  </div>\n",
              "\n",
              "\n",
              "<div id=\"df-44998da0-f43b-4712-9922-8f2e4b3b7241\">\n",
              "  <button class=\"colab-df-quickchart\" onclick=\"quickchart('df-44998da0-f43b-4712-9922-8f2e4b3b7241')\"\n",
              "            title=\"Suggest charts\"\n",
              "            style=\"display:none;\">\n",
              "\n",
              "<svg xmlns=\"http://www.w3.org/2000/svg\" height=\"24px\"viewBox=\"0 0 24 24\"\n",
              "     width=\"24px\">\n",
              "    <g>\n",
              "        <path d=\"M19 3H5c-1.1 0-2 .9-2 2v14c0 1.1.9 2 2 2h14c1.1 0 2-.9 2-2V5c0-1.1-.9-2-2-2zM9 17H7v-7h2v7zm4 0h-2V7h2v10zm4 0h-2v-4h2v4z\"/>\n",
              "    </g>\n",
              "</svg>\n",
              "  </button>\n",
              "\n",
              "<style>\n",
              "  .colab-df-quickchart {\n",
              "      --bg-color: #E8F0FE;\n",
              "      --fill-color: #1967D2;\n",
              "      --hover-bg-color: #E2EBFA;\n",
              "      --hover-fill-color: #174EA6;\n",
              "      --disabled-fill-color: #AAA;\n",
              "      --disabled-bg-color: #DDD;\n",
              "  }\n",
              "\n",
              "  [theme=dark] .colab-df-quickchart {\n",
              "      --bg-color: #3B4455;\n",
              "      --fill-color: #D2E3FC;\n",
              "      --hover-bg-color: #434B5C;\n",
              "      --hover-fill-color: #FFFFFF;\n",
              "      --disabled-bg-color: #3B4455;\n",
              "      --disabled-fill-color: #666;\n",
              "  }\n",
              "\n",
              "  .colab-df-quickchart {\n",
              "    background-color: var(--bg-color);\n",
              "    border: none;\n",
              "    border-radius: 50%;\n",
              "    cursor: pointer;\n",
              "    display: none;\n",
              "    fill: var(--fill-color);\n",
              "    height: 32px;\n",
              "    padding: 0;\n",
              "    width: 32px;\n",
              "  }\n",
              "\n",
              "  .colab-df-quickchart:hover {\n",
              "    background-color: var(--hover-bg-color);\n",
              "    box-shadow: 0 1px 2px rgba(60, 64, 67, 0.3), 0 1px 3px 1px rgba(60, 64, 67, 0.15);\n",
              "    fill: var(--button-hover-fill-color);\n",
              "  }\n",
              "\n",
              "  .colab-df-quickchart-complete:disabled,\n",
              "  .colab-df-quickchart-complete:disabled:hover {\n",
              "    background-color: var(--disabled-bg-color);\n",
              "    fill: var(--disabled-fill-color);\n",
              "    box-shadow: none;\n",
              "  }\n",
              "\n",
              "  .colab-df-spinner {\n",
              "    border: 2px solid var(--fill-color);\n",
              "    border-color: transparent;\n",
              "    border-bottom-color: var(--fill-color);\n",
              "    animation:\n",
              "      spin 1s steps(1) infinite;\n",
              "  }\n",
              "\n",
              "  @keyframes spin {\n",
              "    0% {\n",
              "      border-color: transparent;\n",
              "      border-bottom-color: var(--fill-color);\n",
              "      border-left-color: var(--fill-color);\n",
              "    }\n",
              "    20% {\n",
              "      border-color: transparent;\n",
              "      border-left-color: var(--fill-color);\n",
              "      border-top-color: var(--fill-color);\n",
              "    }\n",
              "    30% {\n",
              "      border-color: transparent;\n",
              "      border-left-color: var(--fill-color);\n",
              "      border-top-color: var(--fill-color);\n",
              "      border-right-color: var(--fill-color);\n",
              "    }\n",
              "    40% {\n",
              "      border-color: transparent;\n",
              "      border-right-color: var(--fill-color);\n",
              "      border-top-color: var(--fill-color);\n",
              "    }\n",
              "    60% {\n",
              "      border-color: transparent;\n",
              "      border-right-color: var(--fill-color);\n",
              "    }\n",
              "    80% {\n",
              "      border-color: transparent;\n",
              "      border-right-color: var(--fill-color);\n",
              "      border-bottom-color: var(--fill-color);\n",
              "    }\n",
              "    90% {\n",
              "      border-color: transparent;\n",
              "      border-bottom-color: var(--fill-color);\n",
              "    }\n",
              "  }\n",
              "</style>\n",
              "\n",
              "  <script>\n",
              "    async function quickchart(key) {\n",
              "      const quickchartButtonEl =\n",
              "        document.querySelector('#' + key + ' button');\n",
              "      quickchartButtonEl.disabled = true;  // To prevent multiple clicks.\n",
              "      quickchartButtonEl.classList.add('colab-df-spinner');\n",
              "      try {\n",
              "        const charts = await google.colab.kernel.invokeFunction(\n",
              "            'suggestCharts', [key], {});\n",
              "      } catch (error) {\n",
              "        console.error('Error during call to suggestCharts:', error);\n",
              "      }\n",
              "      quickchartButtonEl.classList.remove('colab-df-spinner');\n",
              "      quickchartButtonEl.classList.add('colab-df-quickchart-complete');\n",
              "    }\n",
              "    (() => {\n",
              "      let quickchartButtonEl =\n",
              "        document.querySelector('#df-44998da0-f43b-4712-9922-8f2e4b3b7241 button');\n",
              "      quickchartButtonEl.style.display =\n",
              "        google.colab.kernel.accessAllowed ? 'block' : 'none';\n",
              "    })();\n",
              "  </script>\n",
              "</div>\n",
              "    </div>\n",
              "  </div>\n"
            ],
            "application/vnd.google.colaboratory.intrinsic+json": {
              "type": "dataframe",
              "repr_error": "'str' object has no attribute 'empty'"
            }
          },
          "metadata": {},
          "execution_count": 20
        }
      ],
      "source": [
        "visitors.loc[visitors['visitors'] == 610]"
      ]
    },
    {
      "cell_type": "markdown",
      "metadata": {
        "id": "lyslidMqLMpI"
      },
      "source": [
        "<div class=\"alert alert-info\">\n",
        "    \n",
        "После проверки видим что есть три пользователя которые находятся в двух группах. И кажется логичным убрать их из обоих групп.\n",
        "</div>"
      ]
    },
    {
      "cell_type": "markdown",
      "metadata": {
        "id": "bqerazstLMpI"
      },
      "source": [
        "Как видим пустых строк у нас нет, но при этом в таблицах Заказов и Пользователей есть столбец с датой. Формат даты - строка. Для удобства расчетов потребуется преобразование формата."
      ]
    },
    {
      "cell_type": "markdown",
      "metadata": {
        "id": "ifIWpM7jLMpI"
      },
      "source": [
        "#### Шаг 2. Приоритизация гипотез"
      ]
    },
    {
      "cell_type": "markdown",
      "metadata": {
        "id": "ZNyLpJeILMpI"
      },
      "source": [
        "##### Шаг 2.1 Фреймворк ICE"
      ]
    },
    {
      "cell_type": "code",
      "execution_count": 21,
      "metadata": {
        "scrolled": true,
        "colab": {
          "base_uri": "https://localhost:8080/",
          "height": 331
        },
        "id": "QbSaDKMpLMpI",
        "outputId": "a373a397-22fa-46fc-f1cc-505505ea6e35"
      },
      "outputs": [
        {
          "output_type": "execute_result",
          "data": {
            "text/plain": [
              "                                                                                                     Hypothesis  \\\n",
              "8                                                       Запустить акцию, дающую скидку на товар в день рождения   \n",
              "0            Добавить два новых канала привлечения трафика, что позволит привлекать на 30% больше пользователей   \n",
              "7              Добавить форму подписки на все основные страницы, чтобы собрать базу клиентов для email-рассылок   \n",
              "6          Показать на главной странице баннеры с актуальными акциями и распродажами, чтобы увеличить конверсию   \n",
              "2  Добавить блоки рекомендаций товаров на сайт интернет магазина, чтобы повысить конверсию и средний чек заказа   \n",
              "1                                     Запустить собственную службу доставки, что сократит срок доставки заказов   \n",
              "5                      Добавить страницу отзывов клиентов о магазине, что позволит увеличить количество заказов   \n",
              "3           Изменить структура категорий, что увеличит конверсию, т.к. пользователи быстрее найдут нужный товар   \n",
              "4                              Изменить цвет фона главной страницы, чтобы увеличить вовлеченность пользователей   \n",
              "\n",
              "     ICE  \n",
              "8  16.20  \n",
              "0  13.33  \n",
              "7  11.20  \n",
              "6   8.00  \n",
              "2   7.00  \n",
              "1   2.00  \n",
              "5   1.33  \n",
              "3   1.12  \n",
              "4   1.00  "
            ],
            "text/html": [
              "\n",
              "  <div id=\"df-7160015b-2c4a-4216-aacc-a995c35ce100\" class=\"colab-df-container\">\n",
              "    <div>\n",
              "<style scoped>\n",
              "    .dataframe tbody tr th:only-of-type {\n",
              "        vertical-align: middle;\n",
              "    }\n",
              "\n",
              "    .dataframe tbody tr th {\n",
              "        vertical-align: top;\n",
              "    }\n",
              "\n",
              "    .dataframe thead th {\n",
              "        text-align: right;\n",
              "    }\n",
              "</style>\n",
              "<table border=\"1\" class=\"dataframe\">\n",
              "  <thead>\n",
              "    <tr style=\"text-align: right;\">\n",
              "      <th></th>\n",
              "      <th>Hypothesis</th>\n",
              "      <th>ICE</th>\n",
              "    </tr>\n",
              "  </thead>\n",
              "  <tbody>\n",
              "    <tr>\n",
              "      <th>8</th>\n",
              "      <td>Запустить акцию, дающую скидку на товар в день рождения</td>\n",
              "      <td>16.20</td>\n",
              "    </tr>\n",
              "    <tr>\n",
              "      <th>0</th>\n",
              "      <td>Добавить два новых канала привлечения трафика, что позволит привлекать на 30% больше пользователей</td>\n",
              "      <td>13.33</td>\n",
              "    </tr>\n",
              "    <tr>\n",
              "      <th>7</th>\n",
              "      <td>Добавить форму подписки на все основные страницы, чтобы собрать базу клиентов для email-рассылок</td>\n",
              "      <td>11.20</td>\n",
              "    </tr>\n",
              "    <tr>\n",
              "      <th>6</th>\n",
              "      <td>Показать на главной странице баннеры с актуальными акциями и распродажами, чтобы увеличить конверсию</td>\n",
              "      <td>8.00</td>\n",
              "    </tr>\n",
              "    <tr>\n",
              "      <th>2</th>\n",
              "      <td>Добавить блоки рекомендаций товаров на сайт интернет магазина, чтобы повысить конверсию и средний чек заказа</td>\n",
              "      <td>7.00</td>\n",
              "    </tr>\n",
              "    <tr>\n",
              "      <th>1</th>\n",
              "      <td>Запустить собственную службу доставки, что сократит срок доставки заказов</td>\n",
              "      <td>2.00</td>\n",
              "    </tr>\n",
              "    <tr>\n",
              "      <th>5</th>\n",
              "      <td>Добавить страницу отзывов клиентов о магазине, что позволит увеличить количество заказов</td>\n",
              "      <td>1.33</td>\n",
              "    </tr>\n",
              "    <tr>\n",
              "      <th>3</th>\n",
              "      <td>Изменить структура категорий, что увеличит конверсию, т.к. пользователи быстрее найдут нужный товар</td>\n",
              "      <td>1.12</td>\n",
              "    </tr>\n",
              "    <tr>\n",
              "      <th>4</th>\n",
              "      <td>Изменить цвет фона главной страницы, чтобы увеличить вовлеченность пользователей</td>\n",
              "      <td>1.00</td>\n",
              "    </tr>\n",
              "  </tbody>\n",
              "</table>\n",
              "</div>\n",
              "    <div class=\"colab-df-buttons\">\n",
              "\n",
              "  <div class=\"colab-df-container\">\n",
              "    <button class=\"colab-df-convert\" onclick=\"convertToInteractive('df-7160015b-2c4a-4216-aacc-a995c35ce100')\"\n",
              "            title=\"Convert this dataframe to an interactive table.\"\n",
              "            style=\"display:none;\">\n",
              "\n",
              "  <svg xmlns=\"http://www.w3.org/2000/svg\" height=\"24px\" viewBox=\"0 -960 960 960\">\n",
              "    <path d=\"M120-120v-720h720v720H120Zm60-500h600v-160H180v160Zm220 220h160v-160H400v160Zm0 220h160v-160H400v160ZM180-400h160v-160H180v160Zm440 0h160v-160H620v160ZM180-180h160v-160H180v160Zm440 0h160v-160H620v160Z\"/>\n",
              "  </svg>\n",
              "    </button>\n",
              "\n",
              "  <style>\n",
              "    .colab-df-container {\n",
              "      display:flex;\n",
              "      gap: 12px;\n",
              "    }\n",
              "\n",
              "    .colab-df-convert {\n",
              "      background-color: #E8F0FE;\n",
              "      border: none;\n",
              "      border-radius: 50%;\n",
              "      cursor: pointer;\n",
              "      display: none;\n",
              "      fill: #1967D2;\n",
              "      height: 32px;\n",
              "      padding: 0 0 0 0;\n",
              "      width: 32px;\n",
              "    }\n",
              "\n",
              "    .colab-df-convert:hover {\n",
              "      background-color: #E2EBFA;\n",
              "      box-shadow: 0px 1px 2px rgba(60, 64, 67, 0.3), 0px 1px 3px 1px rgba(60, 64, 67, 0.15);\n",
              "      fill: #174EA6;\n",
              "    }\n",
              "\n",
              "    .colab-df-buttons div {\n",
              "      margin-bottom: 4px;\n",
              "    }\n",
              "\n",
              "    [theme=dark] .colab-df-convert {\n",
              "      background-color: #3B4455;\n",
              "      fill: #D2E3FC;\n",
              "    }\n",
              "\n",
              "    [theme=dark] .colab-df-convert:hover {\n",
              "      background-color: #434B5C;\n",
              "      box-shadow: 0px 1px 3px 1px rgba(0, 0, 0, 0.15);\n",
              "      filter: drop-shadow(0px 1px 2px rgba(0, 0, 0, 0.3));\n",
              "      fill: #FFFFFF;\n",
              "    }\n",
              "  </style>\n",
              "\n",
              "    <script>\n",
              "      const buttonEl =\n",
              "        document.querySelector('#df-7160015b-2c4a-4216-aacc-a995c35ce100 button.colab-df-convert');\n",
              "      buttonEl.style.display =\n",
              "        google.colab.kernel.accessAllowed ? 'block' : 'none';\n",
              "\n",
              "      async function convertToInteractive(key) {\n",
              "        const element = document.querySelector('#df-7160015b-2c4a-4216-aacc-a995c35ce100');\n",
              "        const dataTable =\n",
              "          await google.colab.kernel.invokeFunction('convertToInteractive',\n",
              "                                                    [key], {});\n",
              "        if (!dataTable) return;\n",
              "\n",
              "        const docLinkHtml = 'Like what you see? Visit the ' +\n",
              "          '<a target=\"_blank\" href=https://colab.research.google.com/notebooks/data_table.ipynb>data table notebook</a>'\n",
              "          + ' to learn more about interactive tables.';\n",
              "        element.innerHTML = '';\n",
              "        dataTable['output_type'] = 'display_data';\n",
              "        await google.colab.output.renderOutput(dataTable, element);\n",
              "        const docLink = document.createElement('div');\n",
              "        docLink.innerHTML = docLinkHtml;\n",
              "        element.appendChild(docLink);\n",
              "      }\n",
              "    </script>\n",
              "  </div>\n",
              "\n",
              "\n",
              "<div id=\"df-56d6bb23-01be-4c57-b935-4eadc2921411\">\n",
              "  <button class=\"colab-df-quickchart\" onclick=\"quickchart('df-56d6bb23-01be-4c57-b935-4eadc2921411')\"\n",
              "            title=\"Suggest charts\"\n",
              "            style=\"display:none;\">\n",
              "\n",
              "<svg xmlns=\"http://www.w3.org/2000/svg\" height=\"24px\"viewBox=\"0 0 24 24\"\n",
              "     width=\"24px\">\n",
              "    <g>\n",
              "        <path d=\"M19 3H5c-1.1 0-2 .9-2 2v14c0 1.1.9 2 2 2h14c1.1 0 2-.9 2-2V5c0-1.1-.9-2-2-2zM9 17H7v-7h2v7zm4 0h-2V7h2v10zm4 0h-2v-4h2v4z\"/>\n",
              "    </g>\n",
              "</svg>\n",
              "  </button>\n",
              "\n",
              "<style>\n",
              "  .colab-df-quickchart {\n",
              "      --bg-color: #E8F0FE;\n",
              "      --fill-color: #1967D2;\n",
              "      --hover-bg-color: #E2EBFA;\n",
              "      --hover-fill-color: #174EA6;\n",
              "      --disabled-fill-color: #AAA;\n",
              "      --disabled-bg-color: #DDD;\n",
              "  }\n",
              "\n",
              "  [theme=dark] .colab-df-quickchart {\n",
              "      --bg-color: #3B4455;\n",
              "      --fill-color: #D2E3FC;\n",
              "      --hover-bg-color: #434B5C;\n",
              "      --hover-fill-color: #FFFFFF;\n",
              "      --disabled-bg-color: #3B4455;\n",
              "      --disabled-fill-color: #666;\n",
              "  }\n",
              "\n",
              "  .colab-df-quickchart {\n",
              "    background-color: var(--bg-color);\n",
              "    border: none;\n",
              "    border-radius: 50%;\n",
              "    cursor: pointer;\n",
              "    display: none;\n",
              "    fill: var(--fill-color);\n",
              "    height: 32px;\n",
              "    padding: 0;\n",
              "    width: 32px;\n",
              "  }\n",
              "\n",
              "  .colab-df-quickchart:hover {\n",
              "    background-color: var(--hover-bg-color);\n",
              "    box-shadow: 0 1px 2px rgba(60, 64, 67, 0.3), 0 1px 3px 1px rgba(60, 64, 67, 0.15);\n",
              "    fill: var(--button-hover-fill-color);\n",
              "  }\n",
              "\n",
              "  .colab-df-quickchart-complete:disabled,\n",
              "  .colab-df-quickchart-complete:disabled:hover {\n",
              "    background-color: var(--disabled-bg-color);\n",
              "    fill: var(--disabled-fill-color);\n",
              "    box-shadow: none;\n",
              "  }\n",
              "\n",
              "  .colab-df-spinner {\n",
              "    border: 2px solid var(--fill-color);\n",
              "    border-color: transparent;\n",
              "    border-bottom-color: var(--fill-color);\n",
              "    animation:\n",
              "      spin 1s steps(1) infinite;\n",
              "  }\n",
              "\n",
              "  @keyframes spin {\n",
              "    0% {\n",
              "      border-color: transparent;\n",
              "      border-bottom-color: var(--fill-color);\n",
              "      border-left-color: var(--fill-color);\n",
              "    }\n",
              "    20% {\n",
              "      border-color: transparent;\n",
              "      border-left-color: var(--fill-color);\n",
              "      border-top-color: var(--fill-color);\n",
              "    }\n",
              "    30% {\n",
              "      border-color: transparent;\n",
              "      border-left-color: var(--fill-color);\n",
              "      border-top-color: var(--fill-color);\n",
              "      border-right-color: var(--fill-color);\n",
              "    }\n",
              "    40% {\n",
              "      border-color: transparent;\n",
              "      border-right-color: var(--fill-color);\n",
              "      border-top-color: var(--fill-color);\n",
              "    }\n",
              "    60% {\n",
              "      border-color: transparent;\n",
              "      border-right-color: var(--fill-color);\n",
              "    }\n",
              "    80% {\n",
              "      border-color: transparent;\n",
              "      border-right-color: var(--fill-color);\n",
              "      border-bottom-color: var(--fill-color);\n",
              "    }\n",
              "    90% {\n",
              "      border-color: transparent;\n",
              "      border-bottom-color: var(--fill-color);\n",
              "    }\n",
              "  }\n",
              "</style>\n",
              "\n",
              "  <script>\n",
              "    async function quickchart(key) {\n",
              "      const quickchartButtonEl =\n",
              "        document.querySelector('#' + key + ' button');\n",
              "      quickchartButtonEl.disabled = true;  // To prevent multiple clicks.\n",
              "      quickchartButtonEl.classList.add('colab-df-spinner');\n",
              "      try {\n",
              "        const charts = await google.colab.kernel.invokeFunction(\n",
              "            'suggestCharts', [key], {});\n",
              "      } catch (error) {\n",
              "        console.error('Error during call to suggestCharts:', error);\n",
              "      }\n",
              "      quickchartButtonEl.classList.remove('colab-df-spinner');\n",
              "      quickchartButtonEl.classList.add('colab-df-quickchart-complete');\n",
              "    }\n",
              "    (() => {\n",
              "      let quickchartButtonEl =\n",
              "        document.querySelector('#df-56d6bb23-01be-4c57-b935-4eadc2921411 button');\n",
              "      quickchartButtonEl.style.display =\n",
              "        google.colab.kernel.accessAllowed ? 'block' : 'none';\n",
              "    })();\n",
              "  </script>\n",
              "</div>\n",
              "    </div>\n",
              "  </div>\n"
            ],
            "application/vnd.google.colaboratory.intrinsic+json": {
              "type": "dataframe",
              "summary": "{\n  \"name\": \"hypothesis[['Hypothesis', 'ICE']]\",\n  \"rows\": 9,\n  \"fields\": [\n    {\n      \"column\": \"Hypothesis\",\n      \"properties\": {\n        \"dtype\": \"string\",\n        \"num_unique_values\": 9,\n        \"samples\": [\n          \"\\u0418\\u0437\\u043c\\u0435\\u043d\\u0438\\u0442\\u044c \\u0441\\u0442\\u0440\\u0443\\u043a\\u0442\\u0443\\u0440\\u0430 \\u043a\\u0430\\u0442\\u0435\\u0433\\u043e\\u0440\\u0438\\u0439, \\u0447\\u0442\\u043e \\u0443\\u0432\\u0435\\u043b\\u0438\\u0447\\u0438\\u0442 \\u043a\\u043e\\u043d\\u0432\\u0435\\u0440\\u0441\\u0438\\u044e, \\u0442.\\u043a. \\u043f\\u043e\\u043b\\u044c\\u0437\\u043e\\u0432\\u0430\\u0442\\u0435\\u043b\\u0438 \\u0431\\u044b\\u0441\\u0442\\u0440\\u0435\\u0435 \\u043d\\u0430\\u0439\\u0434\\u0443\\u0442 \\u043d\\u0443\\u0436\\u043d\\u044b\\u0439 \\u0442\\u043e\\u0432\\u0430\\u0440\",\n          \"\\u0414\\u043e\\u0431\\u0430\\u0432\\u0438\\u0442\\u044c \\u0434\\u0432\\u0430 \\u043d\\u043e\\u0432\\u044b\\u0445 \\u043a\\u0430\\u043d\\u0430\\u043b\\u0430 \\u043f\\u0440\\u0438\\u0432\\u043b\\u0435\\u0447\\u0435\\u043d\\u0438\\u044f \\u0442\\u0440\\u0430\\u0444\\u0438\\u043a\\u0430, \\u0447\\u0442\\u043e \\u043f\\u043e\\u0437\\u0432\\u043e\\u043b\\u0438\\u0442 \\u043f\\u0440\\u0438\\u0432\\u043b\\u0435\\u043a\\u0430\\u0442\\u044c \\u043d\\u0430 30% \\u0431\\u043e\\u043b\\u044c\\u0448\\u0435 \\u043f\\u043e\\u043b\\u044c\\u0437\\u043e\\u0432\\u0430\\u0442\\u0435\\u043b\\u0435\\u0439\",\n          \"\\u0417\\u0430\\u043f\\u0443\\u0441\\u0442\\u0438\\u0442\\u044c \\u0441\\u043e\\u0431\\u0441\\u0442\\u0432\\u0435\\u043d\\u043d\\u0443\\u044e \\u0441\\u043b\\u0443\\u0436\\u0431\\u0443 \\u0434\\u043e\\u0441\\u0442\\u0430\\u0432\\u043a\\u0438, \\u0447\\u0442\\u043e \\u0441\\u043e\\u043a\\u0440\\u0430\\u0442\\u0438\\u0442 \\u0441\\u0440\\u043e\\u043a \\u0434\\u043e\\u0441\\u0442\\u0430\\u0432\\u043a\\u0438 \\u0437\\u0430\\u043a\\u0430\\u0437\\u043e\\u0432\"\n        ],\n        \"semantic_type\": \"\",\n        \"description\": \"\"\n      }\n    },\n    {\n      \"column\": \"ICE\",\n      \"properties\": {\n        \"dtype\": \"number\",\n        \"std\": 5.817045594152107,\n        \"min\": 1.0,\n        \"max\": 16.2,\n        \"num_unique_values\": 9,\n        \"samples\": [\n          1.12,\n          13.33,\n          2.0\n        ],\n        \"semantic_type\": \"\",\n        \"description\": \"\"\n      }\n    }\n  ]\n}"
            }
          },
          "metadata": {},
          "execution_count": 21
        }
      ],
      "source": [
        "# Добавим столбец с расчетом ICE для гипотез и отсортируем по убыванию.\n",
        "hypothesis['ICE'] = round((hypothesis['Impact'] * hypothesis['Confidence']) / hypothesis['Efforts'],2)\n",
        "\n",
        "hypothesis[['Hypothesis', 'ICE']].sort_values('ICE', ascending=False)"
      ]
    },
    {
      "cell_type": "markdown",
      "metadata": {
        "id": "aOlUBfHgLMpJ"
      },
      "source": [
        "Видим что наиболее перспективные гипотезы по ICE - 8, 0, 7"
      ]
    },
    {
      "cell_type": "markdown",
      "metadata": {
        "id": "80T5SUVQLMpJ"
      },
      "source": [
        "##### Шаг 2.2 Фреймворк RICE"
      ]
    },
    {
      "cell_type": "code",
      "execution_count": 22,
      "metadata": {
        "colab": {
          "base_uri": "https://localhost:8080/",
          "height": 331
        },
        "id": "il-_GhabLMpK",
        "outputId": "4a27cda9-bcfa-475d-f0b5-a8cb7f6cd37e"
      },
      "outputs": [
        {
          "output_type": "execute_result",
          "data": {
            "text/plain": [
              "                                                                                                     Hypothesis  \\\n",
              "7              Добавить форму подписки на все основные страницы, чтобы собрать базу клиентов для email-рассылок   \n",
              "2  Добавить блоки рекомендаций товаров на сайт интернет магазина, чтобы повысить конверсию и средний чек заказа   \n",
              "0            Добавить два новых канала привлечения трафика, что позволит привлекать на 30% больше пользователей   \n",
              "6          Показать на главной странице баннеры с актуальными акциями и распродажами, чтобы увеличить конверсию   \n",
              "8                                                       Запустить акцию, дающую скидку на товар в день рождения   \n",
              "3           Изменить структура категорий, что увеличит конверсию, т.к. пользователи быстрее найдут нужный товар   \n",
              "1                                     Запустить собственную службу доставки, что сократит срок доставки заказов   \n",
              "5                      Добавить страницу отзывов клиентов о магазине, что позволит увеличить количество заказов   \n",
              "4                              Изменить цвет фона главной страницы, чтобы увеличить вовлеченность пользователей   \n",
              "\n",
              "    RICE  \n",
              "7  112.0  \n",
              "2   56.0  \n",
              "0   40.0  \n",
              "6   40.0  \n",
              "8   16.2  \n",
              "3    9.0  \n",
              "1    4.0  \n",
              "5    4.0  \n",
              "4    3.0  "
            ],
            "text/html": [
              "\n",
              "  <div id=\"df-7f31bbf1-209d-4233-8c4e-6d2e27b50a8d\" class=\"colab-df-container\">\n",
              "    <div>\n",
              "<style scoped>\n",
              "    .dataframe tbody tr th:only-of-type {\n",
              "        vertical-align: middle;\n",
              "    }\n",
              "\n",
              "    .dataframe tbody tr th {\n",
              "        vertical-align: top;\n",
              "    }\n",
              "\n",
              "    .dataframe thead th {\n",
              "        text-align: right;\n",
              "    }\n",
              "</style>\n",
              "<table border=\"1\" class=\"dataframe\">\n",
              "  <thead>\n",
              "    <tr style=\"text-align: right;\">\n",
              "      <th></th>\n",
              "      <th>Hypothesis</th>\n",
              "      <th>RICE</th>\n",
              "    </tr>\n",
              "  </thead>\n",
              "  <tbody>\n",
              "    <tr>\n",
              "      <th>7</th>\n",
              "      <td>Добавить форму подписки на все основные страницы, чтобы собрать базу клиентов для email-рассылок</td>\n",
              "      <td>112.0</td>\n",
              "    </tr>\n",
              "    <tr>\n",
              "      <th>2</th>\n",
              "      <td>Добавить блоки рекомендаций товаров на сайт интернет магазина, чтобы повысить конверсию и средний чек заказа</td>\n",
              "      <td>56.0</td>\n",
              "    </tr>\n",
              "    <tr>\n",
              "      <th>0</th>\n",
              "      <td>Добавить два новых канала привлечения трафика, что позволит привлекать на 30% больше пользователей</td>\n",
              "      <td>40.0</td>\n",
              "    </tr>\n",
              "    <tr>\n",
              "      <th>6</th>\n",
              "      <td>Показать на главной странице баннеры с актуальными акциями и распродажами, чтобы увеличить конверсию</td>\n",
              "      <td>40.0</td>\n",
              "    </tr>\n",
              "    <tr>\n",
              "      <th>8</th>\n",
              "      <td>Запустить акцию, дающую скидку на товар в день рождения</td>\n",
              "      <td>16.2</td>\n",
              "    </tr>\n",
              "    <tr>\n",
              "      <th>3</th>\n",
              "      <td>Изменить структура категорий, что увеличит конверсию, т.к. пользователи быстрее найдут нужный товар</td>\n",
              "      <td>9.0</td>\n",
              "    </tr>\n",
              "    <tr>\n",
              "      <th>1</th>\n",
              "      <td>Запустить собственную службу доставки, что сократит срок доставки заказов</td>\n",
              "      <td>4.0</td>\n",
              "    </tr>\n",
              "    <tr>\n",
              "      <th>5</th>\n",
              "      <td>Добавить страницу отзывов клиентов о магазине, что позволит увеличить количество заказов</td>\n",
              "      <td>4.0</td>\n",
              "    </tr>\n",
              "    <tr>\n",
              "      <th>4</th>\n",
              "      <td>Изменить цвет фона главной страницы, чтобы увеличить вовлеченность пользователей</td>\n",
              "      <td>3.0</td>\n",
              "    </tr>\n",
              "  </tbody>\n",
              "</table>\n",
              "</div>\n",
              "    <div class=\"colab-df-buttons\">\n",
              "\n",
              "  <div class=\"colab-df-container\">\n",
              "    <button class=\"colab-df-convert\" onclick=\"convertToInteractive('df-7f31bbf1-209d-4233-8c4e-6d2e27b50a8d')\"\n",
              "            title=\"Convert this dataframe to an interactive table.\"\n",
              "            style=\"display:none;\">\n",
              "\n",
              "  <svg xmlns=\"http://www.w3.org/2000/svg\" height=\"24px\" viewBox=\"0 -960 960 960\">\n",
              "    <path d=\"M120-120v-720h720v720H120Zm60-500h600v-160H180v160Zm220 220h160v-160H400v160Zm0 220h160v-160H400v160ZM180-400h160v-160H180v160Zm440 0h160v-160H620v160ZM180-180h160v-160H180v160Zm440 0h160v-160H620v160Z\"/>\n",
              "  </svg>\n",
              "    </button>\n",
              "\n",
              "  <style>\n",
              "    .colab-df-container {\n",
              "      display:flex;\n",
              "      gap: 12px;\n",
              "    }\n",
              "\n",
              "    .colab-df-convert {\n",
              "      background-color: #E8F0FE;\n",
              "      border: none;\n",
              "      border-radius: 50%;\n",
              "      cursor: pointer;\n",
              "      display: none;\n",
              "      fill: #1967D2;\n",
              "      height: 32px;\n",
              "      padding: 0 0 0 0;\n",
              "      width: 32px;\n",
              "    }\n",
              "\n",
              "    .colab-df-convert:hover {\n",
              "      background-color: #E2EBFA;\n",
              "      box-shadow: 0px 1px 2px rgba(60, 64, 67, 0.3), 0px 1px 3px 1px rgba(60, 64, 67, 0.15);\n",
              "      fill: #174EA6;\n",
              "    }\n",
              "\n",
              "    .colab-df-buttons div {\n",
              "      margin-bottom: 4px;\n",
              "    }\n",
              "\n",
              "    [theme=dark] .colab-df-convert {\n",
              "      background-color: #3B4455;\n",
              "      fill: #D2E3FC;\n",
              "    }\n",
              "\n",
              "    [theme=dark] .colab-df-convert:hover {\n",
              "      background-color: #434B5C;\n",
              "      box-shadow: 0px 1px 3px 1px rgba(0, 0, 0, 0.15);\n",
              "      filter: drop-shadow(0px 1px 2px rgba(0, 0, 0, 0.3));\n",
              "      fill: #FFFFFF;\n",
              "    }\n",
              "  </style>\n",
              "\n",
              "    <script>\n",
              "      const buttonEl =\n",
              "        document.querySelector('#df-7f31bbf1-209d-4233-8c4e-6d2e27b50a8d button.colab-df-convert');\n",
              "      buttonEl.style.display =\n",
              "        google.colab.kernel.accessAllowed ? 'block' : 'none';\n",
              "\n",
              "      async function convertToInteractive(key) {\n",
              "        const element = document.querySelector('#df-7f31bbf1-209d-4233-8c4e-6d2e27b50a8d');\n",
              "        const dataTable =\n",
              "          await google.colab.kernel.invokeFunction('convertToInteractive',\n",
              "                                                    [key], {});\n",
              "        if (!dataTable) return;\n",
              "\n",
              "        const docLinkHtml = 'Like what you see? Visit the ' +\n",
              "          '<a target=\"_blank\" href=https://colab.research.google.com/notebooks/data_table.ipynb>data table notebook</a>'\n",
              "          + ' to learn more about interactive tables.';\n",
              "        element.innerHTML = '';\n",
              "        dataTable['output_type'] = 'display_data';\n",
              "        await google.colab.output.renderOutput(dataTable, element);\n",
              "        const docLink = document.createElement('div');\n",
              "        docLink.innerHTML = docLinkHtml;\n",
              "        element.appendChild(docLink);\n",
              "      }\n",
              "    </script>\n",
              "  </div>\n",
              "\n",
              "\n",
              "<div id=\"df-d6d1a40a-82a9-4521-af26-0d494800c249\">\n",
              "  <button class=\"colab-df-quickchart\" onclick=\"quickchart('df-d6d1a40a-82a9-4521-af26-0d494800c249')\"\n",
              "            title=\"Suggest charts\"\n",
              "            style=\"display:none;\">\n",
              "\n",
              "<svg xmlns=\"http://www.w3.org/2000/svg\" height=\"24px\"viewBox=\"0 0 24 24\"\n",
              "     width=\"24px\">\n",
              "    <g>\n",
              "        <path d=\"M19 3H5c-1.1 0-2 .9-2 2v14c0 1.1.9 2 2 2h14c1.1 0 2-.9 2-2V5c0-1.1-.9-2-2-2zM9 17H7v-7h2v7zm4 0h-2V7h2v10zm4 0h-2v-4h2v4z\"/>\n",
              "    </g>\n",
              "</svg>\n",
              "  </button>\n",
              "\n",
              "<style>\n",
              "  .colab-df-quickchart {\n",
              "      --bg-color: #E8F0FE;\n",
              "      --fill-color: #1967D2;\n",
              "      --hover-bg-color: #E2EBFA;\n",
              "      --hover-fill-color: #174EA6;\n",
              "      --disabled-fill-color: #AAA;\n",
              "      --disabled-bg-color: #DDD;\n",
              "  }\n",
              "\n",
              "  [theme=dark] .colab-df-quickchart {\n",
              "      --bg-color: #3B4455;\n",
              "      --fill-color: #D2E3FC;\n",
              "      --hover-bg-color: #434B5C;\n",
              "      --hover-fill-color: #FFFFFF;\n",
              "      --disabled-bg-color: #3B4455;\n",
              "      --disabled-fill-color: #666;\n",
              "  }\n",
              "\n",
              "  .colab-df-quickchart {\n",
              "    background-color: var(--bg-color);\n",
              "    border: none;\n",
              "    border-radius: 50%;\n",
              "    cursor: pointer;\n",
              "    display: none;\n",
              "    fill: var(--fill-color);\n",
              "    height: 32px;\n",
              "    padding: 0;\n",
              "    width: 32px;\n",
              "  }\n",
              "\n",
              "  .colab-df-quickchart:hover {\n",
              "    background-color: var(--hover-bg-color);\n",
              "    box-shadow: 0 1px 2px rgba(60, 64, 67, 0.3), 0 1px 3px 1px rgba(60, 64, 67, 0.15);\n",
              "    fill: var(--button-hover-fill-color);\n",
              "  }\n",
              "\n",
              "  .colab-df-quickchart-complete:disabled,\n",
              "  .colab-df-quickchart-complete:disabled:hover {\n",
              "    background-color: var(--disabled-bg-color);\n",
              "    fill: var(--disabled-fill-color);\n",
              "    box-shadow: none;\n",
              "  }\n",
              "\n",
              "  .colab-df-spinner {\n",
              "    border: 2px solid var(--fill-color);\n",
              "    border-color: transparent;\n",
              "    border-bottom-color: var(--fill-color);\n",
              "    animation:\n",
              "      spin 1s steps(1) infinite;\n",
              "  }\n",
              "\n",
              "  @keyframes spin {\n",
              "    0% {\n",
              "      border-color: transparent;\n",
              "      border-bottom-color: var(--fill-color);\n",
              "      border-left-color: var(--fill-color);\n",
              "    }\n",
              "    20% {\n",
              "      border-color: transparent;\n",
              "      border-left-color: var(--fill-color);\n",
              "      border-top-color: var(--fill-color);\n",
              "    }\n",
              "    30% {\n",
              "      border-color: transparent;\n",
              "      border-left-color: var(--fill-color);\n",
              "      border-top-color: var(--fill-color);\n",
              "      border-right-color: var(--fill-color);\n",
              "    }\n",
              "    40% {\n",
              "      border-color: transparent;\n",
              "      border-right-color: var(--fill-color);\n",
              "      border-top-color: var(--fill-color);\n",
              "    }\n",
              "    60% {\n",
              "      border-color: transparent;\n",
              "      border-right-color: var(--fill-color);\n",
              "    }\n",
              "    80% {\n",
              "      border-color: transparent;\n",
              "      border-right-color: var(--fill-color);\n",
              "      border-bottom-color: var(--fill-color);\n",
              "    }\n",
              "    90% {\n",
              "      border-color: transparent;\n",
              "      border-bottom-color: var(--fill-color);\n",
              "    }\n",
              "  }\n",
              "</style>\n",
              "\n",
              "  <script>\n",
              "    async function quickchart(key) {\n",
              "      const quickchartButtonEl =\n",
              "        document.querySelector('#' + key + ' button');\n",
              "      quickchartButtonEl.disabled = true;  // To prevent multiple clicks.\n",
              "      quickchartButtonEl.classList.add('colab-df-spinner');\n",
              "      try {\n",
              "        const charts = await google.colab.kernel.invokeFunction(\n",
              "            'suggestCharts', [key], {});\n",
              "      } catch (error) {\n",
              "        console.error('Error during call to suggestCharts:', error);\n",
              "      }\n",
              "      quickchartButtonEl.classList.remove('colab-df-spinner');\n",
              "      quickchartButtonEl.classList.add('colab-df-quickchart-complete');\n",
              "    }\n",
              "    (() => {\n",
              "      let quickchartButtonEl =\n",
              "        document.querySelector('#df-d6d1a40a-82a9-4521-af26-0d494800c249 button');\n",
              "      quickchartButtonEl.style.display =\n",
              "        google.colab.kernel.accessAllowed ? 'block' : 'none';\n",
              "    })();\n",
              "  </script>\n",
              "</div>\n",
              "    </div>\n",
              "  </div>\n"
            ],
            "application/vnd.google.colaboratory.intrinsic+json": {
              "type": "dataframe",
              "summary": "{\n  \"name\": \"hypothesis[['Hypothesis', 'RICE']]\",\n  \"rows\": 9,\n  \"fields\": [\n    {\n      \"column\": \"Hypothesis\",\n      \"properties\": {\n        \"dtype\": \"string\",\n        \"num_unique_values\": 9,\n        \"samples\": [\n          \"\\u0414\\u043e\\u0431\\u0430\\u0432\\u0438\\u0442\\u044c \\u0441\\u0442\\u0440\\u0430\\u043d\\u0438\\u0446\\u0443 \\u043e\\u0442\\u0437\\u044b\\u0432\\u043e\\u0432 \\u043a\\u043b\\u0438\\u0435\\u043d\\u0442\\u043e\\u0432 \\u043e \\u043c\\u0430\\u0433\\u0430\\u0437\\u0438\\u043d\\u0435, \\u0447\\u0442\\u043e \\u043f\\u043e\\u0437\\u0432\\u043e\\u043b\\u0438\\u0442 \\u0443\\u0432\\u0435\\u043b\\u0438\\u0447\\u0438\\u0442\\u044c \\u043a\\u043e\\u043b\\u0438\\u0447\\u0435\\u0441\\u0442\\u0432\\u043e \\u0437\\u0430\\u043a\\u0430\\u0437\\u043e\\u0432\",\n          \"\\u0414\\u043e\\u0431\\u0430\\u0432\\u0438\\u0442\\u044c \\u0431\\u043b\\u043e\\u043a\\u0438 \\u0440\\u0435\\u043a\\u043e\\u043c\\u0435\\u043d\\u0434\\u0430\\u0446\\u0438\\u0439 \\u0442\\u043e\\u0432\\u0430\\u0440\\u043e\\u0432 \\u043d\\u0430 \\u0441\\u0430\\u0439\\u0442 \\u0438\\u043d\\u0442\\u0435\\u0440\\u043d\\u0435\\u0442 \\u043c\\u0430\\u0433\\u0430\\u0437\\u0438\\u043d\\u0430, \\u0447\\u0442\\u043e\\u0431\\u044b \\u043f\\u043e\\u0432\\u044b\\u0441\\u0438\\u0442\\u044c \\u043a\\u043e\\u043d\\u0432\\u0435\\u0440\\u0441\\u0438\\u044e \\u0438 \\u0441\\u0440\\u0435\\u0434\\u043d\\u0438\\u0439 \\u0447\\u0435\\u043a \\u0437\\u0430\\u043a\\u0430\\u0437\\u0430\",\n          \"\\u0418\\u0437\\u043c\\u0435\\u043d\\u0438\\u0442\\u044c \\u0441\\u0442\\u0440\\u0443\\u043a\\u0442\\u0443\\u0440\\u0430 \\u043a\\u0430\\u0442\\u0435\\u0433\\u043e\\u0440\\u0438\\u0439, \\u0447\\u0442\\u043e \\u0443\\u0432\\u0435\\u043b\\u0438\\u0447\\u0438\\u0442 \\u043a\\u043e\\u043d\\u0432\\u0435\\u0440\\u0441\\u0438\\u044e, \\u0442.\\u043a. \\u043f\\u043e\\u043b\\u044c\\u0437\\u043e\\u0432\\u0430\\u0442\\u0435\\u043b\\u0438 \\u0431\\u044b\\u0441\\u0442\\u0440\\u0435\\u0435 \\u043d\\u0430\\u0439\\u0434\\u0443\\u0442 \\u043d\\u0443\\u0436\\u043d\\u044b\\u0439 \\u0442\\u043e\\u0432\\u0430\\u0440\"\n        ],\n        \"semantic_type\": \"\",\n        \"description\": \"\"\n      }\n    },\n    {\n      \"column\": \"RICE\",\n      \"properties\": {\n        \"dtype\": \"number\",\n        \"std\": 35.864389642714464,\n        \"min\": 3.0,\n        \"max\": 112.0,\n        \"num_unique_values\": 7,\n        \"samples\": [\n          112.0,\n          56.0,\n          4.0\n        ],\n        \"semantic_type\": \"\",\n        \"description\": \"\"\n      }\n    }\n  ]\n}"
            }
          },
          "metadata": {},
          "execution_count": 22
        }
      ],
      "source": [
        "# Добавим столбец с расчетом RICE для гипотез и отсортируем по убыванию.\n",
        "hypothesis['RICE'] = round((hypothesis['Reach'] * hypothesis['Impact'] * hypothesis['Confidence']) / hypothesis['Efforts'],2)\n",
        "\n",
        "hypothesis[['Hypothesis', 'RICE']].sort_values('RICE', ascending=False)"
      ]
    },
    {
      "cell_type": "markdown",
      "metadata": {
        "id": "L6RkByNCLMpK"
      },
      "source": [
        "В случае с RICE перспективные гипотезы - 7, 2, 0, 6"
      ]
    },
    {
      "cell_type": "markdown",
      "metadata": {
        "id": "MM40EMAkLMpK"
      },
      "source": [
        "##### Шаг 2.2 Как изменилась приоритизация гипотез при применении RICE вместо ICE."
      ]
    },
    {
      "cell_type": "code",
      "execution_count": 23,
      "metadata": {
        "colab": {
          "base_uri": "https://localhost:8080/",
          "height": 435
        },
        "id": "u3TX34GoLMpL",
        "outputId": "1f7bc3fc-acc3-4b7c-d8e0-2c5c75001331"
      },
      "outputs": [
        {
          "output_type": "execute_result",
          "data": {
            "text/plain": [
              "                                                                                                     Hypothesis  \\\n",
              "0            Добавить два новых канала привлечения трафика, что позволит привлекать на 30% больше пользователей   \n",
              "1                                     Запустить собственную службу доставки, что сократит срок доставки заказов   \n",
              "2  Добавить блоки рекомендаций товаров на сайт интернет магазина, чтобы повысить конверсию и средний чек заказа   \n",
              "3           Изменить структура категорий, что увеличит конверсию, т.к. пользователи быстрее найдут нужный товар   \n",
              "4                              Изменить цвет фона главной страницы, чтобы увеличить вовлеченность пользователей   \n",
              "5                      Добавить страницу отзывов клиентов о магазине, что позволит увеличить количество заказов   \n",
              "6          Показать на главной странице баннеры с актуальными акциями и распродажами, чтобы увеличить конверсию   \n",
              "7              Добавить форму подписки на все основные страницы, чтобы собрать базу клиентов для email-рассылок   \n",
              "8                                                       Запустить акцию, дающую скидку на товар в день рождения   \n",
              "\n",
              "   Reach  Impact  Confidence  Efforts    ICE   RICE  \n",
              "0      3      10           8        6  13.33   40.0  \n",
              "1      2       5           4       10   2.00    4.0  \n",
              "2      8       3           7        3   7.00   56.0  \n",
              "3      8       3           3        8   1.12    9.0  \n",
              "4      3       1           1        1   1.00    3.0  \n",
              "5      3       2           2        3   1.33    4.0  \n",
              "6      5       3           8        3   8.00   40.0  \n",
              "7     10       7           8        5  11.20  112.0  \n",
              "8      1       9           9        5  16.20   16.2  "
            ],
            "text/html": [
              "\n",
              "  <div id=\"df-2c2bb1b0-32e0-417e-8ec0-b2e9a6f42ba1\" class=\"colab-df-container\">\n",
              "    <div>\n",
              "<style scoped>\n",
              "    .dataframe tbody tr th:only-of-type {\n",
              "        vertical-align: middle;\n",
              "    }\n",
              "\n",
              "    .dataframe tbody tr th {\n",
              "        vertical-align: top;\n",
              "    }\n",
              "\n",
              "    .dataframe thead th {\n",
              "        text-align: right;\n",
              "    }\n",
              "</style>\n",
              "<table border=\"1\" class=\"dataframe\">\n",
              "  <thead>\n",
              "    <tr style=\"text-align: right;\">\n",
              "      <th></th>\n",
              "      <th>Hypothesis</th>\n",
              "      <th>Reach</th>\n",
              "      <th>Impact</th>\n",
              "      <th>Confidence</th>\n",
              "      <th>Efforts</th>\n",
              "      <th>ICE</th>\n",
              "      <th>RICE</th>\n",
              "    </tr>\n",
              "  </thead>\n",
              "  <tbody>\n",
              "    <tr>\n",
              "      <th>0</th>\n",
              "      <td>Добавить два новых канала привлечения трафика, что позволит привлекать на 30% больше пользователей</td>\n",
              "      <td>3</td>\n",
              "      <td>10</td>\n",
              "      <td>8</td>\n",
              "      <td>6</td>\n",
              "      <td>13.33</td>\n",
              "      <td>40.0</td>\n",
              "    </tr>\n",
              "    <tr>\n",
              "      <th>1</th>\n",
              "      <td>Запустить собственную службу доставки, что сократит срок доставки заказов</td>\n",
              "      <td>2</td>\n",
              "      <td>5</td>\n",
              "      <td>4</td>\n",
              "      <td>10</td>\n",
              "      <td>2.00</td>\n",
              "      <td>4.0</td>\n",
              "    </tr>\n",
              "    <tr>\n",
              "      <th>2</th>\n",
              "      <td>Добавить блоки рекомендаций товаров на сайт интернет магазина, чтобы повысить конверсию и средний чек заказа</td>\n",
              "      <td>8</td>\n",
              "      <td>3</td>\n",
              "      <td>7</td>\n",
              "      <td>3</td>\n",
              "      <td>7.00</td>\n",
              "      <td>56.0</td>\n",
              "    </tr>\n",
              "    <tr>\n",
              "      <th>3</th>\n",
              "      <td>Изменить структура категорий, что увеличит конверсию, т.к. пользователи быстрее найдут нужный товар</td>\n",
              "      <td>8</td>\n",
              "      <td>3</td>\n",
              "      <td>3</td>\n",
              "      <td>8</td>\n",
              "      <td>1.12</td>\n",
              "      <td>9.0</td>\n",
              "    </tr>\n",
              "    <tr>\n",
              "      <th>4</th>\n",
              "      <td>Изменить цвет фона главной страницы, чтобы увеличить вовлеченность пользователей</td>\n",
              "      <td>3</td>\n",
              "      <td>1</td>\n",
              "      <td>1</td>\n",
              "      <td>1</td>\n",
              "      <td>1.00</td>\n",
              "      <td>3.0</td>\n",
              "    </tr>\n",
              "    <tr>\n",
              "      <th>5</th>\n",
              "      <td>Добавить страницу отзывов клиентов о магазине, что позволит увеличить количество заказов</td>\n",
              "      <td>3</td>\n",
              "      <td>2</td>\n",
              "      <td>2</td>\n",
              "      <td>3</td>\n",
              "      <td>1.33</td>\n",
              "      <td>4.0</td>\n",
              "    </tr>\n",
              "    <tr>\n",
              "      <th>6</th>\n",
              "      <td>Показать на главной странице баннеры с актуальными акциями и распродажами, чтобы увеличить конверсию</td>\n",
              "      <td>5</td>\n",
              "      <td>3</td>\n",
              "      <td>8</td>\n",
              "      <td>3</td>\n",
              "      <td>8.00</td>\n",
              "      <td>40.0</td>\n",
              "    </tr>\n",
              "    <tr>\n",
              "      <th>7</th>\n",
              "      <td>Добавить форму подписки на все основные страницы, чтобы собрать базу клиентов для email-рассылок</td>\n",
              "      <td>10</td>\n",
              "      <td>7</td>\n",
              "      <td>8</td>\n",
              "      <td>5</td>\n",
              "      <td>11.20</td>\n",
              "      <td>112.0</td>\n",
              "    </tr>\n",
              "    <tr>\n",
              "      <th>8</th>\n",
              "      <td>Запустить акцию, дающую скидку на товар в день рождения</td>\n",
              "      <td>1</td>\n",
              "      <td>9</td>\n",
              "      <td>9</td>\n",
              "      <td>5</td>\n",
              "      <td>16.20</td>\n",
              "      <td>16.2</td>\n",
              "    </tr>\n",
              "  </tbody>\n",
              "</table>\n",
              "</div>\n",
              "    <div class=\"colab-df-buttons\">\n",
              "\n",
              "  <div class=\"colab-df-container\">\n",
              "    <button class=\"colab-df-convert\" onclick=\"convertToInteractive('df-2c2bb1b0-32e0-417e-8ec0-b2e9a6f42ba1')\"\n",
              "            title=\"Convert this dataframe to an interactive table.\"\n",
              "            style=\"display:none;\">\n",
              "\n",
              "  <svg xmlns=\"http://www.w3.org/2000/svg\" height=\"24px\" viewBox=\"0 -960 960 960\">\n",
              "    <path d=\"M120-120v-720h720v720H120Zm60-500h600v-160H180v160Zm220 220h160v-160H400v160Zm0 220h160v-160H400v160ZM180-400h160v-160H180v160Zm440 0h160v-160H620v160ZM180-180h160v-160H180v160Zm440 0h160v-160H620v160Z\"/>\n",
              "  </svg>\n",
              "    </button>\n",
              "\n",
              "  <style>\n",
              "    .colab-df-container {\n",
              "      display:flex;\n",
              "      gap: 12px;\n",
              "    }\n",
              "\n",
              "    .colab-df-convert {\n",
              "      background-color: #E8F0FE;\n",
              "      border: none;\n",
              "      border-radius: 50%;\n",
              "      cursor: pointer;\n",
              "      display: none;\n",
              "      fill: #1967D2;\n",
              "      height: 32px;\n",
              "      padding: 0 0 0 0;\n",
              "      width: 32px;\n",
              "    }\n",
              "\n",
              "    .colab-df-convert:hover {\n",
              "      background-color: #E2EBFA;\n",
              "      box-shadow: 0px 1px 2px rgba(60, 64, 67, 0.3), 0px 1px 3px 1px rgba(60, 64, 67, 0.15);\n",
              "      fill: #174EA6;\n",
              "    }\n",
              "\n",
              "    .colab-df-buttons div {\n",
              "      margin-bottom: 4px;\n",
              "    }\n",
              "\n",
              "    [theme=dark] .colab-df-convert {\n",
              "      background-color: #3B4455;\n",
              "      fill: #D2E3FC;\n",
              "    }\n",
              "\n",
              "    [theme=dark] .colab-df-convert:hover {\n",
              "      background-color: #434B5C;\n",
              "      box-shadow: 0px 1px 3px 1px rgba(0, 0, 0, 0.15);\n",
              "      filter: drop-shadow(0px 1px 2px rgba(0, 0, 0, 0.3));\n",
              "      fill: #FFFFFF;\n",
              "    }\n",
              "  </style>\n",
              "\n",
              "    <script>\n",
              "      const buttonEl =\n",
              "        document.querySelector('#df-2c2bb1b0-32e0-417e-8ec0-b2e9a6f42ba1 button.colab-df-convert');\n",
              "      buttonEl.style.display =\n",
              "        google.colab.kernel.accessAllowed ? 'block' : 'none';\n",
              "\n",
              "      async function convertToInteractive(key) {\n",
              "        const element = document.querySelector('#df-2c2bb1b0-32e0-417e-8ec0-b2e9a6f42ba1');\n",
              "        const dataTable =\n",
              "          await google.colab.kernel.invokeFunction('convertToInteractive',\n",
              "                                                    [key], {});\n",
              "        if (!dataTable) return;\n",
              "\n",
              "        const docLinkHtml = 'Like what you see? Visit the ' +\n",
              "          '<a target=\"_blank\" href=https://colab.research.google.com/notebooks/data_table.ipynb>data table notebook</a>'\n",
              "          + ' to learn more about interactive tables.';\n",
              "        element.innerHTML = '';\n",
              "        dataTable['output_type'] = 'display_data';\n",
              "        await google.colab.output.renderOutput(dataTable, element);\n",
              "        const docLink = document.createElement('div');\n",
              "        docLink.innerHTML = docLinkHtml;\n",
              "        element.appendChild(docLink);\n",
              "      }\n",
              "    </script>\n",
              "  </div>\n",
              "\n",
              "\n",
              "<div id=\"df-71f905e9-c01b-4f88-a559-b7c1825d79e8\">\n",
              "  <button class=\"colab-df-quickchart\" onclick=\"quickchart('df-71f905e9-c01b-4f88-a559-b7c1825d79e8')\"\n",
              "            title=\"Suggest charts\"\n",
              "            style=\"display:none;\">\n",
              "\n",
              "<svg xmlns=\"http://www.w3.org/2000/svg\" height=\"24px\"viewBox=\"0 0 24 24\"\n",
              "     width=\"24px\">\n",
              "    <g>\n",
              "        <path d=\"M19 3H5c-1.1 0-2 .9-2 2v14c0 1.1.9 2 2 2h14c1.1 0 2-.9 2-2V5c0-1.1-.9-2-2-2zM9 17H7v-7h2v7zm4 0h-2V7h2v10zm4 0h-2v-4h2v4z\"/>\n",
              "    </g>\n",
              "</svg>\n",
              "  </button>\n",
              "\n",
              "<style>\n",
              "  .colab-df-quickchart {\n",
              "      --bg-color: #E8F0FE;\n",
              "      --fill-color: #1967D2;\n",
              "      --hover-bg-color: #E2EBFA;\n",
              "      --hover-fill-color: #174EA6;\n",
              "      --disabled-fill-color: #AAA;\n",
              "      --disabled-bg-color: #DDD;\n",
              "  }\n",
              "\n",
              "  [theme=dark] .colab-df-quickchart {\n",
              "      --bg-color: #3B4455;\n",
              "      --fill-color: #D2E3FC;\n",
              "      --hover-bg-color: #434B5C;\n",
              "      --hover-fill-color: #FFFFFF;\n",
              "      --disabled-bg-color: #3B4455;\n",
              "      --disabled-fill-color: #666;\n",
              "  }\n",
              "\n",
              "  .colab-df-quickchart {\n",
              "    background-color: var(--bg-color);\n",
              "    border: none;\n",
              "    border-radius: 50%;\n",
              "    cursor: pointer;\n",
              "    display: none;\n",
              "    fill: var(--fill-color);\n",
              "    height: 32px;\n",
              "    padding: 0;\n",
              "    width: 32px;\n",
              "  }\n",
              "\n",
              "  .colab-df-quickchart:hover {\n",
              "    background-color: var(--hover-bg-color);\n",
              "    box-shadow: 0 1px 2px rgba(60, 64, 67, 0.3), 0 1px 3px 1px rgba(60, 64, 67, 0.15);\n",
              "    fill: var(--button-hover-fill-color);\n",
              "  }\n",
              "\n",
              "  .colab-df-quickchart-complete:disabled,\n",
              "  .colab-df-quickchart-complete:disabled:hover {\n",
              "    background-color: var(--disabled-bg-color);\n",
              "    fill: var(--disabled-fill-color);\n",
              "    box-shadow: none;\n",
              "  }\n",
              "\n",
              "  .colab-df-spinner {\n",
              "    border: 2px solid var(--fill-color);\n",
              "    border-color: transparent;\n",
              "    border-bottom-color: var(--fill-color);\n",
              "    animation:\n",
              "      spin 1s steps(1) infinite;\n",
              "  }\n",
              "\n",
              "  @keyframes spin {\n",
              "    0% {\n",
              "      border-color: transparent;\n",
              "      border-bottom-color: var(--fill-color);\n",
              "      border-left-color: var(--fill-color);\n",
              "    }\n",
              "    20% {\n",
              "      border-color: transparent;\n",
              "      border-left-color: var(--fill-color);\n",
              "      border-top-color: var(--fill-color);\n",
              "    }\n",
              "    30% {\n",
              "      border-color: transparent;\n",
              "      border-left-color: var(--fill-color);\n",
              "      border-top-color: var(--fill-color);\n",
              "      border-right-color: var(--fill-color);\n",
              "    }\n",
              "    40% {\n",
              "      border-color: transparent;\n",
              "      border-right-color: var(--fill-color);\n",
              "      border-top-color: var(--fill-color);\n",
              "    }\n",
              "    60% {\n",
              "      border-color: transparent;\n",
              "      border-right-color: var(--fill-color);\n",
              "    }\n",
              "    80% {\n",
              "      border-color: transparent;\n",
              "      border-right-color: var(--fill-color);\n",
              "      border-bottom-color: var(--fill-color);\n",
              "    }\n",
              "    90% {\n",
              "      border-color: transparent;\n",
              "      border-bottom-color: var(--fill-color);\n",
              "    }\n",
              "  }\n",
              "</style>\n",
              "\n",
              "  <script>\n",
              "    async function quickchart(key) {\n",
              "      const quickchartButtonEl =\n",
              "        document.querySelector('#' + key + ' button');\n",
              "      quickchartButtonEl.disabled = true;  // To prevent multiple clicks.\n",
              "      quickchartButtonEl.classList.add('colab-df-spinner');\n",
              "      try {\n",
              "        const charts = await google.colab.kernel.invokeFunction(\n",
              "            'suggestCharts', [key], {});\n",
              "      } catch (error) {\n",
              "        console.error('Error during call to suggestCharts:', error);\n",
              "      }\n",
              "      quickchartButtonEl.classList.remove('colab-df-spinner');\n",
              "      quickchartButtonEl.classList.add('colab-df-quickchart-complete');\n",
              "    }\n",
              "    (() => {\n",
              "      let quickchartButtonEl =\n",
              "        document.querySelector('#df-71f905e9-c01b-4f88-a559-b7c1825d79e8 button');\n",
              "      quickchartButtonEl.style.display =\n",
              "        google.colab.kernel.accessAllowed ? 'block' : 'none';\n",
              "    })();\n",
              "  </script>\n",
              "</div>\n",
              "    </div>\n",
              "  </div>\n"
            ],
            "application/vnd.google.colaboratory.intrinsic+json": {
              "type": "dataframe",
              "variable_name": "hypothesis",
              "summary": "{\n  \"name\": \"hypothesis\",\n  \"rows\": 9,\n  \"fields\": [\n    {\n      \"column\": \"Hypothesis\",\n      \"properties\": {\n        \"dtype\": \"string\",\n        \"num_unique_values\": 9,\n        \"samples\": [\n          \"\\u0414\\u043e\\u0431\\u0430\\u0432\\u0438\\u0442\\u044c \\u0444\\u043e\\u0440\\u043c\\u0443 \\u043f\\u043e\\u0434\\u043f\\u0438\\u0441\\u043a\\u0438 \\u043d\\u0430 \\u0432\\u0441\\u0435 \\u043e\\u0441\\u043d\\u043e\\u0432\\u043d\\u044b\\u0435 \\u0441\\u0442\\u0440\\u0430\\u043d\\u0438\\u0446\\u044b, \\u0447\\u0442\\u043e\\u0431\\u044b \\u0441\\u043e\\u0431\\u0440\\u0430\\u0442\\u044c \\u0431\\u0430\\u0437\\u0443 \\u043a\\u043b\\u0438\\u0435\\u043d\\u0442\\u043e\\u0432 \\u0434\\u043b\\u044f email-\\u0440\\u0430\\u0441\\u0441\\u044b\\u043b\\u043e\\u043a\",\n          \"\\u0417\\u0430\\u043f\\u0443\\u0441\\u0442\\u0438\\u0442\\u044c \\u0441\\u043e\\u0431\\u0441\\u0442\\u0432\\u0435\\u043d\\u043d\\u0443\\u044e \\u0441\\u043b\\u0443\\u0436\\u0431\\u0443 \\u0434\\u043e\\u0441\\u0442\\u0430\\u0432\\u043a\\u0438, \\u0447\\u0442\\u043e \\u0441\\u043e\\u043a\\u0440\\u0430\\u0442\\u0438\\u0442 \\u0441\\u0440\\u043e\\u043a \\u0434\\u043e\\u0441\\u0442\\u0430\\u0432\\u043a\\u0438 \\u0437\\u0430\\u043a\\u0430\\u0437\\u043e\\u0432\",\n          \"\\u0414\\u043e\\u0431\\u0430\\u0432\\u0438\\u0442\\u044c \\u0441\\u0442\\u0440\\u0430\\u043d\\u0438\\u0446\\u0443 \\u043e\\u0442\\u0437\\u044b\\u0432\\u043e\\u0432 \\u043a\\u043b\\u0438\\u0435\\u043d\\u0442\\u043e\\u0432 \\u043e \\u043c\\u0430\\u0433\\u0430\\u0437\\u0438\\u043d\\u0435, \\u0447\\u0442\\u043e \\u043f\\u043e\\u0437\\u0432\\u043e\\u043b\\u0438\\u0442 \\u0443\\u0432\\u0435\\u043b\\u0438\\u0447\\u0438\\u0442\\u044c \\u043a\\u043e\\u043b\\u0438\\u0447\\u0435\\u0441\\u0442\\u0432\\u043e \\u0437\\u0430\\u043a\\u0430\\u0437\\u043e\\u0432\"\n        ],\n        \"semantic_type\": \"\",\n        \"description\": \"\"\n      }\n    },\n    {\n      \"column\": \"Reach\",\n      \"properties\": {\n        \"dtype\": \"number\",\n        \"std\": 3,\n        \"min\": 1,\n        \"max\": 10,\n        \"num_unique_values\": 6,\n        \"samples\": [\n          3,\n          2,\n          1\n        ],\n        \"semantic_type\": \"\",\n        \"description\": \"\"\n      }\n    },\n    {\n      \"column\": \"Impact\",\n      \"properties\": {\n        \"dtype\": \"number\",\n        \"std\": 3,\n        \"min\": 1,\n        \"max\": 10,\n        \"num_unique_values\": 7,\n        \"samples\": [\n          10,\n          5,\n          7\n        ],\n        \"semantic_type\": \"\",\n        \"description\": \"\"\n      }\n    },\n    {\n      \"column\": \"Confidence\",\n      \"properties\": {\n        \"dtype\": \"number\",\n        \"std\": 3,\n        \"min\": 1,\n        \"max\": 9,\n        \"num_unique_values\": 7,\n        \"samples\": [\n          8,\n          4,\n          2\n        ],\n        \"semantic_type\": \"\",\n        \"description\": \"\"\n      }\n    },\n    {\n      \"column\": \"Efforts\",\n      \"properties\": {\n        \"dtype\": \"number\",\n        \"std\": 2,\n        \"min\": 1,\n        \"max\": 10,\n        \"num_unique_values\": 6,\n        \"samples\": [\n          6,\n          10,\n          5\n        ],\n        \"semantic_type\": \"\",\n        \"description\": \"\"\n      }\n    },\n    {\n      \"column\": \"ICE\",\n      \"properties\": {\n        \"dtype\": \"number\",\n        \"std\": 5.817045594152107,\n        \"min\": 1.0,\n        \"max\": 16.2,\n        \"num_unique_values\": 9,\n        \"samples\": [\n          11.2,\n          2.0,\n          1.33\n        ],\n        \"semantic_type\": \"\",\n        \"description\": \"\"\n      }\n    },\n    {\n      \"column\": \"RICE\",\n      \"properties\": {\n        \"dtype\": \"number\",\n        \"std\": 35.864389642714464,\n        \"min\": 3.0,\n        \"max\": 112.0,\n        \"num_unique_values\": 7,\n        \"samples\": [\n          40.0,\n          4.0,\n          112.0\n        ],\n        \"semantic_type\": \"\",\n        \"description\": \"\"\n      }\n    }\n  ]\n}"
            }
          },
          "metadata": {},
          "execution_count": 23
        }
      ],
      "source": [
        "# Для удобства еще раз выведем таблицу Гипотез\n",
        "hypothesis"
      ]
    },
    {
      "cell_type": "markdown",
      "metadata": {
        "id": "smUokKfpLMpL"
      },
      "source": [
        "По таблице мы видим что наибольшие Reach и Impact имеет как раз 7 гипотеза. Что и позволяет ей стать наиболее приоритеной в методике RICE. То есть при использовании RICE важное влияние имеют две компоненты:\n",
        "- Сила гипотезы - Impact;\n",
        "- Скольких пользоватлей она затронет - Reach."
      ]
    },
    {
      "cell_type": "markdown",
      "metadata": {
        "id": "QWRz5XdJLMpL"
      },
      "source": [
        "#### Шаг 3. Анализ A/B-теста"
      ]
    },
    {
      "cell_type": "markdown",
      "metadata": {
        "id": "H366tFEFLMpL"
      },
      "source": [
        "##### Шаг 3.1 График кумулятивной выручки по группам."
      ]
    },
    {
      "cell_type": "code",
      "execution_count": 24,
      "metadata": {
        "id": "KBNI4ZJBLMpM"
      },
      "outputs": [],
      "source": [
        "# Первым делом преобразуем столбец даты\n",
        "orders['date'] = pd.to_datetime(orders['date'], format='%Y-%m-%d')\n",
        "visitors['date'] = pd.to_datetime(visitors['date'], format='%Y-%m-%d')"
      ]
    },
    {
      "cell_type": "code",
      "execution_count": 25,
      "metadata": {
        "id": "Nq62eLo3LMpM"
      },
      "outputs": [],
      "source": [
        "# Cоздаем массив уникальных пар значений дат и групп теста\n",
        "datesGroups = orders[['date','group']].drop_duplicates()"
      ]
    },
    {
      "cell_type": "code",
      "execution_count": 26,
      "metadata": {
        "colab": {
          "base_uri": "https://localhost:8080/",
          "height": 206
        },
        "id": "pXDUO3vVLMpM",
        "outputId": "ac6e67b3-1950-49ed-eb13-39b256d41123"
      },
      "outputs": [
        {
          "output_type": "execute_result",
          "data": {
            "text/plain": [
              "        date group  orders  buyers  revenue  visitors\n",
              "0 2019-08-01     A      24      20   148579       719\n",
              "1 2019-08-01     B      21      20   101217       713\n",
              "2 2019-08-02     A      44      38   242401      1338\n",
              "3 2019-08-02     B      45      43   266748      1294\n",
              "4 2019-08-03     A      68      62   354874      1845"
            ],
            "text/html": [
              "\n",
              "  <div id=\"df-6e23e981-46c4-4c32-bc47-0f5923cf6e5a\" class=\"colab-df-container\">\n",
              "    <div>\n",
              "<style scoped>\n",
              "    .dataframe tbody tr th:only-of-type {\n",
              "        vertical-align: middle;\n",
              "    }\n",
              "\n",
              "    .dataframe tbody tr th {\n",
              "        vertical-align: top;\n",
              "    }\n",
              "\n",
              "    .dataframe thead th {\n",
              "        text-align: right;\n",
              "    }\n",
              "</style>\n",
              "<table border=\"1\" class=\"dataframe\">\n",
              "  <thead>\n",
              "    <tr style=\"text-align: right;\">\n",
              "      <th></th>\n",
              "      <th>date</th>\n",
              "      <th>group</th>\n",
              "      <th>orders</th>\n",
              "      <th>buyers</th>\n",
              "      <th>revenue</th>\n",
              "      <th>visitors</th>\n",
              "    </tr>\n",
              "  </thead>\n",
              "  <tbody>\n",
              "    <tr>\n",
              "      <th>0</th>\n",
              "      <td>2019-08-01</td>\n",
              "      <td>A</td>\n",
              "      <td>24</td>\n",
              "      <td>20</td>\n",
              "      <td>148579</td>\n",
              "      <td>719</td>\n",
              "    </tr>\n",
              "    <tr>\n",
              "      <th>1</th>\n",
              "      <td>2019-08-01</td>\n",
              "      <td>B</td>\n",
              "      <td>21</td>\n",
              "      <td>20</td>\n",
              "      <td>101217</td>\n",
              "      <td>713</td>\n",
              "    </tr>\n",
              "    <tr>\n",
              "      <th>2</th>\n",
              "      <td>2019-08-02</td>\n",
              "      <td>A</td>\n",
              "      <td>44</td>\n",
              "      <td>38</td>\n",
              "      <td>242401</td>\n",
              "      <td>1338</td>\n",
              "    </tr>\n",
              "    <tr>\n",
              "      <th>3</th>\n",
              "      <td>2019-08-02</td>\n",
              "      <td>B</td>\n",
              "      <td>45</td>\n",
              "      <td>43</td>\n",
              "      <td>266748</td>\n",
              "      <td>1294</td>\n",
              "    </tr>\n",
              "    <tr>\n",
              "      <th>4</th>\n",
              "      <td>2019-08-03</td>\n",
              "      <td>A</td>\n",
              "      <td>68</td>\n",
              "      <td>62</td>\n",
              "      <td>354874</td>\n",
              "      <td>1845</td>\n",
              "    </tr>\n",
              "  </tbody>\n",
              "</table>\n",
              "</div>\n",
              "    <div class=\"colab-df-buttons\">\n",
              "\n",
              "  <div class=\"colab-df-container\">\n",
              "    <button class=\"colab-df-convert\" onclick=\"convertToInteractive('df-6e23e981-46c4-4c32-bc47-0f5923cf6e5a')\"\n",
              "            title=\"Convert this dataframe to an interactive table.\"\n",
              "            style=\"display:none;\">\n",
              "\n",
              "  <svg xmlns=\"http://www.w3.org/2000/svg\" height=\"24px\" viewBox=\"0 -960 960 960\">\n",
              "    <path d=\"M120-120v-720h720v720H120Zm60-500h600v-160H180v160Zm220 220h160v-160H400v160Zm0 220h160v-160H400v160ZM180-400h160v-160H180v160Zm440 0h160v-160H620v160ZM180-180h160v-160H180v160Zm440 0h160v-160H620v160Z\"/>\n",
              "  </svg>\n",
              "    </button>\n",
              "\n",
              "  <style>\n",
              "    .colab-df-container {\n",
              "      display:flex;\n",
              "      gap: 12px;\n",
              "    }\n",
              "\n",
              "    .colab-df-convert {\n",
              "      background-color: #E8F0FE;\n",
              "      border: none;\n",
              "      border-radius: 50%;\n",
              "      cursor: pointer;\n",
              "      display: none;\n",
              "      fill: #1967D2;\n",
              "      height: 32px;\n",
              "      padding: 0 0 0 0;\n",
              "      width: 32px;\n",
              "    }\n",
              "\n",
              "    .colab-df-convert:hover {\n",
              "      background-color: #E2EBFA;\n",
              "      box-shadow: 0px 1px 2px rgba(60, 64, 67, 0.3), 0px 1px 3px 1px rgba(60, 64, 67, 0.15);\n",
              "      fill: #174EA6;\n",
              "    }\n",
              "\n",
              "    .colab-df-buttons div {\n",
              "      margin-bottom: 4px;\n",
              "    }\n",
              "\n",
              "    [theme=dark] .colab-df-convert {\n",
              "      background-color: #3B4455;\n",
              "      fill: #D2E3FC;\n",
              "    }\n",
              "\n",
              "    [theme=dark] .colab-df-convert:hover {\n",
              "      background-color: #434B5C;\n",
              "      box-shadow: 0px 1px 3px 1px rgba(0, 0, 0, 0.15);\n",
              "      filter: drop-shadow(0px 1px 2px rgba(0, 0, 0, 0.3));\n",
              "      fill: #FFFFFF;\n",
              "    }\n",
              "  </style>\n",
              "\n",
              "    <script>\n",
              "      const buttonEl =\n",
              "        document.querySelector('#df-6e23e981-46c4-4c32-bc47-0f5923cf6e5a button.colab-df-convert');\n",
              "      buttonEl.style.display =\n",
              "        google.colab.kernel.accessAllowed ? 'block' : 'none';\n",
              "\n",
              "      async function convertToInteractive(key) {\n",
              "        const element = document.querySelector('#df-6e23e981-46c4-4c32-bc47-0f5923cf6e5a');\n",
              "        const dataTable =\n",
              "          await google.colab.kernel.invokeFunction('convertToInteractive',\n",
              "                                                    [key], {});\n",
              "        if (!dataTable) return;\n",
              "\n",
              "        const docLinkHtml = 'Like what you see? Visit the ' +\n",
              "          '<a target=\"_blank\" href=https://colab.research.google.com/notebooks/data_table.ipynb>data table notebook</a>'\n",
              "          + ' to learn more about interactive tables.';\n",
              "        element.innerHTML = '';\n",
              "        dataTable['output_type'] = 'display_data';\n",
              "        await google.colab.output.renderOutput(dataTable, element);\n",
              "        const docLink = document.createElement('div');\n",
              "        docLink.innerHTML = docLinkHtml;\n",
              "        element.appendChild(docLink);\n",
              "      }\n",
              "    </script>\n",
              "  </div>\n",
              "\n",
              "\n",
              "<div id=\"df-4992a3b4-e323-43b0-88ab-bc91a06848e2\">\n",
              "  <button class=\"colab-df-quickchart\" onclick=\"quickchart('df-4992a3b4-e323-43b0-88ab-bc91a06848e2')\"\n",
              "            title=\"Suggest charts\"\n",
              "            style=\"display:none;\">\n",
              "\n",
              "<svg xmlns=\"http://www.w3.org/2000/svg\" height=\"24px\"viewBox=\"0 0 24 24\"\n",
              "     width=\"24px\">\n",
              "    <g>\n",
              "        <path d=\"M19 3H5c-1.1 0-2 .9-2 2v14c0 1.1.9 2 2 2h14c1.1 0 2-.9 2-2V5c0-1.1-.9-2-2-2zM9 17H7v-7h2v7zm4 0h-2V7h2v10zm4 0h-2v-4h2v4z\"/>\n",
              "    </g>\n",
              "</svg>\n",
              "  </button>\n",
              "\n",
              "<style>\n",
              "  .colab-df-quickchart {\n",
              "      --bg-color: #E8F0FE;\n",
              "      --fill-color: #1967D2;\n",
              "      --hover-bg-color: #E2EBFA;\n",
              "      --hover-fill-color: #174EA6;\n",
              "      --disabled-fill-color: #AAA;\n",
              "      --disabled-bg-color: #DDD;\n",
              "  }\n",
              "\n",
              "  [theme=dark] .colab-df-quickchart {\n",
              "      --bg-color: #3B4455;\n",
              "      --fill-color: #D2E3FC;\n",
              "      --hover-bg-color: #434B5C;\n",
              "      --hover-fill-color: #FFFFFF;\n",
              "      --disabled-bg-color: #3B4455;\n",
              "      --disabled-fill-color: #666;\n",
              "  }\n",
              "\n",
              "  .colab-df-quickchart {\n",
              "    background-color: var(--bg-color);\n",
              "    border: none;\n",
              "    border-radius: 50%;\n",
              "    cursor: pointer;\n",
              "    display: none;\n",
              "    fill: var(--fill-color);\n",
              "    height: 32px;\n",
              "    padding: 0;\n",
              "    width: 32px;\n",
              "  }\n",
              "\n",
              "  .colab-df-quickchart:hover {\n",
              "    background-color: var(--hover-bg-color);\n",
              "    box-shadow: 0 1px 2px rgba(60, 64, 67, 0.3), 0 1px 3px 1px rgba(60, 64, 67, 0.15);\n",
              "    fill: var(--button-hover-fill-color);\n",
              "  }\n",
              "\n",
              "  .colab-df-quickchart-complete:disabled,\n",
              "  .colab-df-quickchart-complete:disabled:hover {\n",
              "    background-color: var(--disabled-bg-color);\n",
              "    fill: var(--disabled-fill-color);\n",
              "    box-shadow: none;\n",
              "  }\n",
              "\n",
              "  .colab-df-spinner {\n",
              "    border: 2px solid var(--fill-color);\n",
              "    border-color: transparent;\n",
              "    border-bottom-color: var(--fill-color);\n",
              "    animation:\n",
              "      spin 1s steps(1) infinite;\n",
              "  }\n",
              "\n",
              "  @keyframes spin {\n",
              "    0% {\n",
              "      border-color: transparent;\n",
              "      border-bottom-color: var(--fill-color);\n",
              "      border-left-color: var(--fill-color);\n",
              "    }\n",
              "    20% {\n",
              "      border-color: transparent;\n",
              "      border-left-color: var(--fill-color);\n",
              "      border-top-color: var(--fill-color);\n",
              "    }\n",
              "    30% {\n",
              "      border-color: transparent;\n",
              "      border-left-color: var(--fill-color);\n",
              "      border-top-color: var(--fill-color);\n",
              "      border-right-color: var(--fill-color);\n",
              "    }\n",
              "    40% {\n",
              "      border-color: transparent;\n",
              "      border-right-color: var(--fill-color);\n",
              "      border-top-color: var(--fill-color);\n",
              "    }\n",
              "    60% {\n",
              "      border-color: transparent;\n",
              "      border-right-color: var(--fill-color);\n",
              "    }\n",
              "    80% {\n",
              "      border-color: transparent;\n",
              "      border-right-color: var(--fill-color);\n",
              "      border-bottom-color: var(--fill-color);\n",
              "    }\n",
              "    90% {\n",
              "      border-color: transparent;\n",
              "      border-bottom-color: var(--fill-color);\n",
              "    }\n",
              "  }\n",
              "</style>\n",
              "\n",
              "  <script>\n",
              "    async function quickchart(key) {\n",
              "      const quickchartButtonEl =\n",
              "        document.querySelector('#' + key + ' button');\n",
              "      quickchartButtonEl.disabled = true;  // To prevent multiple clicks.\n",
              "      quickchartButtonEl.classList.add('colab-df-spinner');\n",
              "      try {\n",
              "        const charts = await google.colab.kernel.invokeFunction(\n",
              "            'suggestCharts', [key], {});\n",
              "      } catch (error) {\n",
              "        console.error('Error during call to suggestCharts:', error);\n",
              "      }\n",
              "      quickchartButtonEl.classList.remove('colab-df-spinner');\n",
              "      quickchartButtonEl.classList.add('colab-df-quickchart-complete');\n",
              "    }\n",
              "    (() => {\n",
              "      let quickchartButtonEl =\n",
              "        document.querySelector('#df-4992a3b4-e323-43b0-88ab-bc91a06848e2 button');\n",
              "      quickchartButtonEl.style.display =\n",
              "        google.colab.kernel.accessAllowed ? 'block' : 'none';\n",
              "    })();\n",
              "  </script>\n",
              "</div>\n",
              "    </div>\n",
              "  </div>\n"
            ],
            "application/vnd.google.colaboratory.intrinsic+json": {
              "type": "dataframe",
              "variable_name": "cumulativeData",
              "summary": "{\n  \"name\": \"cumulativeData\",\n  \"rows\": 62,\n  \"fields\": [\n    {\n      \"column\": \"date\",\n      \"properties\": {\n        \"dtype\": \"date\",\n        \"min\": \"2019-08-01 00:00:00\",\n        \"max\": \"2019-08-31 00:00:00\",\n        \"num_unique_values\": 31,\n        \"samples\": [\n          \"2019-08-28 00:00:00\",\n          \"2019-08-16 00:00:00\",\n          \"2019-08-24 00:00:00\"\n        ],\n        \"semantic_type\": \"\",\n        \"description\": \"\"\n      }\n    },\n    {\n      \"column\": \"group\",\n      \"properties\": {\n        \"dtype\": \"category\",\n        \"num_unique_values\": 2,\n        \"samples\": [\n          \"B\",\n          \"A\"\n        ],\n        \"semantic_type\": \"\",\n        \"description\": \"\"\n      }\n    },\n    {\n      \"column\": \"orders\",\n      \"properties\": {\n        \"dtype\": \"number\",\n        \"std\": 172,\n        \"min\": 21,\n        \"max\": 640,\n        \"num_unique_values\": 62,\n        \"samples\": [\n          467,\n          534\n        ],\n        \"semantic_type\": \"\",\n        \"description\": \"\"\n      }\n    },\n    {\n      \"column\": \"buyers\",\n      \"properties\": {\n        \"dtype\": \"number\",\n        \"std\": 157,\n        \"min\": 20,\n        \"max\": 586,\n        \"num_unique_values\": 60,\n        \"samples\": [\n          20,\n          77\n        ],\n        \"semantic_type\": \"\",\n        \"description\": \"\"\n      }\n    },\n    {\n      \"column\": \"revenue\",\n      \"properties\": {\n        \"dtype\": \"number\",\n        \"std\": 1659118,\n        \"min\": 101217,\n        \"max\": 5907760,\n        \"num_unique_values\": 62,\n        \"samples\": [\n          3227918,\n          3936510\n        ],\n        \"semantic_type\": \"\",\n        \"description\": \"\"\n      }\n    },\n    {\n      \"column\": \"visitors\",\n      \"properties\": {\n        \"dtype\": \"number\",\n        \"std\": 5378,\n        \"min\": 713,\n        \"max\": 18916,\n        \"num_unique_values\": 62,\n        \"samples\": [\n          15665,\n          17547\n        ],\n        \"semantic_type\": \"\",\n        \"description\": \"\"\n      }\n    }\n  ]\n}"
            }
          },
          "metadata": {},
          "execution_count": 26
        }
      ],
      "source": [
        "# Получаем агрегированные кумулятивные по дням данные о заказах\n",
        "ordersAggregated = datesGroups.apply(\n",
        "    lambda x: orders[\n",
        "        np.logical_and(\n",
        "            orders['date'] <= x['date'], orders['group'] == x['group']\n",
        "        )\n",
        "    ].agg(\n",
        "        {\n",
        "            'date': 'max',\n",
        "            'group': 'max',\n",
        "            'transactionId': 'nunique',\n",
        "            'visitorId': 'nunique',\n",
        "            'revenue': 'sum',\n",
        "        }\n",
        "    ),\n",
        "    axis=1,\n",
        ").sort_values(by=['date', 'group'])\n",
        "\n",
        "# Получаем агрегированные кумулятивные по дням данные о посетителях интернет-магазина\n",
        "visitorsAggregated = datesGroups.apply(\n",
        "    lambda x: visitors[\n",
        "        np.logical_and(\n",
        "            visitors['date'] <= x['date'], visitors['group'] == x['group']\n",
        "        )\n",
        "    ].agg({'date': 'max', 'group': 'max', 'visitors': 'sum'}),\n",
        "    axis=1,\n",
        ").sort_values(by=['date', 'group'])\n",
        "\n",
        "# Объединяем кумулятивные данные в одной таблице и присваиваем ее столбцам понятные названия\n",
        "cumulativeData = ordersAggregated.merge(visitorsAggregated, left_on=['date', 'group'], right_on=['date', 'group'])\n",
        "cumulativeData.columns = ['date', 'group', 'orders', 'buyers', 'revenue', 'visitors']\n",
        "\n",
        "cumulativeData.head(5)"
      ]
    },
    {
      "cell_type": "code",
      "execution_count": 27,
      "metadata": {
        "colab": {
          "base_uri": "https://localhost:8080/",
          "height": 645
        },
        "id": "j6GREXOMLMpN",
        "outputId": "7c5141b6-b159-4ad4-fd6a-2a1711794d31"
      },
      "outputs": [
        {
          "output_type": "display_data",
          "data": {
            "text/plain": [
              "<Figure size 1200x700 with 1 Axes>"
            ],
            "image/png": "[encoded data removed]"
          },
          "metadata": {}
        }
      ],
      "source": [
        "# Датафрейм с кумулятивным количеством заказов и кумулятивной выручкой по дням в группе А\n",
        "cumulativeRevenueA = cumulativeData[cumulativeData['group']=='A'][['date','revenue', 'orders']]\n",
        "\n",
        "# Датафрейм с кумулятивным количеством заказов и кумулятивной выручкой по дням в группе B\n",
        "cumulativeRevenueB = cumulativeData[cumulativeData['group']=='B'][['date','revenue', 'orders']]\n",
        "\n",
        "# Зададим размер графика и подписи\n",
        "plt.figure(figsize=(12, 7))\n",
        "plt.xlabel(\"Дни\", size=12)\n",
        "plt.ylabel(\"Выручка\", size=12)\n",
        "plt.title(\"Кумулятивная выручка по дням и группам\")\n",
        "\n",
        "# Строим график выручки группы А\n",
        "plt.plot(cumulativeRevenueA['date'], cumulativeRevenueA['revenue'], label='A')\n",
        "\n",
        "# Строим график выручки группы B\n",
        "plt.plot(cumulativeRevenueB['date'], cumulativeRevenueB['revenue'], label='B')\n",
        "\n",
        "plt.legend();"
      ]
    },
    {
      "cell_type": "markdown",
      "metadata": {
        "id": "Sg2KhK6vLMpO"
      },
      "source": [
        "**Вывод:**\n",
        "\n",
        "Видим по графику что в обоих группах выручка до 18.08.2019 растет практически равномерно, а вот после в группе В наблюдается значительный прирост.Это может сигнализировать о всплесках числа заказов, либо о появлении очень дорогих заказов в выборке."
      ]
    },
    {
      "cell_type": "markdown",
      "metadata": {
        "id": "chwgyn5xLMpO"
      },
      "source": [
        "##### Шаг 3.2 График кумулятивного среднего чека по группам."
      ]
    },
    {
      "cell_type": "code",
      "execution_count": 28,
      "metadata": {
        "colab": {
          "base_uri": "https://localhost:8080/",
          "height": 643
        },
        "id": "1DGXIcE7LMpO",
        "outputId": "37e7b98a-f7b8-4331-8292-b274d5d76da6"
      },
      "outputs": [
        {
          "output_type": "display_data",
          "data": {
            "text/plain": [
              "<Figure size 1200x700 with 1 Axes>"
            ],
            "image/png": "[encoded data removed]"
          },
          "metadata": {}
        }
      ],
      "source": [
        "# Зададим размер графика и подписи\n",
        "plt.figure(figsize=(12, 7))\n",
        "plt.xlabel(\"Дни\", size=12)\n",
        "plt.ylabel(\"Средний чек\", size=12)\n",
        "plt.title(\"Кумулятивный средний чек по дням и группам\")\n",
        "\n",
        "# Построим графики среднего чека по группам — разделим кумулятивную выручку на кумулятивное число заказов\n",
        "plt.plot(cumulativeRevenueA['date'], cumulativeRevenueA['revenue']/cumulativeRevenueA['orders'], label='A')\n",
        "plt.plot(cumulativeRevenueB['date'], cumulativeRevenueB['revenue']/cumulativeRevenueB['orders'], label='B')\n",
        "plt.legend();"
      ]
    },
    {
      "cell_type": "markdown",
      "metadata": {
        "id": "QTmQYy3jLMpO"
      },
      "source": [
        "**Вывод:**\n",
        "\n",
        "Как и на графике с выручкой видим, что 18.08.2019 в группе В наблюдается резкий скачек. Что может говорить о наличии выбросов и требует дополнительной проверки. При это по группе А средний чек практически стабилизировался."
      ]
    },
    {
      "cell_type": "markdown",
      "metadata": {
        "id": "UXQdWGgVLMpP"
      },
      "source": [
        "##### Шаг 3.3 График относительного изменения кумулятивного среднего чека группы B к группе A."
      ]
    },
    {
      "cell_type": "code",
      "execution_count": 29,
      "metadata": {
        "colab": {
          "base_uri": "https://localhost:8080/",
          "height": 645
        },
        "id": "rbB70u_TLMpP",
        "outputId": "128808a2-0a99-492e-fbc6-3adf37b0178e"
      },
      "outputs": [
        {
          "output_type": "display_data",
          "data": {
            "text/plain": [
              "<Figure size 1200x700 with 1 Axes>"
            ],
            "image/png": "[encoded data removed]"
          },
          "metadata": {}
        }
      ],
      "source": [
        "# Собираем данные в одном датафрейме\n",
        "mergedCumulativeRevenue = cumulativeRevenueA.merge(cumulativeRevenueB,\n",
        "                                                   left_on='date',\n",
        "                                                   right_on='date',\n",
        "                                                   how='left',\n",
        "                                                   suffixes=['A', 'B'])\n",
        "\n",
        "# Зададим размер графика и подписи\n",
        "plt.figure(figsize=(12, 7))\n",
        "plt.xlabel(\"Дни\", size=12)\n",
        "plt.ylabel(\"Изменение среднего чека\", size=12)\n",
        "plt.title(\"Относительного изменения кумулятивного среднего чека группы B к группе A\")\n",
        "\n",
        "# Строим отношение средних чеков\n",
        "plt.plot(mergedCumulativeRevenue['date'],\n",
        "         (mergedCumulativeRevenue['revenueB']/mergedCumulativeRevenue['ordersB'])\n",
        "         /(mergedCumulativeRevenue['revenueA']/mergedCumulativeRevenue['ordersA'])-1)\n",
        "\n",
        "# Добавляем ось X\n",
        "plt.axhline(y=0, color='black', linestyle='--');"
      ]
    },
    {
      "cell_type": "markdown",
      "metadata": {
        "id": "JCJlAHU0LMpP"
      },
      "source": [
        "**Вывод:**\n",
        "\n",
        "Видим что результаты теста значительно и резко менялись в несколько дат. Видимо в эти даты и были совершены аномальные заказы."
      ]
    },
    {
      "cell_type": "markdown",
      "metadata": {
        "id": "4eQl7ux0LMpQ"
      },
      "source": [
        "##### Шаг 3.4 График кумулятивного среднего количества заказов на посетителя по группам."
      ]
    },
    {
      "cell_type": "code",
      "execution_count": 30,
      "metadata": {
        "colab": {
          "base_uri": "https://localhost:8080/",
          "height": 643
        },
        "id": "ft_8-H-rLMpQ",
        "outputId": "45c15bde-2510-4c8f-88df-29c617249b47"
      },
      "outputs": [
        {
          "output_type": "display_data",
          "data": {
            "text/plain": [
              "<Figure size 1200x700 with 1 Axes>"
            ],
            "image/png": "[encoded data removed]"
          },
          "metadata": {}
        }
      ],
      "source": [
        "# Посчитаем кумулятивное среднее количество заказов на посетителя\n",
        "cumulativeData['conversion'] = cumulativeData['orders']/cumulativeData['visitors']\n",
        "\n",
        "# Отделяем данные по группе A\n",
        "cumulativeDataA = cumulativeData[cumulativeData['group']=='A']\n",
        "\n",
        "# Отделяем данные по группе B\n",
        "cumulativeDataB = cumulativeData[cumulativeData['group']=='B']\n",
        "\n",
        "# Зададим размер графика и подписи\n",
        "plt.figure(figsize=(12, 7))\n",
        "plt.xlabel(\"Дни\", size=12)\n",
        "plt.ylabel(\"Среднее количество заказов\", size=12)\n",
        "plt.title(\"Кумулятивное среднее количество заказов на посетителя по группам\")\n",
        "\n",
        "# Строим графики\n",
        "plt.plot(cumulativeDataA['date'], cumulativeDataA['conversion'], label='A')\n",
        "plt.plot(cumulativeDataB['date'], cumulativeDataB['conversion'], label='B')\n",
        "plt.legend()\n",
        "\n",
        "# Задаем масштаб осей\n",
        "plt.axis([dt.datetime(2019, 8, 1), dt.datetime(2019, 9, 1), 0, 0.050]);"
      ]
    },
    {
      "cell_type": "markdown",
      "metadata": {
        "id": "bcstD1QoLMpQ"
      },
      "source": [
        "**Вывод:**\n",
        "\n",
        "По графику видим что в начальных датах теста среднее количество заказов на посетителя группы А было выше. Но со временем данный показатель группы В скорректировался и обошел по значениям группу А. При этом можно сказать что значения величины по группам зафиксировались примерно около одних и тех же значений."
      ]
    },
    {
      "cell_type": "markdown",
      "metadata": {
        "id": "KEWFHPHILMpR"
      },
      "source": [
        "##### Шаг 3.5 График относительного изменения кумулятивного среднего количества заказов на посетителя группы B к группе A."
      ]
    },
    {
      "cell_type": "code",
      "execution_count": 31,
      "metadata": {
        "colab": {
          "base_uri": "https://localhost:8080/",
          "height": 642
        },
        "id": "G5p9KtrALMpR",
        "outputId": "b256c9e4-f3d7-4955-91bd-ab6a38583578"
      },
      "outputs": [
        {
          "output_type": "display_data",
          "data": {
            "text/plain": [
              "<Figure size 1200x700 with 1 Axes>"
            ],
            "image/png": "[encoded data removed]"
          },
          "metadata": {}
        }
      ],
      "source": [
        "# Объединим таблицы\n",
        "mergedCumulativeConversions = cumulativeDataA[['date','conversion']].merge(cumulativeDataB[['date','conversion']], left_on='date', right_on='date', how='left', suffixes=['A', 'B'])\n",
        "\n",
        "# Зададим размер графика и подписи\n",
        "plt.figure(figsize=(12, 7))\n",
        "plt.xlabel(\"Дни\", size=12)\n",
        "plt.ylabel(\"Среднее количество заказов\", size=12)\n",
        "plt.title(\"График относительного изменения кумулятивного среднего количества заказов\")\n",
        "\n",
        "# Построим график\n",
        "plt.plot(mergedCumulativeConversions['date'], mergedCumulativeConversions['conversionB']\n",
        "         /mergedCumulativeConversions['conversionA']-1,\n",
        "         label=\"Относительный прирост среднего количества заказов группы B относительно группы A\")\n",
        "plt.legend()\n",
        "\n",
        "plt.axhline(y=0, color='black', linestyle='--')\n",
        "plt.axhline(y=0.15, color='grey', linestyle='--')\n",
        "plt.axis([dt.datetime(2019, 8, 1), dt.datetime(2019, 9, 1), -0.5, 0.5]);"
      ]
    },
    {
      "cell_type": "markdown",
      "metadata": {
        "id": "BL8PIh-lLMpS"
      },
      "source": [
        "**Вывод:**\n",
        "    \n",
        "По графику видим, что среднее количество заказов на посетителя группы В почти с самого начала теста лидирует. И закрепилась в районе 15% лучше чем группа А."
      ]
    },
    {
      "cell_type": "markdown",
      "metadata": {
        "id": "L238a0XTLMpS"
      },
      "source": [
        "##### Шаг 3.6 Точечный график количества заказов по пользователям."
      ]
    },
    {
      "cell_type": "code",
      "execution_count": 32,
      "metadata": {
        "colab": {
          "base_uri": "https://localhost:8080/",
          "height": 363
        },
        "id": "tHlMU4ctLMpS",
        "outputId": "358a70df-d08c-4216-fada-e0fe246e9104"
      },
      "outputs": [
        {
          "output_type": "execute_result",
          "data": {
            "text/plain": [
              "          userId  orders\n",
              "1023  4256040402      11\n",
              "591   2458001652      11\n",
              "569   2378935119       9\n",
              "487   2038680547       8\n",
              "44     199603092       5\n",
              "744   3062433592       5\n",
              "55     237748145       5\n",
              "917   3803269165       5\n",
              "299   1230306981       5\n",
              "897   3717692402       5"
            ],
            "text/html": [
              "\n",
              "  <div id=\"df-5eb25f94-742a-4540-8c9a-2f3b65c4b648\" class=\"colab-df-container\">\n",
              "    <div>\n",
              "<style scoped>\n",
              "    .dataframe tbody tr th:only-of-type {\n",
              "        vertical-align: middle;\n",
              "    }\n",
              "\n",
              "    .dataframe tbody tr th {\n",
              "        vertical-align: top;\n",
              "    }\n",
              "\n",
              "    .dataframe thead th {\n",
              "        text-align: right;\n",
              "    }\n",
              "</style>\n",
              "<table border=\"1\" class=\"dataframe\">\n",
              "  <thead>\n",
              "    <tr style=\"text-align: right;\">\n",
              "      <th></th>\n",
              "      <th>userId</th>\n",
              "      <th>orders</th>\n",
              "    </tr>\n",
              "  </thead>\n",
              "  <tbody>\n",
              "    <tr>\n",
              "      <th>1023</th>\n",
              "      <td>4256040402</td>\n",
              "      <td>11</td>\n",
              "    </tr>\n",
              "    <tr>\n",
              "      <th>591</th>\n",
              "      <td>2458001652</td>\n",
              "      <td>11</td>\n",
              "    </tr>\n",
              "    <tr>\n",
              "      <th>569</th>\n",
              "      <td>2378935119</td>\n",
              "      <td>9</td>\n",
              "    </tr>\n",
              "    <tr>\n",
              "      <th>487</th>\n",
              "      <td>2038680547</td>\n",
              "      <td>8</td>\n",
              "    </tr>\n",
              "    <tr>\n",
              "      <th>44</th>\n",
              "      <td>199603092</td>\n",
              "      <td>5</td>\n",
              "    </tr>\n",
              "    <tr>\n",
              "      <th>744</th>\n",
              "      <td>3062433592</td>\n",
              "      <td>5</td>\n",
              "    </tr>\n",
              "    <tr>\n",
              "      <th>55</th>\n",
              "      <td>237748145</td>\n",
              "      <td>5</td>\n",
              "    </tr>\n",
              "    <tr>\n",
              "      <th>917</th>\n",
              "      <td>3803269165</td>\n",
              "      <td>5</td>\n",
              "    </tr>\n",
              "    <tr>\n",
              "      <th>299</th>\n",
              "      <td>1230306981</td>\n",
              "      <td>5</td>\n",
              "    </tr>\n",
              "    <tr>\n",
              "      <th>897</th>\n",
              "      <td>3717692402</td>\n",
              "      <td>5</td>\n",
              "    </tr>\n",
              "  </tbody>\n",
              "</table>\n",
              "</div>\n",
              "    <div class=\"colab-df-buttons\">\n",
              "\n",
              "  <div class=\"colab-df-container\">\n",
              "    <button class=\"colab-df-convert\" onclick=\"convertToInteractive('df-5eb25f94-742a-4540-8c9a-2f3b65c4b648')\"\n",
              "            title=\"Convert this dataframe to an interactive table.\"\n",
              "            style=\"display:none;\">\n",
              "\n",
              "  <svg xmlns=\"http://www.w3.org/2000/svg\" height=\"24px\" viewBox=\"0 -960 960 960\">\n",
              "    <path d=\"M120-120v-720h720v720H120Zm60-500h600v-160H180v160Zm220 220h160v-160H400v160Zm0 220h160v-160H400v160ZM180-400h160v-160H180v160Zm440 0h160v-160H620v160ZM180-180h160v-160H180v160Zm440 0h160v-160H620v160Z\"/>\n",
              "  </svg>\n",
              "    </button>\n",
              "\n",
              "  <style>\n",
              "    .colab-df-container {\n",
              "      display:flex;\n",
              "      gap: 12px;\n",
              "    }\n",
              "\n",
              "    .colab-df-convert {\n",
              "      background-color: #E8F0FE;\n",
              "      border: none;\n",
              "      border-radius: 50%;\n",
              "      cursor: pointer;\n",
              "      display: none;\n",
              "      fill: #1967D2;\n",
              "      height: 32px;\n",
              "      padding: 0 0 0 0;\n",
              "      width: 32px;\n",
              "    }\n",
              "\n",
              "    .colab-df-convert:hover {\n",
              "      background-color: #E2EBFA;\n",
              "      box-shadow: 0px 1px 2px rgba(60, 64, 67, 0.3), 0px 1px 3px 1px rgba(60, 64, 67, 0.15);\n",
              "      fill: #174EA6;\n",
              "    }\n",
              "\n",
              "    .colab-df-buttons div {\n",
              "      margin-bottom: 4px;\n",
              "    }\n",
              "\n",
              "    [theme=dark] .colab-df-convert {\n",
              "      background-color: #3B4455;\n",
              "      fill: #D2E3FC;\n",
              "    }\n",
              "\n",
              "    [theme=dark] .colab-df-convert:hover {\n",
              "      background-color: #434B5C;\n",
              "      box-shadow: 0px 1px 3px 1px rgba(0, 0, 0, 0.15);\n",
              "      filter: drop-shadow(0px 1px 2px rgba(0, 0, 0, 0.3));\n",
              "      fill: #FFFFFF;\n",
              "    }\n",
              "  </style>\n",
              "\n",
              "    <script>\n",
              "      const buttonEl =\n",
              "        document.querySelector('#df-5eb25f94-742a-4540-8c9a-2f3b65c4b648 button.colab-df-convert');\n",
              "      buttonEl.style.display =\n",
              "        google.colab.kernel.accessAllowed ? 'block' : 'none';\n",
              "\n",
              "      async function convertToInteractive(key) {\n",
              "        const element = document.querySelector('#df-5eb25f94-742a-4540-8c9a-2f3b65c4b648');\n",
              "        const dataTable =\n",
              "          await google.colab.kernel.invokeFunction('convertToInteractive',\n",
              "                                                    [key], {});\n",
              "        if (!dataTable) return;\n",
              "\n",
              "        const docLinkHtml = 'Like what you see? Visit the ' +\n",
              "          '<a target=\"_blank\" href=https://colab.research.google.com/notebooks/data_table.ipynb>data table notebook</a>'\n",
              "          + ' to learn more about interactive tables.';\n",
              "        element.innerHTML = '';\n",
              "        dataTable['output_type'] = 'display_data';\n",
              "        await google.colab.output.renderOutput(dataTable, element);\n",
              "        const docLink = document.createElement('div');\n",
              "        docLink.innerHTML = docLinkHtml;\n",
              "        element.appendChild(docLink);\n",
              "      }\n",
              "    </script>\n",
              "  </div>\n",
              "\n",
              "\n",
              "<div id=\"df-361ebd64-2f3a-40ab-b32f-c991b66764e1\">\n",
              "  <button class=\"colab-df-quickchart\" onclick=\"quickchart('df-361ebd64-2f3a-40ab-b32f-c991b66764e1')\"\n",
              "            title=\"Suggest charts\"\n",
              "            style=\"display:none;\">\n",
              "\n",
              "<svg xmlns=\"http://www.w3.org/2000/svg\" height=\"24px\"viewBox=\"0 0 24 24\"\n",
              "     width=\"24px\">\n",
              "    <g>\n",
              "        <path d=\"M19 3H5c-1.1 0-2 .9-2 2v14c0 1.1.9 2 2 2h14c1.1 0 2-.9 2-2V5c0-1.1-.9-2-2-2zM9 17H7v-7h2v7zm4 0h-2V7h2v10zm4 0h-2v-4h2v4z\"/>\n",
              "    </g>\n",
              "</svg>\n",
              "  </button>\n",
              "\n",
              "<style>\n",
              "  .colab-df-quickchart {\n",
              "      --bg-color: #E8F0FE;\n",
              "      --fill-color: #1967D2;\n",
              "      --hover-bg-color: #E2EBFA;\n",
              "      --hover-fill-color: #174EA6;\n",
              "      --disabled-fill-color: #AAA;\n",
              "      --disabled-bg-color: #DDD;\n",
              "  }\n",
              "\n",
              "  [theme=dark] .colab-df-quickchart {\n",
              "      --bg-color: #3B4455;\n",
              "      --fill-color: #D2E3FC;\n",
              "      --hover-bg-color: #434B5C;\n",
              "      --hover-fill-color: #FFFFFF;\n",
              "      --disabled-bg-color: #3B4455;\n",
              "      --disabled-fill-color: #666;\n",
              "  }\n",
              "\n",
              "  .colab-df-quickchart {\n",
              "    background-color: var(--bg-color);\n",
              "    border: none;\n",
              "    border-radius: 50%;\n",
              "    cursor: pointer;\n",
              "    display: none;\n",
              "    fill: var(--fill-color);\n",
              "    height: 32px;\n",
              "    padding: 0;\n",
              "    width: 32px;\n",
              "  }\n",
              "\n",
              "  .colab-df-quickchart:hover {\n",
              "    background-color: var(--hover-bg-color);\n",
              "    box-shadow: 0 1px 2px rgba(60, 64, 67, 0.3), 0 1px 3px 1px rgba(60, 64, 67, 0.15);\n",
              "    fill: var(--button-hover-fill-color);\n",
              "  }\n",
              "\n",
              "  .colab-df-quickchart-complete:disabled,\n",
              "  .colab-df-quickchart-complete:disabled:hover {\n",
              "    background-color: var(--disabled-bg-color);\n",
              "    fill: var(--disabled-fill-color);\n",
              "    box-shadow: none;\n",
              "  }\n",
              "\n",
              "  .colab-df-spinner {\n",
              "    border: 2px solid var(--fill-color);\n",
              "    border-color: transparent;\n",
              "    border-bottom-color: var(--fill-color);\n",
              "    animation:\n",
              "      spin 1s steps(1) infinite;\n",
              "  }\n",
              "\n",
              "  @keyframes spin {\n",
              "    0% {\n",
              "      border-color: transparent;\n",
              "      border-bottom-color: var(--fill-color);\n",
              "      border-left-color: var(--fill-color);\n",
              "    }\n",
              "    20% {\n",
              "      border-color: transparent;\n",
              "      border-left-color: var(--fill-color);\n",
              "      border-top-color: var(--fill-color);\n",
              "    }\n",
              "    30% {\n",
              "      border-color: transparent;\n",
              "      border-left-color: var(--fill-color);\n",
              "      border-top-color: var(--fill-color);\n",
              "      border-right-color: var(--fill-color);\n",
              "    }\n",
              "    40% {\n",
              "      border-color: transparent;\n",
              "      border-right-color: var(--fill-color);\n",
              "      border-top-color: var(--fill-color);\n",
              "    }\n",
              "    60% {\n",
              "      border-color: transparent;\n",
              "      border-right-color: var(--fill-color);\n",
              "    }\n",
              "    80% {\n",
              "      border-color: transparent;\n",
              "      border-right-color: var(--fill-color);\n",
              "      border-bottom-color: var(--fill-color);\n",
              "    }\n",
              "    90% {\n",
              "      border-color: transparent;\n",
              "      border-bottom-color: var(--fill-color);\n",
              "    }\n",
              "  }\n",
              "</style>\n",
              "\n",
              "  <script>\n",
              "    async function quickchart(key) {\n",
              "      const quickchartButtonEl =\n",
              "        document.querySelector('#' + key + ' button');\n",
              "      quickchartButtonEl.disabled = true;  // To prevent multiple clicks.\n",
              "      quickchartButtonEl.classList.add('colab-df-spinner');\n",
              "      try {\n",
              "        const charts = await google.colab.kernel.invokeFunction(\n",
              "            'suggestCharts', [key], {});\n",
              "      } catch (error) {\n",
              "        console.error('Error during call to suggestCharts:', error);\n",
              "      }\n",
              "      quickchartButtonEl.classList.remove('colab-df-spinner');\n",
              "      quickchartButtonEl.classList.add('colab-df-quickchart-complete');\n",
              "    }\n",
              "    (() => {\n",
              "      let quickchartButtonEl =\n",
              "        document.querySelector('#df-361ebd64-2f3a-40ab-b32f-c991b66764e1 button');\n",
              "      quickchartButtonEl.style.display =\n",
              "        google.colab.kernel.accessAllowed ? 'block' : 'none';\n",
              "    })();\n",
              "  </script>\n",
              "</div>\n",
              "    </div>\n",
              "  </div>\n"
            ],
            "application/vnd.google.colaboratory.intrinsic+json": {
              "type": "dataframe",
              "summary": "{\n  \"name\": \"ordersByUsers\",\n  \"rows\": 10,\n  \"fields\": [\n    {\n      \"column\": \"userId\",\n      \"properties\": {\n        \"dtype\": \"number\",\n        \"std\": 1436457771,\n        \"min\": 199603092,\n        \"max\": 4256040402,\n        \"num_unique_values\": 10,\n        \"samples\": [\n          1230306981,\n          2458001652,\n          3062433592\n        ],\n        \"semantic_type\": \"\",\n        \"description\": \"\"\n      }\n    },\n    {\n      \"column\": \"orders\",\n      \"properties\": {\n        \"dtype\": \"number\",\n        \"std\": 2,\n        \"min\": 5,\n        \"max\": 11,\n        \"num_unique_values\": 4,\n        \"samples\": [\n          9,\n          5,\n          11\n        ],\n        \"semantic_type\": \"\",\n        \"description\": \"\"\n      }\n    }\n  ]\n}"
            }
          },
          "metadata": {},
          "execution_count": 32
        }
      ],
      "source": [
        "# Подсчитаем количество заказов по пользователям\n",
        "ordersByUsers = (\n",
        "    orders.groupby('visitorId', as_index=False)\n",
        "    .agg({'transactionId': 'nunique'})\n",
        ")\n",
        "\n",
        "ordersByUsers.columns = ['userId', 'orders']\n",
        "ordersByUsers.sort_values(by='orders', ascending=False).head(10)"
      ]
    },
    {
      "cell_type": "code",
      "execution_count": 33,
      "metadata": {
        "colab": {
          "base_uri": "https://localhost:8080/",
          "height": 645
        },
        "id": "58ZdyWePLMpT",
        "outputId": "6a0c1340-f5a6-4b0e-9aa9-ba36972291f0"
      },
      "outputs": [
        {
          "output_type": "display_data",
          "data": {
            "text/plain": [
              "<Figure size 1200x700 with 1 Axes>"
            ],
            "image/png": "[encoded data removed]"
          },
          "metadata": {}
        }
      ],
      "source": [
        "# Построим график\n",
        "x_values = pd.Series(range(0,len(ordersByUsers)))\n",
        "\n",
        "# Зададим размер графика и подписи\n",
        "plt.figure(figsize=(12, 7))\n",
        "plt.xlabel(\"Количество пользователей\", size=12)\n",
        "plt.ylabel(\"Количество заказов\", size=12)\n",
        "plt.title(\"Количество заказов по пользователям\")\n",
        "\n",
        "plt.scatter(x_values, ordersByUsers['orders']);"
      ]
    },
    {
      "cell_type": "markdown",
      "metadata": {
        "id": "UMwq_CqULMpT"
      },
      "source": [
        "**Вывод:**\n",
        "\n",
        "По графику видим что большая часть пользователей соверщает 1-2 заказа. Начиная с 3 заказов количество таких пользователей значительно сокращается. Можно предположить что количество заказов более 3 являеются аномальным."
      ]
    },
    {
      "cell_type": "markdown",
      "metadata": {
        "id": "Vu02B7l5LMpT"
      },
      "source": [
        "##### Шаг 3.7 95-й и 99-й перцентили количества заказов на пользователя."
      ]
    },
    {
      "cell_type": "code",
      "execution_count": 34,
      "metadata": {
        "colab": {
          "base_uri": "https://localhost:8080/"
        },
        "id": "cNXXuOKCLMpU",
        "outputId": "97d9fa85-d03b-4b60-9cdd-9014b04c10e0"
      },
      "outputs": [
        {
          "output_type": "execute_result",
          "data": {
            "text/plain": [
              "array([1., 2., 4.])"
            ]
          },
          "metadata": {},
          "execution_count": 34
        }
      ],
      "source": [
        "# Расчитаем перцинтили\n",
        "pam = np.percentile(ordersByUsers['orders'], [90, 95, 99])\n",
        "pam"
      ]
    },
    {
      "cell_type": "markdown",
      "metadata": {
        "id": "e79ryarSLMpU"
      },
      "source": [
        "**Вывод:**\n",
        "\n",
        "Из расчета перцентилей видим, что не больше 5% пользоватлей оформляли более 2 заказов, а не более 1% больше 4. Поэтому целесообразно взять 2 заказа на одного пользователя за верхнюю границу числа заказов."
      ]
    },
    {
      "cell_type": "markdown",
      "metadata": {
        "id": "8pmlaEYfLMpU"
      },
      "source": [
        "##### Шаг 3.8 Точечный график стоимостей заказов."
      ]
    },
    {
      "cell_type": "code",
      "execution_count": 35,
      "metadata": {
        "colab": {
          "base_uri": "https://localhost:8080/",
          "height": 645
        },
        "id": "pbBtbOyLLMpV",
        "outputId": "8a08cdba-417d-4ee4-ad41-dd192bb944d9"
      },
      "outputs": [
        {
          "output_type": "display_data",
          "data": {
            "text/plain": [
              "<Figure size 1200x700 with 1 Axes>"
            ],
            "image/png": "[encoded data removed]"
          },
          "metadata": {}
        }
      ],
      "source": [
        "# Построим график\n",
        "x_values = pd.Series(range(0, len(orders['revenue'])))\n",
        "\n",
        "# Зададим размер графика и подписи\n",
        "plt.figure(figsize=(12, 7))\n",
        "plt.xlabel(\"Стоимость заказа\", size=12)\n",
        "plt.ylabel(\"Количество заказов\", size=12)\n",
        "plt.title(\"График стоимостей заказов\")\n",
        "\n",
        "plt.scatter(x_values, orders['revenue']);"
      ]
    },
    {
      "cell_type": "code",
      "execution_count": 36,
      "metadata": {
        "colab": {
          "base_uri": "https://localhost:8080/",
          "height": 645
        },
        "id": "An22_83jLMpV",
        "outputId": "a8417355-4ce8-45e1-92c5-a0976197144d"
      },
      "outputs": [
        {
          "output_type": "display_data",
          "data": {
            "text/plain": [
              "<Figure size 1200x700 with 1 Axes>"
            ],
            "image/png": "[encoded data removed]"
          },
          "metadata": {}
        }
      ],
      "source": [
        "# Посмотрим более детально\n",
        "plt.figure(figsize=(12, 7))\n",
        "plt.xlabel(\"Стоимость заказа\", size=12)\n",
        "plt.ylabel(\"Количество заказов\", size=12)\n",
        "plt.title(\"График стоимостей заказов\")\n",
        "plt.ylim(0, 100000)\n",
        "plt.scatter(x_values, orders['revenue']);"
      ]
    },
    {
      "cell_type": "markdown",
      "metadata": {
        "id": "AS5CoyUtLMpW"
      },
      "source": [
        "**Вывод:**\n",
        "\n",
        "По графику видим что есть явные выбросы в районе 200 тыс и 1 млн 200 тыс. При этом большая часть заказов не превышает 50 тыс. Чтобы более точно определить выбросы так же найдем перцентили."
      ]
    },
    {
      "cell_type": "markdown",
      "metadata": {
        "id": "8KK49M2qLMpW"
      },
      "source": [
        "##### Шаг 3.9 95-й и 99-й перцентили стоимости заказов."
      ]
    },
    {
      "cell_type": "code",
      "execution_count": 37,
      "metadata": {
        "colab": {
          "base_uri": "https://localhost:8080/"
        },
        "id": "HBWBDMf-LMpX",
        "outputId": "0a430601-db37-4590-983b-c11cba4bb29f"
      },
      "outputs": [
        {
          "output_type": "execute_result",
          "data": {
            "text/plain": [
              "array([18168. , 28000. , 58233.2])"
            ]
          },
          "metadata": {},
          "execution_count": 37
        }
      ],
      "source": [
        "# Найдем перцентили\n",
        "pco = np.percentile(orders['revenue'], [90, 95, 99])\n",
        "pco"
      ]
    },
    {
      "cell_type": "markdown",
      "metadata": {
        "id": "1b-4FAv4LMpX"
      },
      "source": [
        "**Вывод:**\n",
        "\n",
        "Из расчета перцентилей видим, что не больше 5% заказов дороже 28 тыс, а не более 1% дороже 59 тыс. Поэтому целесообразно взять 28 тыс. за верхнюю границу числа заказов."
      ]
    },
    {
      "cell_type": "markdown",
      "metadata": {
        "id": "Mh1BBgVZLMpX"
      },
      "source": [
        "##### Шаг 3.10 Статистическая значимость различий в среднем количестве заказов на посетителя между группами по «сырым» данным.\n"
      ]
    },
    {
      "cell_type": "markdown",
      "metadata": {
        "id": "cio0L_rjLMpY"
      },
      "source": [
        "Начнем с того что у нас будет две гипотезы:\n",
        "- Нулевая: Статистически значимых различий в среднем количестве заказов между группами нет.\n",
        "- Альтернативная: Статистически значимые различия в среднем количестве заказов между группами есть.\n",
        "\n",
        "Для проверки будем использовать непараметрический тест Уилкоксона-Манна-Уитни. Так как есть предположения что у нас имеются выбросы.\n",
        "\n",
        "Возьмем alpha = 0,05"
      ]
    },
    {
      "cell_type": "code",
      "execution_count": 38,
      "metadata": {
        "colab": {
          "base_uri": "https://localhost:8080/",
          "height": 206
        },
        "id": "uf8WXpMDLMpY",
        "outputId": "cd10a099-ee09-4969-e739-6f62925651b8"
      },
      "outputs": [
        {
          "output_type": "execute_result",
          "data": {
            "text/plain": [
              "        date  ordersPerDateA  revenuePerDateA  ordersPerDateB  \\\n",
              "0 2019-08-01              24           148579              21   \n",
              "1 2019-08-02              20            93822              24   \n",
              "2 2019-08-03              24           112473              16   \n",
              "3 2019-08-04              16            70825              17   \n",
              "4 2019-08-05              25           124218              23   \n",
              "\n",
              "   revenuePerDateB  visitorsPerDateA  visitorsPerDateB  \n",
              "0           101217               719               713  \n",
              "1           165531               619               581  \n",
              "2           114248               507               509  \n",
              "3           108571               717               770  \n",
              "4            92428               756               707  "
            ],
            "text/html": [
              "\n",
              "  <div id=\"df-291fd4bb-d46a-4a05-9670-233f6bf3f75e\" class=\"colab-df-container\">\n",
              "    <div>\n",
              "<style scoped>\n",
              "    .dataframe tbody tr th:only-of-type {\n",
              "        vertical-align: middle;\n",
              "    }\n",
              "\n",
              "    .dataframe tbody tr th {\n",
              "        vertical-align: top;\n",
              "    }\n",
              "\n",
              "    .dataframe thead th {\n",
              "        text-align: right;\n",
              "    }\n",
              "</style>\n",
              "<table border=\"1\" class=\"dataframe\">\n",
              "  <thead>\n",
              "    <tr style=\"text-align: right;\">\n",
              "      <th></th>\n",
              "      <th>date</th>\n",
              "      <th>ordersPerDateA</th>\n",
              "      <th>revenuePerDateA</th>\n",
              "      <th>ordersPerDateB</th>\n",
              "      <th>revenuePerDateB</th>\n",
              "      <th>visitorsPerDateA</th>\n",
              "      <th>visitorsPerDateB</th>\n",
              "    </tr>\n",
              "  </thead>\n",
              "  <tbody>\n",
              "    <tr>\n",
              "      <th>0</th>\n",
              "      <td>2019-08-01</td>\n",
              "      <td>24</td>\n",
              "      <td>148579</td>\n",
              "      <td>21</td>\n",
              "      <td>101217</td>\n",
              "      <td>719</td>\n",
              "      <td>713</td>\n",
              "    </tr>\n",
              "    <tr>\n",
              "      <th>1</th>\n",
              "      <td>2019-08-02</td>\n",
              "      <td>20</td>\n",
              "      <td>93822</td>\n",
              "      <td>24</td>\n",
              "      <td>165531</td>\n",
              "      <td>619</td>\n",
              "      <td>581</td>\n",
              "    </tr>\n",
              "    <tr>\n",
              "      <th>2</th>\n",
              "      <td>2019-08-03</td>\n",
              "      <td>24</td>\n",
              "      <td>112473</td>\n",
              "      <td>16</td>\n",
              "      <td>114248</td>\n",
              "      <td>507</td>\n",
              "      <td>509</td>\n",
              "    </tr>\n",
              "    <tr>\n",
              "      <th>3</th>\n",
              "      <td>2019-08-04</td>\n",
              "      <td>16</td>\n",
              "      <td>70825</td>\n",
              "      <td>17</td>\n",
              "      <td>108571</td>\n",
              "      <td>717</td>\n",
              "      <td>770</td>\n",
              "    </tr>\n",
              "    <tr>\n",
              "      <th>4</th>\n",
              "      <td>2019-08-05</td>\n",
              "      <td>25</td>\n",
              "      <td>124218</td>\n",
              "      <td>23</td>\n",
              "      <td>92428</td>\n",
              "      <td>756</td>\n",
              "      <td>707</td>\n",
              "    </tr>\n",
              "  </tbody>\n",
              "</table>\n",
              "</div>\n",
              "    <div class=\"colab-df-buttons\">\n",
              "\n",
              "  <div class=\"colab-df-container\">\n",
              "    <button class=\"colab-df-convert\" onclick=\"convertToInteractive('df-291fd4bb-d46a-4a05-9670-233f6bf3f75e')\"\n",
              "            title=\"Convert this dataframe to an interactive table.\"\n",
              "            style=\"display:none;\">\n",
              "\n",
              "  <svg xmlns=\"http://www.w3.org/2000/svg\" height=\"24px\" viewBox=\"0 -960 960 960\">\n",
              "    <path d=\"M120-120v-720h720v720H120Zm60-500h600v-160H180v160Zm220 220h160v-160H400v160Zm0 220h160v-160H400v160ZM180-400h160v-160H180v160Zm440 0h160v-160H620v160ZM180-180h160v-160H180v160Zm440 0h160v-160H620v160Z\"/>\n",
              "  </svg>\n",
              "    </button>\n",
              "\n",
              "  <style>\n",
              "    .colab-df-container {\n",
              "      display:flex;\n",
              "      gap: 12px;\n",
              "    }\n",
              "\n",
              "    .colab-df-convert {\n",
              "      background-color: #E8F0FE;\n",
              "      border: none;\n",
              "      border-radius: 50%;\n",
              "      cursor: pointer;\n",
              "      display: none;\n",
              "      fill: #1967D2;\n",
              "      height: 32px;\n",
              "      padding: 0 0 0 0;\n",
              "      width: 32px;\n",
              "    }\n",
              "\n",
              "    .colab-df-convert:hover {\n",
              "      background-color: #E2EBFA;\n",
              "      box-shadow: 0px 1px 2px rgba(60, 64, 67, 0.3), 0px 1px 3px 1px rgba(60, 64, 67, 0.15);\n",
              "      fill: #174EA6;\n",
              "    }\n",
              "\n",
              "    .colab-df-buttons div {\n",
              "      margin-bottom: 4px;\n",
              "    }\n",
              "\n",
              "    [theme=dark] .colab-df-convert {\n",
              "      background-color: #3B4455;\n",
              "      fill: #D2E3FC;\n",
              "    }\n",
              "\n",
              "    [theme=dark] .colab-df-convert:hover {\n",
              "      background-color: #434B5C;\n",
              "      box-shadow: 0px 1px 3px 1px rgba(0, 0, 0, 0.15);\n",
              "      filter: drop-shadow(0px 1px 2px rgba(0, 0, 0, 0.3));\n",
              "      fill: #FFFFFF;\n",
              "    }\n",
              "  </style>\n",
              "\n",
              "    <script>\n",
              "      const buttonEl =\n",
              "        document.querySelector('#df-291fd4bb-d46a-4a05-9670-233f6bf3f75e button.colab-df-convert');\n",
              "      buttonEl.style.display =\n",
              "        google.colab.kernel.accessAllowed ? 'block' : 'none';\n",
              "\n",
              "      async function convertToInteractive(key) {\n",
              "        const element = document.querySelector('#df-291fd4bb-d46a-4a05-9670-233f6bf3f75e');\n",
              "        const dataTable =\n",
              "          await google.colab.kernel.invokeFunction('convertToInteractive',\n",
              "                                                    [key], {});\n",
              "        if (!dataTable) return;\n",
              "\n",
              "        const docLinkHtml = 'Like what you see? Visit the ' +\n",
              "          '<a target=\"_blank\" href=https://colab.research.google.com/notebooks/data_table.ipynb>data table notebook</a>'\n",
              "          + ' to learn more about interactive tables.';\n",
              "        element.innerHTML = '';\n",
              "        dataTable['output_type'] = 'display_data';\n",
              "        await google.colab.output.renderOutput(dataTable, element);\n",
              "        const docLink = document.createElement('div');\n",
              "        docLink.innerHTML = docLinkHtml;\n",
              "        element.appendChild(docLink);\n",
              "      }\n",
              "    </script>\n",
              "  </div>\n",
              "\n",
              "\n",
              "<div id=\"df-6b99f0c2-44e2-47d2-83e1-58e332874e7a\">\n",
              "  <button class=\"colab-df-quickchart\" onclick=\"quickchart('df-6b99f0c2-44e2-47d2-83e1-58e332874e7a')\"\n",
              "            title=\"Suggest charts\"\n",
              "            style=\"display:none;\">\n",
              "\n",
              "<svg xmlns=\"http://www.w3.org/2000/svg\" height=\"24px\"viewBox=\"0 0 24 24\"\n",
              "     width=\"24px\">\n",
              "    <g>\n",
              "        <path d=\"M19 3H5c-1.1 0-2 .9-2 2v14c0 1.1.9 2 2 2h14c1.1 0 2-.9 2-2V5c0-1.1-.9-2-2-2zM9 17H7v-7h2v7zm4 0h-2V7h2v10zm4 0h-2v-4h2v4z\"/>\n",
              "    </g>\n",
              "</svg>\n",
              "  </button>\n",
              "\n",
              "<style>\n",
              "  .colab-df-quickchart {\n",
              "      --bg-color: #E8F0FE;\n",
              "      --fill-color: #1967D2;\n",
              "      --hover-bg-color: #E2EBFA;\n",
              "      --hover-fill-color: #174EA6;\n",
              "      --disabled-fill-color: #AAA;\n",
              "      --disabled-bg-color: #DDD;\n",
              "  }\n",
              "\n",
              "  [theme=dark] .colab-df-quickchart {\n",
              "      --bg-color: #3B4455;\n",
              "      --fill-color: #D2E3FC;\n",
              "      --hover-bg-color: #434B5C;\n",
              "      --hover-fill-color: #FFFFFF;\n",
              "      --disabled-bg-color: #3B4455;\n",
              "      --disabled-fill-color: #666;\n",
              "  }\n",
              "\n",
              "  .colab-df-quickchart {\n",
              "    background-color: var(--bg-color);\n",
              "    border: none;\n",
              "    border-radius: 50%;\n",
              "    cursor: pointer;\n",
              "    display: none;\n",
              "    fill: var(--fill-color);\n",
              "    height: 32px;\n",
              "    padding: 0;\n",
              "    width: 32px;\n",
              "  }\n",
              "\n",
              "  .colab-df-quickchart:hover {\n",
              "    background-color: var(--hover-bg-color);\n",
              "    box-shadow: 0 1px 2px rgba(60, 64, 67, 0.3), 0 1px 3px 1px rgba(60, 64, 67, 0.15);\n",
              "    fill: var(--button-hover-fill-color);\n",
              "  }\n",
              "\n",
              "  .colab-df-quickchart-complete:disabled,\n",
              "  .colab-df-quickchart-complete:disabled:hover {\n",
              "    background-color: var(--disabled-bg-color);\n",
              "    fill: var(--disabled-fill-color);\n",
              "    box-shadow: none;\n",
              "  }\n",
              "\n",
              "  .colab-df-spinner {\n",
              "    border: 2px solid var(--fill-color);\n",
              "    border-color: transparent;\n",
              "    border-bottom-color: var(--fill-color);\n",
              "    animation:\n",
              "      spin 1s steps(1) infinite;\n",
              "  }\n",
              "\n",
              "  @keyframes spin {\n",
              "    0% {\n",
              "      border-color: transparent;\n",
              "      border-bottom-color: var(--fill-color);\n",
              "      border-left-color: var(--fill-color);\n",
              "    }\n",
              "    20% {\n",
              "      border-color: transparent;\n",
              "      border-left-color: var(--fill-color);\n",
              "      border-top-color: var(--fill-color);\n",
              "    }\n",
              "    30% {\n",
              "      border-color: transparent;\n",
              "      border-left-color: var(--fill-color);\n",
              "      border-top-color: var(--fill-color);\n",
              "      border-right-color: var(--fill-color);\n",
              "    }\n",
              "    40% {\n",
              "      border-color: transparent;\n",
              "      border-right-color: var(--fill-color);\n",
              "      border-top-color: var(--fill-color);\n",
              "    }\n",
              "    60% {\n",
              "      border-color: transparent;\n",
              "      border-right-color: var(--fill-color);\n",
              "    }\n",
              "    80% {\n",
              "      border-color: transparent;\n",
              "      border-right-color: var(--fill-color);\n",
              "      border-bottom-color: var(--fill-color);\n",
              "    }\n",
              "    90% {\n",
              "      border-color: transparent;\n",
              "      border-bottom-color: var(--fill-color);\n",
              "    }\n",
              "  }\n",
              "</style>\n",
              "\n",
              "  <script>\n",
              "    async function quickchart(key) {\n",
              "      const quickchartButtonEl =\n",
              "        document.querySelector('#' + key + ' button');\n",
              "      quickchartButtonEl.disabled = true;  // To prevent multiple clicks.\n",
              "      quickchartButtonEl.classList.add('colab-df-spinner');\n",
              "      try {\n",
              "        const charts = await google.colab.kernel.invokeFunction(\n",
              "            'suggestCharts', [key], {});\n",
              "      } catch (error) {\n",
              "        console.error('Error during call to suggestCharts:', error);\n",
              "      }\n",
              "      quickchartButtonEl.classList.remove('colab-df-spinner');\n",
              "      quickchartButtonEl.classList.add('colab-df-quickchart-complete');\n",
              "    }\n",
              "    (() => {\n",
              "      let quickchartButtonEl =\n",
              "        document.querySelector('#df-6b99f0c2-44e2-47d2-83e1-58e332874e7a button');\n",
              "      quickchartButtonEl.style.display =\n",
              "        google.colab.kernel.accessAllowed ? 'block' : 'none';\n",
              "    })();\n",
              "  </script>\n",
              "</div>\n",
              "    </div>\n",
              "  </div>\n"
            ],
            "application/vnd.google.colaboratory.intrinsic+json": {
              "type": "dataframe",
              "variable_name": "data",
              "summary": "{\n  \"name\": \"data\",\n  \"rows\": 31,\n  \"fields\": [\n    {\n      \"column\": \"date\",\n      \"properties\": {\n        \"dtype\": \"date\",\n        \"min\": \"2019-08-01 00:00:00\",\n        \"max\": \"2019-08-31 00:00:00\",\n        \"num_unique_values\": 31,\n        \"samples\": [\n          \"2019-08-28 00:00:00\",\n          \"2019-08-16 00:00:00\",\n          \"2019-08-24 00:00:00\"\n        ],\n        \"semantic_type\": \"\",\n        \"description\": \"\"\n      }\n    },\n    {\n      \"column\": \"ordersPerDateA\",\n      \"properties\": {\n        \"dtype\": \"number\",\n        \"std\": 4,\n        \"min\": 10,\n        \"max\": 28,\n        \"num_unique_values\": 15,\n        \"samples\": [\n          17,\n          12,\n          24\n        ],\n        \"semantic_type\": \"\",\n        \"description\": \"\"\n      }\n    },\n    {\n      \"column\": \"revenuePerDateA\",\n      \"properties\": {\n        \"dtype\": \"number\",\n        \"std\": 72146,\n        \"min\": 48484,\n        \"max\": 320690,\n        \"num_unique_values\": 31,\n        \"samples\": [\n          101122,\n          99851,\n          127703\n        ],\n        \"semantic_type\": \"\",\n        \"description\": \"\"\n      }\n    },\n    {\n      \"column\": \"ordersPerDateB\",\n      \"properties\": {\n        \"dtype\": \"number\",\n        \"std\": 5,\n        \"min\": 9,\n        \"max\": 31,\n        \"num_unique_values\": 14,\n        \"samples\": [\n          31,\n          14,\n          21\n        ],\n        \"semantic_type\": \"\",\n        \"description\": \"\"\n      }\n    },\n    {\n      \"column\": \"revenuePerDateB\",\n      \"properties\": {\n        \"dtype\": \"number\",\n        \"std\": 238001,\n        \"min\": 53310,\n        \"max\": 1429920,\n        \"num_unique_values\": 31,\n        \"samples\": [\n          96008,\n          171690,\n          95506\n        ],\n        \"semantic_type\": \"\",\n        \"description\": \"\"\n      }\n    },\n    {\n      \"column\": \"visitorsPerDateA\",\n      \"properties\": {\n        \"dtype\": \"number\",\n        \"std\": 112,\n        \"min\": 361,\n        \"max\": 756,\n        \"num_unique_values\": 31,\n        \"samples\": [\n          594,\n          361,\n          395\n        ],\n        \"semantic_type\": \"\",\n        \"description\": \"\"\n      }\n    },\n    {\n      \"column\": \"visitorsPerDateB\",\n      \"properties\": {\n        \"dtype\": \"number\",\n        \"std\": 118,\n        \"min\": 369,\n        \"max\": 770,\n        \"num_unique_values\": 30,\n        \"samples\": [\n          531,\n          413,\n          378\n        ],\n        \"semantic_type\": \"\",\n        \"description\": \"\"\n      }\n    }\n  ]\n}"
            }
          },
          "metadata": {},
          "execution_count": 38
        }
      ],
      "source": [
        "# Соберем таблицу с пользователями по группе А и с заказами\n",
        "visitorsADaily = visitors[visitors['group'] == 'A'][['date', 'visitors']]\n",
        "visitorsADaily.columns = ['date', 'visitorsPerDateA']\n",
        "\n",
        "ordersADaily = (\n",
        "    orders[orders['group'] == 'A'][['date', 'transactionId', 'visitorId', 'revenue']]\n",
        "    .groupby('date', as_index=False)\n",
        "    .agg({'transactionId': pd.Series.nunique, 'revenue': 'sum'})\n",
        ")\n",
        "ordersADaily.columns = ['date', 'ordersPerDateA', 'revenuePerDateA']\n",
        "\n",
        "# Повторим действия для группы В\n",
        "visitorsBDaily = visitors[visitors['group'] == 'B'][['date', 'visitors']]\n",
        "visitorsBDaily.columns = ['date', 'visitorsPerDateB']\n",
        "\n",
        "ordersBDaily = (\n",
        "    orders[orders['group'] == 'B'][['date', 'transactionId', 'visitorId', 'revenue']]\n",
        "    .groupby('date', as_index=False)\n",
        "    .agg({'transactionId': pd.Series.nunique, 'revenue': 'sum'})\n",
        ")\n",
        "ordersBDaily.columns = ['date', 'ordersPerDateB', 'revenuePerDateB']\n",
        "\n",
        "# В результате все полученные таблицы смержим в одну\n",
        "data = (\n",
        "    ordersADaily.merge(\n",
        "        ordersBDaily, left_on='date', right_on='date', how='left'\n",
        "    )\n",
        "    .merge(visitorsADaily, left_on='date', right_on='date', how='left')\n",
        "    .merge(visitorsBDaily, left_on='date', right_on='date', how='left')\n",
        ")\n",
        "\n",
        "data.head(5)"
      ]
    },
    {
      "cell_type": "code",
      "execution_count": 39,
      "metadata": {
        "id": "ziTCdwI4LMpa"
      },
      "outputs": [],
      "source": [
        "# Создадим переменные ordersByUsersA и ordersByUsersB со столбцами ['userId', 'orders'].\n",
        "# В них для пользователей, которые заказывали хотя бы 1 раз, укажем число совершённых заказов\n",
        "ordersByUsersA = (\n",
        "    orders[orders['group'] == 'A']\n",
        "    .groupby('visitorId', as_index=False)\n",
        "    .agg({'transactionId': pd.Series.nunique})\n",
        ")\n",
        "ordersByUsersA.columns = ['userId', 'orders']\n",
        "\n",
        "ordersByUsersB = (\n",
        "    orders[orders['group'] == 'B']\n",
        "    .groupby('visitorId', as_index=False)\n",
        "    .agg({'transactionId': pd.Series.nunique})\n",
        ")\n",
        "ordersByUsersB.columns = ['userId', 'orders']"
      ]
    },
    {
      "cell_type": "code",
      "execution_count": 40,
      "metadata": {
        "id": "1beJ8ec5LMpa"
      },
      "outputs": [],
      "source": [
        "# Дальше передадим аргумент, сообщающий, что объекты Series нужно объединить по строкам\n",
        "sampleA = pd.concat([ordersByUsersA['orders'],\n",
        "                     pd.Series(0,\n",
        "                               index=np.arange(data['visitorsPerDateA'].sum() - len(ordersByUsersA['orders'])),\n",
        "                               name='orders')],\n",
        "                     axis=0)\n",
        "\n",
        "sampleB = pd.concat([ordersByUsersB['orders'],\n",
        "                     pd.Series(0,\n",
        "                               index=np.arange(data['visitorsPerDateB'].sum() - len(ordersByUsersB['orders'])),\n",
        "                               name='orders')],\n",
        "                     axis=0)"
      ]
    },
    {
      "cell_type": "code",
      "execution_count": 41,
      "metadata": {
        "colab": {
          "base_uri": "https://localhost:8080/"
        },
        "id": "slyD24EVLMpa",
        "outputId": "91e0cf17-b6d4-46db-8379-cd34aada319f"
      },
      "outputs": [
        {
          "output_type": "stream",
          "name": "stdout",
          "text": [
            "p-value: 0.017\n",
            "различия: 0.138\n"
          ]
        }
      ],
      "source": [
        "# Применим критерий и отформатируем p-value, округлив его до трёх знаков после запятой.\n",
        "# Выведем относительный прирост среднего числа заказов группы B. Округлим до трёх знаков после запятой\n",
        "\n",
        "print(\"p-value: {0:.3f}\".format(stats.mannwhitneyu(sampleA, sampleB)[1]))\n",
        "print(\"различия: {0:.3f}\".format(sampleB.mean() / sampleA.mean() - 1))"
      ]
    },
    {
      "cell_type": "markdown",
      "metadata": {
        "id": "XeciLneoLMpb"
      },
      "source": [
        "**Вывод:**\n",
        "\n",
        "P-value меньше стандартных 0,05, поэтому нулевую гипотезу отвергаем. Анализ \"сырых\" данных показывает, что в среднем количестве заказов между группами есть статистически значимые отличия. Относительный прирост среднего группы В к показателю группы А равен 13,8%."
      ]
    },
    {
      "cell_type": "markdown",
      "metadata": {
        "id": "avTmVdFBLMpb"
      },
      "source": [
        "##### Шаг 3.11 Статистическая значимость различий в среднем чеке заказа между группами по «сырым» данным."
      ]
    },
    {
      "cell_type": "markdown",
      "metadata": {
        "id": "Bvo5YhixLMpb"
      },
      "source": [
        "Для проверки статистической значимости различий в среднем чеке заказа между группами по «сырым» данным будем использовать такие гипотезы:\n",
        "- Нулевая гипотеза: Статистически значимых различий в среднем чеке между группами нет.\n",
        "- Альтернативная гипотеза: Статистически значимые различия в среднем чеке между группами есть."
      ]
    },
    {
      "cell_type": "markdown",
      "metadata": {
        "id": "f7qibLNsLMpc"
      },
      "source": [
        "Чтобы рассчитать статистическую значимость различий в среднем чеке, передадим критерию mannwhitneyu() данные о выручке с заказов."
      ]
    },
    {
      "cell_type": "code",
      "execution_count": 42,
      "metadata": {
        "colab": {
          "base_uri": "https://localhost:8080/"
        },
        "id": "63leSwlcLMpc",
        "outputId": "93d08680-0d3f-4913-8365-d1bc724a12f6"
      },
      "outputs": [
        {
          "output_type": "stream",
          "name": "stdout",
          "text": [
            "p-value: 0.729\n",
            "различия: 0.259\n"
          ]
        }
      ],
      "source": [
        "print('p-value: {0:.3f}'.format(stats.mannwhitneyu(orders[orders['group']=='A']['revenue'],\n",
        "                                                     orders[orders['group']=='B']['revenue'])[1]))\n",
        "print('различия: {0:.3f}'.format(orders[orders['group']=='B']['revenue'].mean()\n",
        "                                   /orders[orders['group']=='A']['revenue'].mean()-1))"
      ]
    },
    {
      "cell_type": "markdown",
      "metadata": {
        "id": "P1Ohfh82LMpf"
      },
      "source": [
        "**Вывод:**\n",
        "\n",
        "P-value больше 0,05 следовательно нулевую гипотезу мы не отвергаем. Статистически значимых отличий в среднем чеке нет. Относительное различие между сегментами 25,9%"
      ]
    },
    {
      "cell_type": "markdown",
      "metadata": {
        "id": "RjEp8hgMLMpg"
      },
      "source": [
        "##### Шаг 3.12 Статистическая значимость различий в среднем количестве заказов на посетителя между группами по «очищенным» данным."
      ]
    },
    {
      "cell_type": "markdown",
      "metadata": {
        "id": "k9xOgUSYLMpg"
      },
      "source": [
        "Примем за аномальных пользователей тех, кто совершил больше 2 заказов или совершил заказ дороже 30 000 рублей."
      ]
    },
    {
      "cell_type": "code",
      "execution_count": 43,
      "metadata": {
        "colab": {
          "base_uri": "https://localhost:8080/"
        },
        "id": "38kDo8FMLMph",
        "outputId": "3652244a-684f-456c-8751-f34e5007803d"
      },
      "outputs": [
        {
          "output_type": "execute_result",
          "data": {
            "text/plain": [
              "74"
            ]
          },
          "metadata": {},
          "execution_count": 43
        }
      ],
      "source": [
        "# Так как таблицы ordersByUsersA и ordersByUsersB у нас уже есть, будем использовать их для фильтрации по нужным нам критериям\n",
        "usersWithManyOrders = pd.concat(\n",
        "    [\n",
        "        ordersByUsersA[ordersByUsersA['orders'] > pam[1]]['userId'],\n",
        "        ordersByUsersB[ordersByUsersB['orders'] > pam[1]]['userId'],\n",
        "    ],\n",
        "    axis=0,\n",
        ")\n",
        "usersWithExpensiveOrders = orders[orders['revenue'] > pco[1]]['visitorId']\n",
        "abnormalUsers = (\n",
        "    pd.concat([usersWithManyOrders, usersWithExpensiveOrders], axis=0)\n",
        "    .drop_duplicates()\n",
        "    .sort_values()\n",
        ")\n",
        "\n",
        "# Посмотрим сколько в таком случае будет аномальных пользователей\n",
        "abnormalUsers.shape[0]"
      ]
    },
    {
      "cell_type": "markdown",
      "metadata": {
        "id": "z53okOKvLMpi"
      },
      "source": [
        "Видим что всего получилось 74 пользователя кто совершил 3 и более заказа или приобрел на сумму более 28000 рублей."
      ]
    },
    {
      "cell_type": "markdown",
      "metadata": {
        "id": "oIieFiViLMpi"
      },
      "source": [
        "Еще раз укажем гипотезы:\n",
        "- Нулевая: Статистически значимых различий в среднем количестве заказов между группами нет.\n",
        "- Альтернативная: Статистически значимые различия в среднем количестве заказов между группами есть.\n",
        "\n",
        "Для проверки будем использовать непараметрический тест Уилкоксона-Манна-Уитни.\n",
        "\n",
        "alpha = 0,05"
      ]
    },
    {
      "cell_type": "code",
      "execution_count": 44,
      "metadata": {
        "id": "AYda6K9iLMpi"
      },
      "outputs": [],
      "source": [
        "# Узнаем, как их действия повлияли на результаты теста\n",
        "# Создаем переменные sampleAFiltered и sampleBFiltered, в которых сохраним очищенные данные о заказах.\n",
        "sampleAFiltered = pd.concat(\n",
        "    [\n",
        "        ordersByUsersA[\n",
        "            np.logical_not(ordersByUsersA['userId'].isin(abnormalUsers))\n",
        "        ]['orders'],\n",
        "        pd.Series(\n",
        "            0,\n",
        "            index=np.arange(\n",
        "                data['visitorsPerDateA'].sum() - len(ordersByUsersA['orders'])\n",
        "            ),\n",
        "            name='orders',\n",
        "        ),\n",
        "    ],\n",
        "    axis=0,\n",
        ")\n",
        "\n",
        "sampleBFiltered = pd.concat(\n",
        "    [\n",
        "        ordersByUsersB[\n",
        "            np.logical_not(ordersByUsersB['userId'].isin(abnormalUsers))\n",
        "        ]['orders'],\n",
        "        pd.Series(\n",
        "            0,\n",
        "            index=np.arange(\n",
        "                data['visitorsPerDateB'].sum() - len(ordersByUsersB['orders'])\n",
        "            ),\n",
        "            name='orders',\n",
        "        ),\n",
        "    ],\n",
        "    axis=0,\n",
        ")\n"
      ]
    },
    {
      "cell_type": "code",
      "execution_count": 45,
      "metadata": {
        "colab": {
          "base_uri": "https://localhost:8080/"
        },
        "id": "QXoUaNlELMpj",
        "outputId": "27b25f6a-e94f-4473-ffb9-27c029932b07"
      },
      "outputs": [
        {
          "output_type": "stream",
          "name": "stdout",
          "text": [
            "p-value: 0.013\n",
            "различия: 0.173\n"
          ]
        }
      ],
      "source": [
        "# Считаем p-value и относительный прирост\n",
        "print('p-value: {0:.3f}'.format(stats.mannwhitneyu(sampleAFiltered, sampleBFiltered)[1]))\n",
        "print('различия: {0:.3f}'.format(sampleBFiltered.mean()/sampleAFiltered.mean()-1))"
      ]
    },
    {
      "cell_type": "markdown",
      "metadata": {
        "id": "NubngE6-LMpj"
      },
      "source": [
        "**Вывод:**\n",
        "\n",
        "Хотя p-value снизился, результат при этом остается тем же. Нулевую гипотезу мы отвергаем. В среднем количестве заказов между группами есть статистически значимые отличия. Относительный прирост среднего группы В к группе А увеличился до 17,3%"
      ]
    },
    {
      "cell_type": "markdown",
      "metadata": {
        "id": "o0rspWUcLMpj"
      },
      "source": [
        "##### Шаг 3.13 Статистическая значимость различий в среднем чеке заказа между группами по «очищенным» данным."
      ]
    },
    {
      "cell_type": "markdown",
      "metadata": {
        "id": "zr9FLD3ILMpj"
      },
      "source": [
        "Наши гипотезы:\n",
        "- Нулевая гипотеза: Статистически значимых различий в среднем чеке между группами нет.\n",
        "- Альтернативная гипотеза: Статистически значимые различия в среднем чеке между группами есть.\n",
        "\n",
        "Для проверки будем использовать непараметрический тест Уилкоксона-Манна-Уитни.\n",
        "\n",
        "alpha = 0,05"
      ]
    },
    {
      "cell_type": "code",
      "execution_count": 46,
      "metadata": {
        "colab": {
          "base_uri": "https://localhost:8080/"
        },
        "id": "O9MfvKDxLMpk",
        "outputId": "76f06ddd-b71b-4461-f86f-529abdffe2a2"
      },
      "outputs": [
        {
          "output_type": "stream",
          "name": "stdout",
          "text": [
            "p-value: 0.738\n",
            "различия: -0.020\n"
          ]
        }
      ],
      "source": [
        "# Проверим различия в среднем чеке\n",
        "print('p-value: {0:.3f}'.format(\n",
        "        stats.mannwhitneyu(\n",
        "            orders[\n",
        "                np.logical_and(\n",
        "                    orders['group'] == 'A',\n",
        "                    np.logical_not(orders['visitorId'].isin(abnormalUsers)),\n",
        "                )\n",
        "            ]['revenue'],\n",
        "            orders[\n",
        "                np.logical_and(\n",
        "                    orders['group'] == 'B',\n",
        "                    np.logical_not(orders['visitorId'].isin(abnormalUsers)),\n",
        "                )\n",
        "            ]['revenue'],\n",
        "        )[1]\n",
        "    )\n",
        ")\n",
        "\n",
        "print('различия: {0:.3f}'.format(\n",
        "        orders[\n",
        "            np.logical_and(\n",
        "                orders['group'] == 'B',\n",
        "                np.logical_not(orders['visitorId'].isin(abnormalUsers)),\n",
        "            )\n",
        "        ]['revenue'].mean()\n",
        "        / orders[\n",
        "            np.logical_and(\n",
        "                orders['group'] == 'A',\n",
        "                np.logical_not(orders['visitorId'].isin(abnormalUsers)),\n",
        "            )\n",
        "        ]['revenue'].mean()\n",
        "        - 1\n",
        "    )\n",
        ")\n"
      ]
    },
    {
      "cell_type": "markdown",
      "metadata": {
        "id": "2sJxNTy1LMpk"
      },
      "source": [
        "**Вывод:**\n",
        "\n",
        "Видим, что статистически значимых отличий в среднем чеке все так же нет. Нулевую гипотезу мы не отвергаем. Относительное различие между сегментами снизилось до -2,0%"
      ]
    },
    {
      "cell_type": "markdown",
      "metadata": {
        "id": "TBMq1MmGLMpl"
      },
      "source": [
        "#### Шаг 4. Выводы"
      ]
    },
    {
      "cell_type": "markdown",
      "metadata": {
        "id": "OzcUFtdTLMpl"
      },
      "source": [
        "- В среднем количестве заказов между группами есть статистически значимые отличия как по \"сырым\" данным, так и после фильтрации аномалий.\n",
        "- Статистически значимых отличий в среднем чеке нет.\n",
        "- График различия средниго количества заказов на посетителя между группами сообщает, что результаты группы B лучше группы A. Прирост группы В закрепился в районе 15%.\n",
        "- График среднего чека показывает что результаты группы В лучше.\n",
        "- При этом каких-то явных аномалий влияющих на реузльтат мы не выявили."
      ]
    },
    {
      "cell_type": "code",
      "execution_count": 47,
      "metadata": {
        "colab": {
          "base_uri": "https://localhost:8080/",
          "height": 642
        },
        "id": "2fXAiaxZLMpl",
        "outputId": "fc81c4f2-95e3-4191-840e-02418b2a86a9"
      },
      "outputs": [
        {
          "output_type": "display_data",
          "data": {
            "text/plain": [
              "<Figure size 1200x700 with 1 Axes>"
            ],
            "image/png": "[encoded data removed]"
          },
          "metadata": {}
        }
      ],
      "source": [
        "# Зададим размер графика и подписи\n",
        "plt.figure(figsize=(12, 7))\n",
        "plt.xlabel(\"Дни\", size=12)\n",
        "plt.ylabel(\"Среднее количество заказов\", size=12)\n",
        "plt.title(\"График относительного изменения кумулятивного среднего количества заказов\")\n",
        "\n",
        "# Построим график\n",
        "plt.plot(mergedCumulativeConversions['date'], mergedCumulativeConversions['conversionB']\n",
        "         /mergedCumulativeConversions['conversionA']-1,\n",
        "         label=\"Относительный прирост среднего количества заказов группы B относительно группы A\")\n",
        "plt.legend()\n",
        "\n",
        "plt.axhline(y=0, color='black', linestyle='--')\n",
        "plt.axhline(y=0.15, color='grey', linestyle='--')\n",
        "plt.axis([dt.datetime(2019, 8, 1), dt.datetime(2019, 9, 1), -0.5, 0.5]);"
      ]
    },
    {
      "cell_type": "code",
      "execution_count": 48,
      "metadata": {
        "colab": {
          "base_uri": "https://localhost:8080/",
          "height": 645
        },
        "id": "PCd9mXNFLMpl",
        "outputId": "5253db2a-7425-4b05-952c-1d9fbb947408"
      },
      "outputs": [
        {
          "output_type": "display_data",
          "data": {
            "text/plain": [
              "<Figure size 1200x700 with 1 Axes>"
            ],
            "image/png": "[encoded data removed]"
          },
          "metadata": {}
        }
      ],
      "source": [
        "# Зададим размер графика и подписи\n",
        "plt.figure(figsize=(12, 7))\n",
        "plt.xlabel(\"Дни\", size=12)\n",
        "plt.ylabel(\"Изменение среднего чека\", size=12)\n",
        "plt.title(\"Относительного изменения кумулятивного среднего чека группы B к группе A\")\n",
        "\n",
        "# Строим отношение средних чеков\n",
        "plt.plot(mergedCumulativeRevenue['date'],\n",
        "         (mergedCumulativeRevenue['revenueB']/mergedCumulativeRevenue['ordersB'])\n",
        "         /(mergedCumulativeRevenue['revenueA']/mergedCumulativeRevenue['ordersA'])-1)\n",
        "\n",
        "# Добавляем ось X\n",
        "plt.axhline(y=0, color='black', linestyle='--');"
      ]
    },
    {
      "cell_type": "markdown",
      "metadata": {
        "id": "AHuRiz2_LMpm"
      },
      "source": [
        "В результате проделанной работы приходим к выводу, что нужно остановить тест и зафиксировать победу группы В."
      ]
    }
  ],
  "metadata": {
    "ExecuteTimeLog": [
      {
        "duration": 1275,
        "start_time": "2023-10-21T08:22:18.970Z"
      },
      {
        "duration": 3,
        "start_time": "2023-10-21T08:23:23.632Z"
      },
      {
        "duration": 2,
        "start_time": "2023-10-21T08:24:29.433Z"
      },
      {
        "duration": 2,
        "start_time": "2023-10-21T08:24:31.017Z"
      },
      {
        "duration": 3,
        "start_time": "2023-10-21T08:24:33.098Z"
      },
      {
        "duration": 49,
        "start_time": "2023-10-22T06:39:32.789Z"
      },
      {
        "duration": 388,
        "start_time": "2023-10-22T06:39:39.160Z"
      },
      {
        "duration": 194,
        "start_time": "2023-10-22T06:39:41.333Z"
      },
      {
        "duration": 13,
        "start_time": "2023-10-22T06:40:38.331Z"
      },
      {
        "duration": 8,
        "start_time": "2023-10-22T06:41:24.389Z"
      },
      {
        "duration": 7,
        "start_time": "2023-10-22T06:41:36.371Z"
      },
      {
        "duration": 11,
        "start_time": "2023-10-22T06:42:12.777Z"
      },
      {
        "duration": 10,
        "start_time": "2023-10-22T06:42:31.869Z"
      },
      {
        "duration": 10,
        "start_time": "2023-10-22T06:42:52.361Z"
      },
      {
        "duration": 10,
        "start_time": "2023-10-22T06:42:57.729Z"
      },
      {
        "duration": 1589,
        "start_time": "2023-10-22T06:57:17.109Z"
      },
      {
        "duration": 9,
        "start_time": "2023-10-22T06:57:52.233Z"
      },
      {
        "duration": 11,
        "start_time": "2023-10-22T06:58:03.919Z"
      },
      {
        "duration": 10,
        "start_time": "2023-10-22T06:58:18.855Z"
      },
      {
        "duration": 86,
        "start_time": "2023-10-22T06:59:05.060Z"
      },
      {
        "duration": 10,
        "start_time": "2023-10-22T06:59:16.837Z"
      },
      {
        "duration": 11,
        "start_time": "2023-10-22T07:01:36.378Z"
      },
      {
        "duration": 13,
        "start_time": "2023-10-22T07:02:00.357Z"
      },
      {
        "duration": 182,
        "start_time": "2023-10-22T07:03:30.912Z"
      },
      {
        "duration": 12,
        "start_time": "2023-10-22T07:04:09.041Z"
      },
      {
        "duration": 7,
        "start_time": "2023-10-22T07:04:45.277Z"
      },
      {
        "duration": 13,
        "start_time": "2023-10-22T07:04:54.354Z"
      },
      {
        "duration": 10,
        "start_time": "2023-10-22T07:05:35.682Z"
      },
      {
        "duration": 11,
        "start_time": "2023-10-22T07:06:14.495Z"
      },
      {
        "duration": 441,
        "start_time": "2023-10-22T07:23:19.495Z"
      },
      {
        "duration": 2,
        "start_time": "2023-10-22T07:23:40.759Z"
      },
      {
        "duration": 601,
        "start_time": "2023-10-22T07:24:09.328Z"
      },
      {
        "duration": 624,
        "start_time": "2023-10-22T07:24:28.754Z"
      },
      {
        "duration": 143,
        "start_time": "2023-10-22T07:25:32.363Z"
      },
      {
        "duration": 12,
        "start_time": "2023-10-22T07:25:35.401Z"
      },
      {
        "duration": 484,
        "start_time": "2023-10-22T07:25:44.157Z"
      },
      {
        "duration": 785,
        "start_time": "2023-10-22T07:25:52.591Z"
      },
      {
        "duration": 696,
        "start_time": "2023-10-22T07:26:03.496Z"
      },
      {
        "duration": 3,
        "start_time": "2023-10-22T07:26:18.247Z"
      },
      {
        "duration": 186,
        "start_time": "2023-10-22T07:26:18.251Z"
      },
      {
        "duration": 9,
        "start_time": "2023-10-22T07:26:18.439Z"
      },
      {
        "duration": 23,
        "start_time": "2023-10-22T07:26:18.449Z"
      },
      {
        "duration": 27,
        "start_time": "2023-10-22T07:26:18.474Z"
      },
      {
        "duration": 15,
        "start_time": "2023-10-22T07:26:18.503Z"
      },
      {
        "duration": 127,
        "start_time": "2023-10-22T07:26:18.519Z"
      },
      {
        "duration": 51,
        "start_time": "2023-10-22T07:26:18.648Z"
      },
      {
        "duration": 13,
        "start_time": "2023-10-22T07:26:18.701Z"
      },
      {
        "duration": 12,
        "start_time": "2023-10-22T07:26:18.715Z"
      },
      {
        "duration": 10,
        "start_time": "2023-10-22T07:26:18.729Z"
      },
      {
        "duration": 14,
        "start_time": "2023-10-22T07:26:18.740Z"
      },
      {
        "duration": 496,
        "start_time": "2023-10-22T07:27:04.620Z"
      },
      {
        "duration": 7,
        "start_time": "2023-10-22T07:28:56.571Z"
      },
      {
        "duration": 14,
        "start_time": "2023-10-22T07:29:04.457Z"
      },
      {
        "duration": 13,
        "start_time": "2023-10-22T07:29:10.746Z"
      },
      {
        "duration": 41,
        "start_time": "2023-10-22T07:29:17.193Z"
      },
      {
        "duration": 6,
        "start_time": "2023-10-22T07:29:52.513Z"
      },
      {
        "duration": 5,
        "start_time": "2023-10-22T07:29:57.355Z"
      },
      {
        "duration": 17,
        "start_time": "2023-10-22T07:31:55.947Z"
      },
      {
        "duration": 3,
        "start_time": "2023-10-22T07:32:22.535Z"
      },
      {
        "duration": 24,
        "start_time": "2023-10-22T07:32:26.926Z"
      },
      {
        "duration": 250,
        "start_time": "2023-10-22T07:33:17.970Z"
      },
      {
        "duration": 269,
        "start_time": "2023-10-22T07:33:32.234Z"
      },
      {
        "duration": 301,
        "start_time": "2023-10-22T07:33:52.235Z"
      },
      {
        "duration": 382,
        "start_time": "2023-10-22T07:34:13.202Z"
      },
      {
        "duration": 249,
        "start_time": "2023-10-22T07:34:29.049Z"
      },
      {
        "duration": 332,
        "start_time": "2023-10-22T07:37:09.538Z"
      },
      {
        "duration": 268,
        "start_time": "2023-10-22T07:37:27.055Z"
      },
      {
        "duration": 322,
        "start_time": "2023-10-22T07:37:46.725Z"
      },
      {
        "duration": 208,
        "start_time": "2023-10-22T07:38:02.884Z"
      },
      {
        "duration": 207,
        "start_time": "2023-10-22T07:38:31.084Z"
      },
      {
        "duration": 171,
        "start_time": "2023-10-22T07:38:43.427Z"
      },
      {
        "duration": 192,
        "start_time": "2023-10-22T07:38:46.894Z"
      },
      {
        "duration": 204,
        "start_time": "2023-10-22T07:39:40.953Z"
      },
      {
        "duration": 223,
        "start_time": "2023-10-22T07:40:22.028Z"
      },
      {
        "duration": 193,
        "start_time": "2023-10-22T07:41:20.653Z"
      },
      {
        "duration": 221,
        "start_time": "2023-10-22T07:41:46.184Z"
      },
      {
        "duration": 221,
        "start_time": "2023-10-22T07:46:46.027Z"
      },
      {
        "duration": 194,
        "start_time": "2023-10-22T07:47:56.786Z"
      },
      {
        "duration": 307,
        "start_time": "2023-10-22T08:00:39.962Z"
      },
      {
        "duration": 339,
        "start_time": "2023-10-22T08:02:06.341Z"
      },
      {
        "duration": 324,
        "start_time": "2023-10-22T08:02:26.255Z"
      },
      {
        "duration": 190,
        "start_time": "2023-10-22T08:08:25.403Z"
      },
      {
        "duration": 201,
        "start_time": "2023-10-22T08:10:29.679Z"
      },
      {
        "duration": 254,
        "start_time": "2023-10-22T08:10:39.544Z"
      },
      {
        "duration": 193,
        "start_time": "2023-10-22T08:11:06.275Z"
      },
      {
        "duration": 168,
        "start_time": "2023-10-22T08:12:30.595Z"
      },
      {
        "duration": 172,
        "start_time": "2023-10-22T08:12:41.331Z"
      },
      {
        "duration": 239,
        "start_time": "2023-10-22T08:12:46.627Z"
      },
      {
        "duration": 191,
        "start_time": "2023-10-22T08:14:07.689Z"
      },
      {
        "duration": 200,
        "start_time": "2023-10-22T08:15:52.414Z"
      },
      {
        "duration": 268,
        "start_time": "2023-10-22T08:20:10.897Z"
      },
      {
        "duration": 300,
        "start_time": "2023-10-22T08:20:36.321Z"
      },
      {
        "duration": 295,
        "start_time": "2023-10-22T08:21:12.497Z"
      },
      {
        "duration": 317,
        "start_time": "2023-10-22T08:22:30.443Z"
      },
      {
        "duration": 313,
        "start_time": "2023-10-22T08:24:26.785Z"
      },
      {
        "duration": 305,
        "start_time": "2023-10-22T08:24:34.566Z"
      },
      {
        "duration": 8,
        "start_time": "2023-10-22T08:33:46.148Z"
      },
      {
        "duration": 111,
        "start_time": "2023-10-22T08:34:39.003Z"
      },
      {
        "duration": 148,
        "start_time": "2023-10-22T08:35:02.485Z"
      },
      {
        "duration": 139,
        "start_time": "2023-10-22T08:36:06.810Z"
      },
      {
        "duration": 141,
        "start_time": "2023-10-22T08:36:12.657Z"
      },
      {
        "duration": 245,
        "start_time": "2023-10-22T09:06:57.770Z"
      },
      {
        "duration": 9,
        "start_time": "2023-10-22T09:07:40.502Z"
      },
      {
        "duration": 139,
        "start_time": "2023-10-22T09:08:00.520Z"
      },
      {
        "duration": 10,
        "start_time": "2023-10-22T09:08:13.514Z"
      },
      {
        "duration": 5,
        "start_time": "2023-10-22T09:21:31.734Z"
      },
      {
        "duration": 4,
        "start_time": "2023-10-22T09:29:58.348Z"
      },
      {
        "duration": 134,
        "start_time": "2023-10-22T09:32:02.110Z"
      },
      {
        "duration": 157,
        "start_time": "2023-10-22T09:32:06.081Z"
      },
      {
        "duration": 175,
        "start_time": "2023-10-22T09:32:44.350Z"
      },
      {
        "duration": 8,
        "start_time": "2023-10-22T09:36:45.506Z"
      },
      {
        "duration": 4,
        "start_time": "2023-10-22T09:36:51.979Z"
      },
      {
        "duration": 3,
        "start_time": "2023-10-22T09:39:57.215Z"
      },
      {
        "duration": 102,
        "start_time": "2023-10-22T09:50:09.661Z"
      },
      {
        "duration": 112,
        "start_time": "2023-10-22T09:50:54.696Z"
      },
      {
        "duration": 157,
        "start_time": "2023-10-22T09:51:14.677Z"
      },
      {
        "duration": 215,
        "start_time": "2023-10-22T09:51:41.361Z"
      },
      {
        "duration": 275,
        "start_time": "2023-10-22T09:51:59.923Z"
      },
      {
        "duration": 15,
        "start_time": "2023-10-22T09:54:33.305Z"
      },
      {
        "duration": 167,
        "start_time": "2023-10-22T09:54:53.810Z"
      },
      {
        "duration": 7,
        "start_time": "2023-10-22T09:56:50.294Z"
      },
      {
        "duration": 7,
        "start_time": "2023-10-22T09:58:40.619Z"
      },
      {
        "duration": 433,
        "start_time": "2023-10-22T09:59:08.652Z"
      },
      {
        "duration": 26,
        "start_time": "2023-10-22T09:59:13.537Z"
      },
      {
        "duration": 27,
        "start_time": "2023-10-22T10:02:33.010Z"
      },
      {
        "duration": 284,
        "start_time": "2023-10-22T10:02:58.186Z"
      },
      {
        "duration": 26,
        "start_time": "2023-10-22T10:03:23.714Z"
      },
      {
        "duration": 15,
        "start_time": "2023-10-22T10:17:25.064Z"
      },
      {
        "duration": 67,
        "start_time": "2023-10-23T04:41:36.982Z"
      },
      {
        "duration": 1638,
        "start_time": "2023-10-23T04:41:41.023Z"
      },
      {
        "duration": 262,
        "start_time": "2023-10-23T04:41:42.673Z"
      },
      {
        "duration": 13,
        "start_time": "2023-10-23T04:41:42.940Z"
      },
      {
        "duration": 15,
        "start_time": "2023-10-23T04:41:42.955Z"
      },
      {
        "duration": 44,
        "start_time": "2023-10-23T04:41:42.973Z"
      },
      {
        "duration": 14,
        "start_time": "2023-10-23T04:41:43.041Z"
      },
      {
        "duration": 21,
        "start_time": "2023-10-23T04:41:43.057Z"
      },
      {
        "duration": 24,
        "start_time": "2023-10-23T04:41:43.081Z"
      },
      {
        "duration": 38,
        "start_time": "2023-10-23T04:41:43.108Z"
      },
      {
        "duration": 14,
        "start_time": "2023-10-23T04:41:43.149Z"
      },
      {
        "duration": 24,
        "start_time": "2023-10-23T04:41:43.165Z"
      },
      {
        "duration": 29,
        "start_time": "2023-10-23T04:41:43.192Z"
      },
      {
        "duration": 20,
        "start_time": "2023-10-23T04:41:43.223Z"
      },
      {
        "duration": 494,
        "start_time": "2023-10-23T04:41:43.247Z"
      },
      {
        "duration": 389,
        "start_time": "2023-10-23T04:41:43.742Z"
      },
      {
        "duration": 359,
        "start_time": "2023-10-23T04:41:44.132Z"
      },
      {
        "duration": 536,
        "start_time": "2023-10-23T04:41:44.495Z"
      },
      {
        "duration": 363,
        "start_time": "2023-10-23T04:41:45.038Z"
      },
      {
        "duration": 411,
        "start_time": "2023-10-23T04:41:45.404Z"
      },
      {
        "duration": 30,
        "start_time": "2023-10-23T04:41:45.818Z"
      },
      {
        "duration": 286,
        "start_time": "2023-10-23T04:41:45.851Z"
      },
      {
        "duration": 9,
        "start_time": "2023-10-23T04:41:46.142Z"
      },
      {
        "duration": 226,
        "start_time": "2023-10-23T04:41:46.154Z"
      },
      {
        "duration": 5,
        "start_time": "2023-10-23T04:41:46.382Z"
      },
      {
        "duration": 377,
        "start_time": "2023-10-23T04:41:46.389Z"
      },
      {
        "duration": 260,
        "start_time": "2023-10-23T04:41:46.769Z"
      },
      {
        "duration": 9,
        "start_time": "2023-10-23T04:41:47.037Z"
      },
      {
        "duration": 50,
        "start_time": "2023-10-23T04:41:47.049Z"
      },
      {
        "duration": 20,
        "start_time": "2023-10-23T04:41:47.104Z"
      },
      {
        "duration": 2117,
        "start_time": "2023-10-23T04:41:47.127Z"
      },
      {
        "duration": 1598,
        "start_time": "2023-10-23T04:43:20.047Z"
      },
      {
        "duration": 1521,
        "start_time": "2023-10-23T04:44:07.130Z"
      },
      {
        "duration": 9,
        "start_time": "2023-10-23T04:44:20.232Z"
      },
      {
        "duration": 14,
        "start_time": "2023-10-23T04:44:28.620Z"
      },
      {
        "duration": 1539,
        "start_time": "2023-10-23T04:44:38.331Z"
      },
      {
        "duration": 8,
        "start_time": "2023-10-23T04:45:40.061Z"
      },
      {
        "duration": 8,
        "start_time": "2023-10-23T04:45:51.544Z"
      },
      {
        "duration": 12,
        "start_time": "2023-10-23T04:46:00.127Z"
      },
      {
        "duration": 10,
        "start_time": "2023-10-23T04:46:17.555Z"
      },
      {
        "duration": 11,
        "start_time": "2023-10-23T04:46:32.531Z"
      },
      {
        "duration": 12,
        "start_time": "2023-10-23T04:46:37.028Z"
      },
      {
        "duration": 10,
        "start_time": "2023-10-23T04:47:26.826Z"
      },
      {
        "duration": 13,
        "start_time": "2023-10-23T04:47:57.865Z"
      },
      {
        "duration": 9,
        "start_time": "2023-10-23T04:51:22.562Z"
      },
      {
        "duration": 28,
        "start_time": "2023-10-23T04:53:01.069Z"
      },
      {
        "duration": 25,
        "start_time": "2023-10-23T04:57:20.137Z"
      },
      {
        "duration": 1474,
        "start_time": "2023-10-23T04:57:37.353Z"
      },
      {
        "duration": 15,
        "start_time": "2023-10-23T04:57:55.027Z"
      },
      {
        "duration": 440,
        "start_time": "2023-10-23T05:17:37.076Z"
      },
      {
        "duration": 95,
        "start_time": "2023-10-23T05:22:18.271Z"
      },
      {
        "duration": 342,
        "start_time": "2023-10-23T05:24:36.798Z"
      },
      {
        "duration": 1426,
        "start_time": "2023-10-23T05:51:40.870Z"
      },
      {
        "duration": 211,
        "start_time": "2023-10-23T05:51:42.298Z"
      },
      {
        "duration": 16,
        "start_time": "2023-10-23T05:51:42.514Z"
      },
      {
        "duration": 33,
        "start_time": "2023-10-23T05:51:42.532Z"
      },
      {
        "duration": 44,
        "start_time": "2023-10-23T05:51:42.568Z"
      },
      {
        "duration": 32,
        "start_time": "2023-10-23T05:51:42.614Z"
      },
      {
        "duration": 32,
        "start_time": "2023-10-23T05:51:42.648Z"
      },
      {
        "duration": 41,
        "start_time": "2023-10-23T05:51:42.682Z"
      },
      {
        "duration": 37,
        "start_time": "2023-10-23T05:51:42.725Z"
      },
      {
        "duration": 23,
        "start_time": "2023-10-23T05:51:42.764Z"
      },
      {
        "duration": 56,
        "start_time": "2023-10-23T05:51:42.789Z"
      },
      {
        "duration": 27,
        "start_time": "2023-10-23T05:51:42.847Z"
      },
      {
        "duration": 32,
        "start_time": "2023-10-23T05:51:42.876Z"
      },
      {
        "duration": 331,
        "start_time": "2023-10-23T05:51:42.912Z"
      },
      {
        "duration": 333,
        "start_time": "2023-10-23T05:51:43.245Z"
      },
      {
        "duration": 250,
        "start_time": "2023-10-23T05:51:43.580Z"
      },
      {
        "duration": 354,
        "start_time": "2023-10-23T05:51:43.831Z"
      },
      {
        "duration": 254,
        "start_time": "2023-10-23T05:51:44.187Z"
      },
      {
        "duration": 348,
        "start_time": "2023-10-23T05:51:44.443Z"
      },
      {
        "duration": 16,
        "start_time": "2023-10-23T05:51:44.803Z"
      },
      {
        "duration": 197,
        "start_time": "2023-10-23T05:51:44.821Z"
      },
      {
        "duration": 5,
        "start_time": "2023-10-23T05:51:45.020Z"
      },
      {
        "duration": 233,
        "start_time": "2023-10-23T05:51:45.026Z"
      },
      {
        "duration": 5,
        "start_time": "2023-10-23T05:51:45.261Z"
      },
      {
        "duration": 251,
        "start_time": "2023-10-23T05:51:45.268Z"
      },
      {
        "duration": 130,
        "start_time": "2023-10-23T05:51:45.521Z"
      },
      {
        "duration": 6,
        "start_time": "2023-10-23T05:51:45.653Z"
      },
      {
        "duration": 59,
        "start_time": "2023-10-23T05:51:45.661Z"
      },
      {
        "duration": 14,
        "start_time": "2023-10-23T05:51:45.722Z"
      },
      {
        "duration": 17,
        "start_time": "2023-10-23T05:51:45.738Z"
      },
      {
        "duration": 16,
        "start_time": "2023-10-23T05:51:45.757Z"
      },
      {
        "duration": 50,
        "start_time": "2023-10-23T05:51:45.775Z"
      },
      {
        "duration": 16,
        "start_time": "2023-10-23T05:51:45.827Z"
      },
      {
        "duration": 438,
        "start_time": "2023-10-23T05:51:45.844Z"
      },
      {
        "duration": 377,
        "start_time": "2023-10-23T05:51:46.284Z"
      },
      {
        "duration": 26,
        "start_time": "2023-10-23T06:07:47.638Z"
      },
      {
        "duration": 26,
        "start_time": "2023-10-23T06:07:50.636Z"
      },
      {
        "duration": 108,
        "start_time": "2023-10-23T06:08:25.558Z"
      },
      {
        "duration": 3,
        "start_time": "2023-10-23T06:20:27.489Z"
      },
      {
        "duration": 14,
        "start_time": "2023-10-23T06:20:35.229Z"
      },
      {
        "duration": 14,
        "start_time": "2023-10-23T06:20:39.437Z"
      },
      {
        "duration": 75,
        "start_time": "2023-10-23T06:21:29.325Z"
      },
      {
        "duration": 67,
        "start_time": "2023-10-23T06:25:27.109Z"
      },
      {
        "duration": 7,
        "start_time": "2023-10-23T06:26:16.596Z"
      },
      {
        "duration": 73,
        "start_time": "2023-10-23T06:27:08.869Z"
      },
      {
        "duration": 6,
        "start_time": "2023-10-23T06:28:08.859Z"
      },
      {
        "duration": 30,
        "start_time": "2023-10-23T06:44:52.357Z"
      },
      {
        "duration": 8,
        "start_time": "2023-10-23T06:58:56.916Z"
      },
      {
        "duration": 8,
        "start_time": "2023-10-23T06:59:56.470Z"
      },
      {
        "duration": 8,
        "start_time": "2023-10-23T07:00:26.444Z"
      },
      {
        "duration": 9,
        "start_time": "2023-10-23T07:00:31.788Z"
      },
      {
        "duration": 100,
        "start_time": "2023-10-23T07:07:09.273Z"
      },
      {
        "duration": 239,
        "start_time": "2023-10-23T07:08:31.917Z"
      },
      {
        "duration": 225,
        "start_time": "2023-10-23T07:08:40.261Z"
      },
      {
        "duration": 72,
        "start_time": "2023-10-23T07:09:11.872Z"
      },
      {
        "duration": 349,
        "start_time": "2023-10-23T07:11:47.415Z"
      },
      {
        "duration": 350,
        "start_time": "2023-10-23T07:14:06.915Z"
      },
      {
        "duration": 356,
        "start_time": "2023-10-23T07:14:19.595Z"
      },
      {
        "duration": 165,
        "start_time": "2023-10-23T07:24:20.619Z"
      },
      {
        "duration": 190,
        "start_time": "2023-10-23T07:24:35.424Z"
      },
      {
        "duration": 196,
        "start_time": "2023-10-23T07:24:47.458Z"
      },
      {
        "duration": 189,
        "start_time": "2023-10-23T07:24:55.295Z"
      },
      {
        "duration": 346,
        "start_time": "2023-10-23T07:25:04.718Z"
      },
      {
        "duration": 179,
        "start_time": "2023-10-23T07:25:11.610Z"
      },
      {
        "duration": 169,
        "start_time": "2023-10-23T07:26:08.315Z"
      },
      {
        "duration": 177,
        "start_time": "2023-10-23T07:26:14.279Z"
      },
      {
        "duration": 185,
        "start_time": "2023-10-23T07:26:19.968Z"
      },
      {
        "duration": 365,
        "start_time": "2023-10-23T07:26:40.590Z"
      },
      {
        "duration": 165,
        "start_time": "2023-10-23T07:26:46.082Z"
      },
      {
        "duration": 210,
        "start_time": "2023-10-23T07:27:00.869Z"
      },
      {
        "duration": 143,
        "start_time": "2023-10-23T10:22:39.538Z"
      },
      {
        "duration": 150,
        "start_time": "2023-10-23T10:22:45.045Z"
      },
      {
        "duration": 250,
        "start_time": "2023-10-23T10:22:51.081Z"
      },
      {
        "duration": 56,
        "start_time": "2023-10-24T05:34:10.384Z"
      },
      {
        "duration": 1394,
        "start_time": "2023-10-24T05:34:13.939Z"
      },
      {
        "duration": 194,
        "start_time": "2023-10-24T05:34:15.336Z"
      },
      {
        "duration": 13,
        "start_time": "2023-10-24T05:34:15.532Z"
      },
      {
        "duration": 12,
        "start_time": "2023-10-24T05:34:15.547Z"
      },
      {
        "duration": 21,
        "start_time": "2023-10-24T05:34:15.561Z"
      },
      {
        "duration": 22,
        "start_time": "2023-10-24T05:34:15.584Z"
      },
      {
        "duration": 6,
        "start_time": "2023-10-24T05:34:15.608Z"
      },
      {
        "duration": 9,
        "start_time": "2023-10-24T05:34:15.615Z"
      },
      {
        "duration": 22,
        "start_time": "2023-10-24T05:34:15.626Z"
      },
      {
        "duration": 37,
        "start_time": "2023-10-24T05:34:15.650Z"
      },
      {
        "duration": 9,
        "start_time": "2023-10-24T05:34:15.689Z"
      },
      {
        "duration": 15,
        "start_time": "2023-10-24T05:34:15.699Z"
      },
      {
        "duration": 18,
        "start_time": "2023-10-24T05:34:15.715Z"
      },
      {
        "duration": 23,
        "start_time": "2023-10-24T05:34:15.735Z"
      },
      {
        "duration": 26,
        "start_time": "2023-10-24T05:34:15.760Z"
      },
      {
        "duration": 9,
        "start_time": "2023-10-24T05:34:15.788Z"
      },
      {
        "duration": 14,
        "start_time": "2023-10-24T05:34:15.799Z"
      },
      {
        "duration": 314,
        "start_time": "2023-10-24T05:34:15.815Z"
      },
      {
        "duration": 331,
        "start_time": "2023-10-24T05:34:16.130Z"
      },
      {
        "duration": 243,
        "start_time": "2023-10-24T05:34:16.463Z"
      },
      {
        "duration": 419,
        "start_time": "2023-10-24T05:34:16.708Z"
      },
      {
        "duration": 248,
        "start_time": "2023-10-24T05:34:17.129Z"
      },
      {
        "duration": 331,
        "start_time": "2023-10-24T05:34:17.379Z"
      },
      {
        "duration": 12,
        "start_time": "2023-10-24T05:34:17.712Z"
      },
      {
        "duration": 172,
        "start_time": "2023-10-24T05:34:17.725Z"
      },
      {
        "duration": 5,
        "start_time": "2023-10-24T05:34:17.898Z"
      },
      {
        "duration": 193,
        "start_time": "2023-10-24T05:34:17.905Z"
      },
      {
        "duration": 183,
        "start_time": "2023-10-24T05:34:18.102Z"
      },
      {
        "duration": 5,
        "start_time": "2023-10-24T05:34:18.287Z"
      },
      {
        "duration": 333,
        "start_time": "2023-10-24T05:34:18.294Z"
      },
      {
        "duration": 151,
        "start_time": "2023-10-24T05:34:18.629Z"
      },
      {
        "duration": 6,
        "start_time": "2023-10-24T05:34:18.782Z"
      },
      {
        "duration": 51,
        "start_time": "2023-10-24T05:34:18.789Z"
      },
      {
        "duration": 11,
        "start_time": "2023-10-24T05:34:18.842Z"
      },
      {
        "duration": 10,
        "start_time": "2023-10-24T05:34:18.855Z"
      },
      {
        "duration": 23,
        "start_time": "2023-10-24T05:34:18.867Z"
      },
      {
        "duration": 31,
        "start_time": "2023-10-24T05:34:18.892Z"
      },
      {
        "duration": 23,
        "start_time": "2023-10-24T05:34:18.925Z"
      },
      {
        "duration": 365,
        "start_time": "2023-10-24T05:34:18.950Z"
      },
      {
        "duration": 362,
        "start_time": "2023-10-24T05:34:19.317Z"
      },
      {
        "duration": 227,
        "start_time": "2023-10-24T05:34:37.554Z"
      },
      {
        "duration": 87,
        "start_time": "2023-10-24T05:44:01.219Z"
      },
      {
        "duration": 90,
        "start_time": "2023-10-24T05:44:22.694Z"
      },
      {
        "duration": 80,
        "start_time": "2023-10-24T05:44:45.463Z"
      },
      {
        "duration": 28,
        "start_time": "2023-10-24T05:45:31.400Z"
      },
      {
        "duration": 74,
        "start_time": "2023-10-24T05:46:05.836Z"
      },
      {
        "duration": 16,
        "start_time": "2023-10-24T05:46:35.872Z"
      },
      {
        "duration": 16,
        "start_time": "2023-10-24T05:49:38.817Z"
      },
      {
        "duration": 16,
        "start_time": "2023-10-24T05:49:53.709Z"
      },
      {
        "duration": 101,
        "start_time": "2023-10-24T05:50:56.670Z"
      },
      {
        "duration": 5,
        "start_time": "2023-10-24T05:51:58.886Z"
      },
      {
        "duration": 10,
        "start_time": "2023-10-24T05:52:22.522Z"
      },
      {
        "duration": 121,
        "start_time": "2023-10-24T05:52:58.178Z"
      },
      {
        "duration": 6,
        "start_time": "2023-10-24T05:53:11.063Z"
      },
      {
        "duration": 3,
        "start_time": "2023-10-24T05:53:14.028Z"
      },
      {
        "duration": 121,
        "start_time": "2023-10-24T05:53:14.033Z"
      },
      {
        "duration": 10,
        "start_time": "2023-10-24T05:53:14.156Z"
      },
      {
        "duration": 21,
        "start_time": "2023-10-24T05:53:14.167Z"
      },
      {
        "duration": 38,
        "start_time": "2023-10-24T05:53:14.190Z"
      },
      {
        "duration": 51,
        "start_time": "2023-10-24T05:53:14.230Z"
      },
      {
        "duration": 10,
        "start_time": "2023-10-24T05:53:14.283Z"
      },
      {
        "duration": 56,
        "start_time": "2023-10-24T05:53:14.295Z"
      },
      {
        "duration": 29,
        "start_time": "2023-10-24T05:53:14.353Z"
      },
      {
        "duration": 49,
        "start_time": "2023-10-24T05:53:14.384Z"
      },
      {
        "duration": 8,
        "start_time": "2023-10-24T05:53:14.436Z"
      },
      {
        "duration": 15,
        "start_time": "2023-10-24T05:53:14.446Z"
      },
      {
        "duration": 28,
        "start_time": "2023-10-24T05:53:14.463Z"
      },
      {
        "duration": 13,
        "start_time": "2023-10-24T05:53:14.493Z"
      },
      {
        "duration": 20,
        "start_time": "2023-10-24T05:53:14.508Z"
      },
      {
        "duration": 25,
        "start_time": "2023-10-24T05:53:14.530Z"
      },
      {
        "duration": 21,
        "start_time": "2023-10-24T05:53:14.557Z"
      },
      {
        "duration": 318,
        "start_time": "2023-10-24T05:53:14.579Z"
      },
      {
        "duration": 237,
        "start_time": "2023-10-24T05:53:14.899Z"
      },
      {
        "duration": 254,
        "start_time": "2023-10-24T05:53:15.137Z"
      },
      {
        "duration": 345,
        "start_time": "2023-10-24T05:53:15.393Z"
      },
      {
        "duration": 245,
        "start_time": "2023-10-24T05:53:15.740Z"
      },
      {
        "duration": 328,
        "start_time": "2023-10-24T05:53:15.986Z"
      },
      {
        "duration": 12,
        "start_time": "2023-10-24T05:53:16.316Z"
      },
      {
        "duration": 167,
        "start_time": "2023-10-24T05:53:16.329Z"
      },
      {
        "duration": 6,
        "start_time": "2023-10-24T05:53:16.498Z"
      },
      {
        "duration": 189,
        "start_time": "2023-10-24T05:53:16.506Z"
      },
      {
        "duration": 258,
        "start_time": "2023-10-24T05:53:16.698Z"
      },
      {
        "duration": 5,
        "start_time": "2023-10-24T05:53:16.960Z"
      },
      {
        "duration": 110,
        "start_time": "2023-10-24T05:53:16.966Z"
      },
      {
        "duration": 151,
        "start_time": "2023-10-24T05:53:17.077Z"
      },
      {
        "duration": 7,
        "start_time": "2023-10-24T05:53:17.229Z"
      },
      {
        "duration": 52,
        "start_time": "2023-10-24T05:53:17.247Z"
      },
      {
        "duration": 21,
        "start_time": "2023-10-24T05:53:17.301Z"
      },
      {
        "duration": 30,
        "start_time": "2023-10-24T05:53:17.324Z"
      },
      {
        "duration": 40,
        "start_time": "2023-10-24T05:53:17.356Z"
      },
      {
        "duration": 40,
        "start_time": "2023-10-24T05:53:17.397Z"
      },
      {
        "duration": 31,
        "start_time": "2023-10-24T05:53:17.439Z"
      },
      {
        "duration": 395,
        "start_time": "2023-10-24T05:53:17.472Z"
      },
      {
        "duration": 333,
        "start_time": "2023-10-24T05:53:17.869Z"
      },
      {
        "duration": 7,
        "start_time": "2023-10-24T05:53:54.091Z"
      },
      {
        "duration": 11,
        "start_time": "2023-10-24T05:54:02.695Z"
      },
      {
        "duration": 29,
        "start_time": "2023-10-24T05:54:31.728Z"
      },
      {
        "duration": 16,
        "start_time": "2023-10-24T05:54:36.624Z"
      },
      {
        "duration": 139,
        "start_time": "2023-10-24T05:55:02.739Z"
      },
      {
        "duration": 44,
        "start_time": "2023-10-24T06:02:44.720Z"
      },
      {
        "duration": 114,
        "start_time": "2023-10-24T06:07:17.916Z"
      },
      {
        "duration": 118,
        "start_time": "2023-10-24T06:07:31.743Z"
      },
      {
        "duration": 1372,
        "start_time": "2023-10-24T06:48:25.639Z"
      },
      {
        "duration": 192,
        "start_time": "2023-10-24T06:48:27.013Z"
      },
      {
        "duration": 15,
        "start_time": "2023-10-24T06:48:27.207Z"
      },
      {
        "duration": 27,
        "start_time": "2023-10-24T06:48:27.225Z"
      },
      {
        "duration": 37,
        "start_time": "2023-10-24T06:48:27.254Z"
      },
      {
        "duration": 36,
        "start_time": "2023-10-24T06:48:27.293Z"
      },
      {
        "duration": 37,
        "start_time": "2023-10-24T06:48:27.332Z"
      },
      {
        "duration": 16,
        "start_time": "2023-10-24T06:48:27.370Z"
      },
      {
        "duration": 46,
        "start_time": "2023-10-24T06:48:27.389Z"
      },
      {
        "duration": 50,
        "start_time": "2023-10-24T06:48:27.440Z"
      },
      {
        "duration": 19,
        "start_time": "2023-10-24T06:48:27.491Z"
      },
      {
        "duration": 22,
        "start_time": "2023-10-24T06:48:27.513Z"
      },
      {
        "duration": 37,
        "start_time": "2023-10-24T06:48:27.537Z"
      },
      {
        "duration": 45,
        "start_time": "2023-10-24T06:48:27.576Z"
      },
      {
        "duration": 28,
        "start_time": "2023-10-24T06:48:27.623Z"
      },
      {
        "duration": 9,
        "start_time": "2023-10-24T06:48:27.653Z"
      },
      {
        "duration": 18,
        "start_time": "2023-10-24T06:48:27.664Z"
      },
      {
        "duration": 302,
        "start_time": "2023-10-24T06:48:27.684Z"
      },
      {
        "duration": 305,
        "start_time": "2023-10-24T06:48:27.987Z"
      },
      {
        "duration": 216,
        "start_time": "2023-10-24T06:48:28.293Z"
      },
      {
        "duration": 354,
        "start_time": "2023-10-24T06:48:28.511Z"
      },
      {
        "duration": 220,
        "start_time": "2023-10-24T06:48:28.867Z"
      },
      {
        "duration": 369,
        "start_time": "2023-10-24T06:48:29.089Z"
      },
      {
        "duration": 13,
        "start_time": "2023-10-24T06:48:29.460Z"
      },
      {
        "duration": 167,
        "start_time": "2023-10-24T06:48:29.475Z"
      },
      {
        "duration": 6,
        "start_time": "2023-10-24T06:48:29.644Z"
      },
      {
        "duration": 237,
        "start_time": "2023-10-24T06:48:29.651Z"
      },
      {
        "duration": 174,
        "start_time": "2023-10-24T06:48:29.892Z"
      },
      {
        "duration": 5,
        "start_time": "2023-10-24T06:48:30.067Z"
      },
      {
        "duration": 252,
        "start_time": "2023-10-24T06:48:30.074Z"
      },
      {
        "duration": 0,
        "start_time": "2023-10-24T06:48:30.328Z"
      },
      {
        "duration": 0,
        "start_time": "2023-10-24T06:48:30.329Z"
      },
      {
        "duration": 0,
        "start_time": "2023-10-24T06:48:30.331Z"
      },
      {
        "duration": 0,
        "start_time": "2023-10-24T06:48:30.332Z"
      },
      {
        "duration": 0,
        "start_time": "2023-10-24T06:48:30.333Z"
      },
      {
        "duration": 0,
        "start_time": "2023-10-24T06:48:30.335Z"
      },
      {
        "duration": 0,
        "start_time": "2023-10-24T06:48:30.336Z"
      },
      {
        "duration": 0,
        "start_time": "2023-10-24T06:48:30.339Z"
      },
      {
        "duration": 0,
        "start_time": "2023-10-24T06:48:30.341Z"
      },
      {
        "duration": 0,
        "start_time": "2023-10-24T06:48:30.342Z"
      },
      {
        "duration": 6,
        "start_time": "2023-10-24T15:20:36.486Z"
      },
      {
        "duration": 4,
        "start_time": "2023-10-24T15:20:52.256Z"
      },
      {
        "duration": 80,
        "start_time": "2023-10-24T15:21:13.371Z"
      },
      {
        "duration": 3,
        "start_time": "2023-10-24T15:22:27.926Z"
      },
      {
        "duration": 104,
        "start_time": "2023-10-24T15:22:27.933Z"
      },
      {
        "duration": 9,
        "start_time": "2023-10-24T15:22:28.039Z"
      },
      {
        "duration": 35,
        "start_time": "2023-10-24T15:22:28.049Z"
      },
      {
        "duration": 21,
        "start_time": "2023-10-24T15:22:28.086Z"
      },
      {
        "duration": 25,
        "start_time": "2023-10-24T15:22:28.109Z"
      },
      {
        "duration": 47,
        "start_time": "2023-10-24T15:22:28.136Z"
      },
      {
        "duration": 28,
        "start_time": "2023-10-24T15:22:28.185Z"
      },
      {
        "duration": 20,
        "start_time": "2023-10-24T15:22:28.214Z"
      },
      {
        "duration": 11,
        "start_time": "2023-10-24T15:22:28.236Z"
      },
      {
        "duration": 35,
        "start_time": "2023-10-24T15:22:28.250Z"
      },
      {
        "duration": 8,
        "start_time": "2023-10-24T15:22:28.287Z"
      },
      {
        "duration": 10,
        "start_time": "2023-10-24T15:22:28.296Z"
      },
      {
        "duration": 11,
        "start_time": "2023-10-24T15:22:28.308Z"
      },
      {
        "duration": 35,
        "start_time": "2023-10-24T15:22:28.321Z"
      },
      {
        "duration": 13,
        "start_time": "2023-10-24T15:22:28.358Z"
      },
      {
        "duration": 17,
        "start_time": "2023-10-24T15:22:28.373Z"
      },
      {
        "duration": 8,
        "start_time": "2023-10-24T15:22:28.392Z"
      },
      {
        "duration": 320,
        "start_time": "2023-10-24T15:22:28.401Z"
      },
      {
        "duration": 239,
        "start_time": "2023-10-24T15:22:28.723Z"
      },
      {
        "duration": 243,
        "start_time": "2023-10-24T15:22:28.964Z"
      },
      {
        "duration": 332,
        "start_time": "2023-10-24T15:22:29.209Z"
      },
      {
        "duration": 248,
        "start_time": "2023-10-24T15:22:29.543Z"
      },
      {
        "duration": 356,
        "start_time": "2023-10-24T15:22:29.794Z"
      },
      {
        "duration": 13,
        "start_time": "2023-10-24T15:22:30.151Z"
      },
      {
        "duration": 236,
        "start_time": "2023-10-24T15:22:30.166Z"
      },
      {
        "duration": 6,
        "start_time": "2023-10-24T15:22:30.403Z"
      },
      {
        "duration": 203,
        "start_time": "2023-10-24T15:22:30.410Z"
      },
      {
        "duration": 272,
        "start_time": "2023-10-24T15:22:30.615Z"
      },
      {
        "duration": 5,
        "start_time": "2023-10-24T15:22:30.889Z"
      },
      {
        "duration": 128,
        "start_time": "2023-10-24T15:22:30.896Z"
      },
      {
        "duration": 159,
        "start_time": "2023-10-24T15:22:31.025Z"
      },
      {
        "duration": 78,
        "start_time": "2023-10-24T15:22:31.185Z"
      },
      {
        "duration": 312,
        "start_time": "2023-10-24T15:22:31.264Z"
      },
      {
        "duration": 24,
        "start_time": "2023-10-24T15:22:31.577Z"
      },
      {
        "duration": 36,
        "start_time": "2023-10-24T15:22:31.602Z"
      },
      {
        "duration": 47,
        "start_time": "2023-10-24T15:22:31.640Z"
      },
      {
        "duration": 51,
        "start_time": "2023-10-24T15:22:31.688Z"
      },
      {
        "duration": 22,
        "start_time": "2023-10-24T15:22:31.741Z"
      },
      {
        "duration": 345,
        "start_time": "2023-10-24T15:22:31.765Z"
      },
      {
        "duration": 356,
        "start_time": "2023-10-24T15:22:32.113Z"
      },
      {
        "duration": 91,
        "start_time": "2023-10-24T15:23:10.236Z"
      },
      {
        "duration": 153,
        "start_time": "2023-10-24T15:25:27.200Z"
      },
      {
        "duration": 41,
        "start_time": "2023-10-24T15:37:41.511Z"
      },
      {
        "duration": 154,
        "start_time": "2023-10-24T15:37:45.147Z"
      },
      {
        "duration": 8,
        "start_time": "2023-10-24T15:37:47.288Z"
      },
      {
        "duration": 26,
        "start_time": "2023-10-24T15:37:49.519Z"
      },
      {
        "duration": 44,
        "start_time": "2023-10-24T15:38:34.485Z"
      },
      {
        "duration": 337,
        "start_time": "2023-10-24T15:42:55.747Z"
      },
      {
        "duration": 308,
        "start_time": "2023-10-24T15:43:00.984Z"
      },
      {
        "duration": 3,
        "start_time": "2023-10-24T15:44:33.905Z"
      },
      {
        "duration": 81,
        "start_time": "2023-10-24T15:44:33.909Z"
      },
      {
        "duration": 8,
        "start_time": "2023-10-24T15:44:33.992Z"
      },
      {
        "duration": 27,
        "start_time": "2023-10-24T15:44:34.001Z"
      },
      {
        "duration": 26,
        "start_time": "2023-10-24T15:44:34.030Z"
      },
      {
        "duration": 14,
        "start_time": "2023-10-24T15:44:34.058Z"
      },
      {
        "duration": 18,
        "start_time": "2023-10-24T15:44:34.073Z"
      },
      {
        "duration": 54,
        "start_time": "2023-10-24T15:44:34.093Z"
      },
      {
        "duration": 47,
        "start_time": "2023-10-24T15:44:34.149Z"
      },
      {
        "duration": 18,
        "start_time": "2023-10-24T15:44:34.198Z"
      },
      {
        "duration": 55,
        "start_time": "2023-10-24T15:44:34.218Z"
      },
      {
        "duration": 41,
        "start_time": "2023-10-24T15:44:34.274Z"
      },
      {
        "duration": 21,
        "start_time": "2023-10-24T15:44:34.317Z"
      },
      {
        "duration": 32,
        "start_time": "2023-10-24T15:44:34.340Z"
      },
      {
        "duration": 18,
        "start_time": "2023-10-24T15:44:34.374Z"
      },
      {
        "duration": 22,
        "start_time": "2023-10-24T15:44:34.394Z"
      },
      {
        "duration": 18,
        "start_time": "2023-10-24T15:44:34.418Z"
      },
      {
        "duration": 13,
        "start_time": "2023-10-24T15:44:34.438Z"
      },
      {
        "duration": 313,
        "start_time": "2023-10-24T15:44:34.453Z"
      },
      {
        "duration": 252,
        "start_time": "2023-10-24T15:44:34.768Z"
      },
      {
        "duration": 266,
        "start_time": "2023-10-24T15:44:35.022Z"
      },
      {
        "duration": 329,
        "start_time": "2023-10-24T15:44:35.290Z"
      },
      {
        "duration": 229,
        "start_time": "2023-10-24T15:44:35.621Z"
      },
      {
        "duration": 365,
        "start_time": "2023-10-24T15:44:35.853Z"
      },
      {
        "duration": 12,
        "start_time": "2023-10-24T15:44:36.221Z"
      },
      {
        "duration": 173,
        "start_time": "2023-10-24T15:44:36.247Z"
      },
      {
        "duration": 5,
        "start_time": "2023-10-24T15:44:36.422Z"
      },
      {
        "duration": 282,
        "start_time": "2023-10-24T15:44:36.428Z"
      },
      {
        "duration": 177,
        "start_time": "2023-10-24T15:44:36.713Z"
      },
      {
        "duration": 6,
        "start_time": "2023-10-24T15:44:36.892Z"
      },
      {
        "duration": 58,
        "start_time": "2023-10-24T15:44:36.899Z"
      },
      {
        "duration": 145,
        "start_time": "2023-10-24T15:44:36.958Z"
      },
      {
        "duration": 6,
        "start_time": "2023-10-24T15:44:37.105Z"
      },
      {
        "duration": 69,
        "start_time": "2023-10-24T15:44:37.113Z"
      },
      {
        "duration": 15,
        "start_time": "2023-10-24T15:44:37.184Z"
      },
      {
        "duration": 42,
        "start_time": "2023-10-24T15:44:37.201Z"
      },
      {
        "duration": 25,
        "start_time": "2023-10-24T15:44:37.245Z"
      },
      {
        "duration": 70,
        "start_time": "2023-10-24T15:44:37.272Z"
      },
      {
        "duration": 16,
        "start_time": "2023-10-24T15:44:37.344Z"
      },
      {
        "duration": 354,
        "start_time": "2023-10-24T15:44:37.361Z"
      },
      {
        "duration": 346,
        "start_time": "2023-10-24T15:44:37.717Z"
      },
      {
        "duration": 1260,
        "start_time": "2023-10-24T15:59:19.646Z"
      },
      {
        "duration": 185,
        "start_time": "2023-10-24T15:59:20.908Z"
      },
      {
        "duration": 12,
        "start_time": "2023-10-24T15:59:21.095Z"
      },
      {
        "duration": 28,
        "start_time": "2023-10-24T15:59:21.108Z"
      },
      {
        "duration": 51,
        "start_time": "2023-10-24T15:59:21.137Z"
      },
      {
        "duration": 23,
        "start_time": "2023-10-24T15:59:21.190Z"
      },
      {
        "duration": 17,
        "start_time": "2023-10-24T15:59:21.215Z"
      },
      {
        "duration": 21,
        "start_time": "2023-10-24T15:59:21.234Z"
      },
      {
        "duration": 13,
        "start_time": "2023-10-24T15:59:21.256Z"
      },
      {
        "duration": 4,
        "start_time": "2023-10-24T15:59:21.272Z"
      },
      {
        "duration": 30,
        "start_time": "2023-10-24T15:59:21.277Z"
      },
      {
        "duration": 7,
        "start_time": "2023-10-24T15:59:21.309Z"
      },
      {
        "duration": 13,
        "start_time": "2023-10-24T15:59:21.318Z"
      },
      {
        "duration": 10,
        "start_time": "2023-10-24T15:59:21.344Z"
      },
      {
        "duration": 13,
        "start_time": "2023-10-24T15:59:21.355Z"
      },
      {
        "duration": 22,
        "start_time": "2023-10-24T15:59:21.370Z"
      },
      {
        "duration": 6,
        "start_time": "2023-10-24T15:59:21.394Z"
      },
      {
        "duration": 14,
        "start_time": "2023-10-24T15:59:21.401Z"
      },
      {
        "duration": 277,
        "start_time": "2023-10-24T15:59:21.417Z"
      },
      {
        "duration": 291,
        "start_time": "2023-10-24T15:59:21.696Z"
      },
      {
        "duration": 205,
        "start_time": "2023-10-24T15:59:21.989Z"
      },
      {
        "duration": 398,
        "start_time": "2023-10-24T15:59:22.196Z"
      },
      {
        "duration": 205,
        "start_time": "2023-10-24T15:59:22.595Z"
      },
      {
        "duration": 309,
        "start_time": "2023-10-24T15:59:22.802Z"
      },
      {
        "duration": 11,
        "start_time": "2023-10-24T15:59:23.112Z"
      },
      {
        "duration": 152,
        "start_time": "2023-10-24T15:59:23.124Z"
      },
      {
        "duration": 4,
        "start_time": "2023-10-24T15:59:23.278Z"
      },
      {
        "duration": 167,
        "start_time": "2023-10-24T15:59:23.285Z"
      },
      {
        "duration": 159,
        "start_time": "2023-10-24T15:59:23.453Z"
      },
      {
        "duration": 5,
        "start_time": "2023-10-24T15:59:23.614Z"
      },
      {
        "duration": 134,
        "start_time": "2023-10-24T15:59:23.621Z"
      },
      {
        "duration": 158,
        "start_time": "2023-10-24T15:59:23.757Z"
      },
      {
        "duration": 6,
        "start_time": "2023-10-24T15:59:23.916Z"
      },
      {
        "duration": 35,
        "start_time": "2023-10-24T15:59:23.924Z"
      },
      {
        "duration": 11,
        "start_time": "2023-10-24T15:59:23.961Z"
      },
      {
        "duration": 15,
        "start_time": "2023-10-24T15:59:23.974Z"
      },
      {
        "duration": 36,
        "start_time": "2023-10-24T15:59:23.992Z"
      },
      {
        "duration": 23,
        "start_time": "2023-10-24T15:59:24.030Z"
      },
      {
        "duration": 13,
        "start_time": "2023-10-24T15:59:24.055Z"
      },
      {
        "duration": 314,
        "start_time": "2023-10-24T15:59:24.070Z"
      },
      {
        "duration": 328,
        "start_time": "2023-10-24T15:59:24.386Z"
      }
    ],
    "kernelspec": {
      "display_name": "Python 3 (ipykernel)",
      "language": "python",
      "name": "python3"
    },
    "language_info": {
      "codemirror_mode": {
        "name": "ipython",
        "version": 3
      },
      "file_extension": ".py",
      "mimetype": "text/x-python",
      "name": "python",
      "nbconvert_exporter": "python",
      "pygments_lexer": "ipython3",
      "version": "3.9.5"
    },
    "toc": {
      "base_numbering": 1,
      "nav_menu": {
        "height": "180px",
        "width": "234.375px"
      },
      "number_sections": true,
      "sideBar": true,
      "skip_h1_title": true,
      "title_cell": "Table of Contents",
      "title_sidebar": "Contents",
      "toc_cell": false,
      "toc_position": {},
      "toc_section_display": true,
      "toc_window_display": false
    },
    "colab": {
      "provenance": []
    }
  },
  "nbformat": 4,
  "nbformat_minor": 0
}